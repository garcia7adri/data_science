{
 "cells": [
  {
   "cell_type": "markdown",
   "id": "ae67d890",
   "metadata": {},
   "source": [
    "Create a class named \"restaurante\", a method describing the menu and 3 instances."
   ]
  },
  {
   "cell_type": "code",
   "execution_count": 1,
   "id": "7dea500a",
   "metadata": {},
   "outputs": [],
   "source": [
    "class Restaurante ():\n",
    "\n",
    "    def __init__(self,nombre, tipo_de_cocina, menu):\n",
    "      self.nombre = nombre\n",
    "      self.tipo_de_cocina = tipo_de_cocina\n",
    "      self.menu = menu\n",
    "\n",
    "    def descripcion(self):\n",
    "      print(f\"El nombre del restaurante es {self.nombre}. El tipo de cocina es {self.tipo_de_cocina}. El menú es: \")\n",
    "      for plato, precio in self.menu.items():\n",
    "        print(f\"- Nombre del plato: {plato} \\t precio:  {precio}\")"
   ]
  },
  {
   "cell_type": "code",
   "execution_count": 2,
   "id": "478b3318",
   "metadata": {},
   "outputs": [],
   "source": [
    "asian_taste = Restaurante(\"Asian Taste\", \"china\", menu = {\"Pollo pekinés\": 200000, \"Spring roll\": 50000, \"Hot pot\": 80000})"
   ]
  },
  {
   "cell_type": "code",
   "execution_count": 3,
   "id": "15a804a0",
   "metadata": {},
   "outputs": [
    {
     "name": "stdout",
     "output_type": "stream",
     "text": [
      "El nombre del restaurante es Asian Taste. El tipo de cocina es china. El menú es: \n",
      "- Nombre del plato: Pollo pekinés \t precio:  200000\n",
      "- Nombre del plato: Spring roll \t precio:  50000\n",
      "- Nombre del plato: Hot pot \t precio:  80000\n"
     ]
    }
   ],
   "source": [
    "asian_taste.descripcion()"
   ]
  },
  {
   "cell_type": "code",
   "execution_count": 4,
   "id": "90ba3a64",
   "metadata": {},
   "outputs": [],
   "source": [
    "Crepes_n_waffles=Restaurante(\"Crepes & Waffles\", \"fusión\", {\"Crepe de pollo\": 35000, \"Crepe del pacífico\": 45000, \"Waffle fantasía\":25000})"
   ]
  },
  {
   "cell_type": "code",
   "execution_count": 5,
   "id": "9076718a",
   "metadata": {},
   "outputs": [
    {
     "name": "stdout",
     "output_type": "stream",
     "text": [
      "El nombre del restaurante es Crepes & Waffles. El tipo de cocina es fusión. El menú es: \n",
      "- Nombre del plato: Crepe de pollo \t precio:  35000\n",
      "- Nombre del plato: Crepe del pacífico \t precio:  45000\n",
      "- Nombre del plato: Waffle fantasía \t precio:  25000\n"
     ]
    }
   ],
   "source": [
    "Crepes_n_waffles.descripcion()"
   ]
  },
  {
   "cell_type": "code",
   "execution_count": 6,
   "id": "2ffba661",
   "metadata": {},
   "outputs": [],
   "source": [
    "wok=Restaurante(\"Wok\",\"Fusión asiática\",{\"Wok vietnamita\": 55000, \"Pho\":40000})"
   ]
  },
  {
   "cell_type": "code",
   "execution_count": 7,
   "id": "a073c695",
   "metadata": {},
   "outputs": [
    {
     "name": "stdout",
     "output_type": "stream",
     "text": [
      "El nombre del restaurante es Wok. El tipo de cocina es Fusión asiática. El menú es: \n",
      "- Nombre del plato: Wok vietnamita \t precio:  55000\n",
      "- Nombre del plato: Pho \t precio:  40000\n"
     ]
    }
   ],
   "source": [
    "wok.descripcion()"
   ]
  },
  {
   "cell_type": "code",
   "execution_count": null,
   "id": "24352350",
   "metadata": {},
   "outputs": [],
   "source": []
  }
 ],
 "metadata": {
  "kernelspec": {
   "display_name": "Python 3 (ipykernel)",
   "language": "python",
   "name": "python3"
  },
  "language_info": {
   "codemirror_mode": {
    "name": "ipython",
    "version": 3
   },
   "file_extension": ".py",
   "mimetype": "text/x-python",
   "name": "python",
   "nbconvert_exporter": "python",
   "pygments_lexer": "ipython3",
   "version": "3.10.9"
  }
 },
 "nbformat": 4,
 "nbformat_minor": 5
}
