{
 "cells": [
  {
   "cell_type": "code",
   "execution_count": null,
   "id": "3b946de9",
   "metadata": {},
   "outputs": [],
   "source": [
    "#fourcalculations.py\n",
    "\"\"\"A very simple class exercise for four arithmetic calculations\"\"\"\n",
    "\n",
    "class FourCalculation:\n",
    "    \"A class for four arithmetic calculations\"\n",
    "    \n",
    "    def __init__(self,first,second):\n",
    "        \"\"\"Initialize attributes of FourCalculation.\"\"\"\n",
    "        self.first=first\n",
    "        self.second=second\n",
    "        \n",
    "        if second==0:\n",
    "            raise ValueError(\"The number must NOT be zero.\")\n",
    "    def add(self):\n",
    "            \"\"\"Addition\"\"\"\n",
    "            return self.first + self.second\n",
    "    def mult(self):\n",
    "        \"\"\"Multiplication\"\"\"\n",
    "        return self.first * self.second\n",
    "    def sub(self):\n",
    "        \"\"\"Substraction\"\"\"\n",
    "        return self.first - self.second\n",
    "    def div(self):\n",
    "        \"\"\"Division\"\"\"\n",
    "    \n",
    "        return self.first /self.second\n",
    "#%save fourcalculations.py 1-29    created a file"
   ]
  },
  {
   "cell_type": "code",
   "execution_count": null,
   "id": "a5e271dd",
   "metadata": {},
   "outputs": [],
   "source": [
    "a=FourCalculation(10,3) #constructing an object\n",
    "print(f\"First value is {a.first}\\n\" \n",
    "      f\"Second value is {a.second}\" )"
   ]
  },
  {
   "cell_type": "code",
   "execution_count": null,
   "id": "ab670d50",
   "metadata": {},
   "outputs": [],
   "source": [
    "print(f\"Addition:{a.add()}\\n\"\n",
    "     f\"Substraction:{a.sub()}\\n\"\n",
    "     f\"Multiplication:{a.mult()}\\n\"\n",
    "     f\"Division:{a.div():.2f}\")"
   ]
  },
  {
   "cell_type": "code",
   "execution_count": null,
   "id": "bab3bd6d",
   "metadata": {},
   "outputs": [],
   "source": [
    "FourCalculation.mult(a)"
   ]
  },
  {
   "cell_type": "code",
   "execution_count": null,
   "id": "7ffcc90c",
   "metadata": {},
   "outputs": [],
   "source": [
    "from fourcalculations import FourCalculation\n",
    "b=FourCalculation(6,2)\n",
    "print(f\"First value is {b.first}\\n\" \n",
    "      f\"Second value is {b.second}\" )\n",
    "print(f\"Addition:{b.add()}\\n\"\n",
    "     f\"Substraction:{b.sub()}\\n\"\n",
    "     f\"Multiplication:{b.mult()}\\n\"\n",
    "     f\"Division:{b.div()}\")"
   ]
  },
  {
   "cell_type": "code",
   "execution_count": null,
   "id": "7653dcc8",
   "metadata": {},
   "outputs": [],
   "source": [
    "import fourcalculations as fc\n",
    "c=fc.FourCalculation(12,3)\n",
    "print(f\"First value is {c.first}\\n\" \n",
    "      f\"Second value is {c.second}\" )\n",
    "print(f\"Addition:{c.add()}\\n\"\n",
    "     f\"Substraction:{c.sub()}\\n\"\n",
    "     f\"Multiplication:{c.mult()}\\n\"\n",
    "     f\"Division:{c.div()}\")"
   ]
  },
  {
   "cell_type": "code",
   "execution_count": null,
   "id": "c9d98dbb",
   "metadata": {},
   "outputs": [],
   "source": [
    "object_list=[a,b,c]\n",
    "for i in object_list:\n",
    "    print(i.mult(),end=\", \")"
   ]
  },
  {
   "cell_type": "markdown",
   "id": "629b5d3a",
   "metadata": {},
   "source": [
    "Class inheritance and overriding methods"
   ]
  },
  {
   "cell_type": "code",
   "execution_count": null,
   "id": "8f962517",
   "metadata": {},
   "outputs": [],
   "source": [
    "#fivecalculations.py\n",
    "\n",
    "class FiveCalculation(FourCalculation):\n",
    "    \"\"\"Adding power calculation\"\"\"\n",
    "    def __init__(self,first,second,third):\n",
    "        super().__init__(first,second)\n",
    "        self.third=third\n",
    "        \n",
    "    def pow(self):\n",
    "        return self.first**self.second+self.third\n",
    "\n",
    "%save fivecalculations.py\n",
    "    "
   ]
  },
  {
   "cell_type": "code",
   "execution_count": null,
   "id": "942fff92",
   "metadata": {},
   "outputs": [],
   "source": [
    "d=FiveCalculation(9,2,3)\n",
    "print(d.pow(),d.add(),d.sub(),d.mult())"
   ]
  },
  {
   "cell_type": "code",
   "execution_count": null,
   "id": "7b890392",
   "metadata": {},
   "outputs": [],
   "source": [
    "#Another example of class inheritance\n",
    "class Person:\n",
    "    \"\"\"Person class\"\"\"\n",
    "    def __init__(self, first,second):\n",
    "        \"\"\"Initialize attributes\"\"\"\n",
    "        self.firstname=first\n",
    "        self.secondname=second\n",
    "    def __repr__(self):\n",
    "        \"\"\"Print string representation for repr()\"\"\"\n",
    "        return (self.firstname +\" \"+self.secondname)"
   ]
  },
  {
   "cell_type": "code",
   "execution_count": null,
   "id": "fe1b4703",
   "metadata": {},
   "outputs": [],
   "source": [
    "class Employee(Person):\n",
    "    \"\"\"Subclass of person\"\"\"\n",
    "    \n",
    "    def __init__(self,first, second,staffnum):\n",
    "        \"\"\"Initialize attributes\"\"\"\n",
    "        super().__init__(first,second)\n",
    "        self.staffnumber=staffnum\n",
    "        \n",
    "    def __repr__(self):\n",
    "        \"\"\"Print string representation for repr()\"\"\"\n",
    "        return (f\"Staff name:{super().__repr__()},\\n\"+f\"Staff num:{self.staffnumber}\")"
   ]
  },
  {
   "cell_type": "code",
   "execution_count": null,
   "id": "2a8c5280",
   "metadata": {},
   "outputs": [],
   "source": [
    "x=Person(\"Adriana\",\"Garcia\")\n",
    "\n",
    "repr(x)"
   ]
  },
  {
   "cell_type": "code",
   "execution_count": null,
   "id": "0f0db42d",
   "metadata": {},
   "outputs": [],
   "source": [
    "y=Employee(\"Adriana\",\"Garcia\",\"1234\")"
   ]
  },
  {
   "cell_type": "code",
   "execution_count": null,
   "id": "4e46561f",
   "metadata": {},
   "outputs": [],
   "source": [
    "y"
   ]
  },
  {
   "cell_type": "markdown",
   "id": "b4ec04e7",
   "metadata": {},
   "source": [
    "Another examples of classes"
   ]
  },
  {
   "cell_type": "code",
   "execution_count": null,
   "id": "50e40d39",
   "metadata": {},
   "outputs": [],
   "source": [
    "#making a restaurant\n",
    "class restaurant():\n",
    "    \n",
    "    \"\"\"A restaurant opening\"\"\"\n",
    "    def __init__(self,restaurant_name,cuisine_type):\n",
    "        \"\"\"Initialize name and cuisine type attributes\"\"\"\n",
    "        self.restaurant_name=restaurant_name\n",
    "        self.cuisine_type=cuisine_type\n",
    "        self.status=\"open\"\n",
    "    def describe_restaurant(self):\n",
    "        print(f\"The name of the restuarant is: {self.restaurant_name}. The cuisine type is {self.cuisine_type}\")\n",
    "        \n",
    "        \n",
    "    def status_restaurant(self):\n",
    "        print(f\"The restaurant is {self.status}\")"
   ]
  },
  {
   "cell_type": "code",
   "execution_count": null,
   "id": "2f5f56a3",
   "metadata": {},
   "outputs": [],
   "source": [
    "resta_info=restaurant(\"La belle vie\",\"French cuisine\") #creating an instance"
   ]
  },
  {
   "cell_type": "code",
   "execution_count": null,
   "id": "2183d9de",
   "metadata": {},
   "outputs": [],
   "source": [
    " print(f\"The name of the restuarant is:{resta_info.restaurant_name}. The cuisine type is {resta_info.cuisine_type}\")"
   ]
  },
  {
   "cell_type": "code",
   "execution_count": null,
   "id": "661a98f8",
   "metadata": {},
   "outputs": [],
   "source": [
    "resta_info.describe_restaurant()"
   ]
  },
  {
   "cell_type": "code",
   "execution_count": null,
   "id": "16171918",
   "metadata": {},
   "outputs": [],
   "source": [
    "resta_info.status_restaurant()"
   ]
  },
  {
   "cell_type": "code",
   "execution_count": null,
   "id": "84fd2a97",
   "metadata": {},
   "outputs": [],
   "source": [
    "#Three restaurants\n",
    "Midnight_restaurant=restaurant(\"Midnight restaurant\",\"Japanese cuisine\")\n",
    "KO=restaurant(\"KO restaurant\",\"Asian fusion cuisine\")\n",
    "Archies=restaurant(\"Archies\",\"Italian cuisine\")"
   ]
  },
  {
   "cell_type": "code",
   "execution_count": null,
   "id": "227c9761",
   "metadata": {},
   "outputs": [],
   "source": [
    "Midnight_restaurant.describe_restaurant()\n",
    "KO.describe_restaurant()\n",
    "Archies.describe_restaurant()"
   ]
  },
  {
   "cell_type": "code",
   "execution_count": null,
   "id": "ffa107fe",
   "metadata": {},
   "outputs": [],
   "source": [
    "KO.status=\"closed\"\n",
    "KO.status_restaurant()"
   ]
  },
  {
   "cell_type": "markdown",
   "id": "97445c98",
   "metadata": {},
   "source": [
    "9-3. Users: Make a class called User Create two attributes called first_name\n",
    "and last_name, and then create several other attributes that are typically stored\n",
    "in a user profile Make a method called describe_user() that prints a summary\n",
    "of the user’s information Make another method called greet_user() that prints\n",
    "a personalized greeting to the user\n",
    "Create several instances representing different users, and call both methods\n",
    "for each user"
   ]
  },
  {
   "cell_type": "code",
   "execution_count": null,
   "id": "3b1b961f",
   "metadata": {},
   "outputs": [],
   "source": [
    "class user():\n",
    "    def __init__(self,first_name,second_name):\n",
    "        self.first_name=first_name\n",
    "        self.second_name=second_name\n",
    "        \n",
    "    def describe_user(self):\n",
    "        print(f\"The user name is {self.first_name} and the second name is {self.second_name}.\")\n",
    "    def greet_user(self):\n",
    "        print(f\"Hi dear {self.first_name}! We are glad to see you.\")"
   ]
  },
  {
   "cell_type": "code",
   "execution_count": null,
   "id": "0345a38b",
   "metadata": {},
   "outputs": [],
   "source": [
    "Maria=user(\"Maria\",\"Lopez\")\n",
    "Maria.describe_user()\n",
    "Maria.greet_user()\n",
    "\n",
    "Pablo=user(\"Pablo\",\"Ruiz\")\n",
    "Pablo.describe_user()\n",
    "Pablo.greet_user()\n",
    "\n",
    "Santiago=user(\"Santiago\",\"Ureña\")\n",
    "Santiago.describe_user()\n",
    "Santiago.greet_user()\n",
    "\n",
    "#cómo agrego un salto de linea cuando uso metodos de una clase?"
   ]
  },
  {
   "cell_type": "markdown",
   "id": "2d6d8534",
   "metadata": {},
   "source": [
    "9-4. Number Served: \n",
    "Add an attribute called number_served with a default value of 0 Create an instance called restaurant from this class Print the number of customers the restaurant has served, and then change this value and print it again\n",
    "\n",
    "Add a method called set_number_served() that lets you set the number of customers that have been served Call this method with a new number and print the value again\n",
    "\n",
    "Add a method called increment_number_served() that lets you increment the number of customers who’ve been served Call this method with any number you like that could represent how many customers were served in, say, a day of business"
   ]
  },
  {
   "cell_type": "code",
   "execution_count": null,
   "id": "c13bff34",
   "metadata": {},
   "outputs": [],
   "source": [
    "#making a restaurant\n",
    "class restaurant():\n",
    "    \n",
    "    \"\"\"A restaurant opening\"\"\"\n",
    "    def __init__(self,restaurant_name,cuisine_type):\n",
    "        \"\"\"Initialize name and cuisine type attributes\"\"\"\n",
    "        self.restaurant_name=restaurant_name\n",
    "        self.cuisine_type=cuisine_type\n",
    "        self.status=\"open\"\n",
    "        self.numb_served=0\n",
    "    def describe_restaurant(self):\n",
    "        print(f\"The name of the restuarant is: {self.restaurant_name}. The cuisine type is {self.cuisine_type}\")\n",
    "        \n",
    "    def status_restaurant(self):\n",
    "        print(f\"The restaurant is {self.status}\")\n",
    "    def number_served(self):\n",
    "        print(f\"The number of clients that have been served is: {self.numb_served}\")\n",
    "    def set_number_served(self,clients):\n",
    "        self.numb_served=clients    \n",
    "    def increment_number_served(self,clients):\n",
    "        self.numb_served+=clients\n",
    "        self.number_served()"
   ]
  },
  {
   "cell_type": "code",
   "execution_count": null,
   "id": "53ea0c25",
   "metadata": {},
   "outputs": [],
   "source": [
    "Tamagoyaki_restaurant=restaurant(\"Tamagoyaki Restaurant\",\"Japanese cuisine\")\n",
    "Tamagoyaki_restaurant.describe_restaurant()\n",
    "Tamagoyaki_restaurant.status_restaurant()"
   ]
  },
  {
   "cell_type": "code",
   "execution_count": null,
   "id": "2964be24",
   "metadata": {},
   "outputs": [],
   "source": [
    "Tamagoyaki_restaurant.number_served()"
   ]
  },
  {
   "cell_type": "code",
   "execution_count": null,
   "id": "fff72e58",
   "metadata": {},
   "outputs": [],
   "source": [
    "Tamagoyaki_restaurant.numb_served=2\n",
    "Tamagoyaki_restaurant.number_served()"
   ]
  },
  {
   "cell_type": "code",
   "execution_count": null,
   "id": "76d2f3a5",
   "metadata": {},
   "outputs": [],
   "source": [
    "Tamagoyaki_restaurant.set_number_served(5)\n",
    "Tamagoyaki_restaurant.number_served()"
   ]
  },
  {
   "cell_type": "code",
   "execution_count": null,
   "id": "9fbd9aff",
   "metadata": {},
   "outputs": [],
   "source": [
    "Tamagoyaki_restaurant.increment_number_served(10)"
   ]
  },
  {
   "cell_type": "code",
   "execution_count": null,
   "id": "4a7fd416",
   "metadata": {},
   "outputs": [],
   "source": [
    "Tamagoyaki_restaurant.increment_number_served(20)"
   ]
  },
  {
   "cell_type": "markdown",
   "id": "5a716f56",
   "metadata": {},
   "source": [
    "9-5. Login Attempts: Add an attribute called login_attempts to your User\n",
    "class\n",
    "\n",
    "Write a method called increment_login_attempts() that increments the value of login_attempts by 1 Write\n",
    "another method called reset_login_attempts() that resets the value of login_attempts to 0\n",
    "\n",
    "Make an instance of the User class and call increment_login_attempts() several times Print the value of login_attempts to make sure it was incremented properly, and then call reset_login_attempts() Print login_attempts again to\n",
    "make sure it was reset to 0"
   ]
  },
  {
   "cell_type": "code",
   "execution_count": 7,
   "id": "ac731cd9",
   "metadata": {},
   "outputs": [],
   "source": [
    "class user():\n",
    "    def __init__(self,first_name,second_name):\n",
    "        self.first_name=first_name\n",
    "        self.second_name=second_name\n",
    "        self.login_attempts=0\n",
    "        \n",
    "    def describe_user(self):\n",
    "        print(f\"The user name is {self.first_name} and the second name is {self.second_name}.\")\n",
    "    def greet_user(self):\n",
    "        print(f\"Hi dear {self.first_name}! We are glad to see you.\")\n",
    "    def increment_login_attempts(self,count=1):\n",
    "        self.login_attempts += count\n",
    "        print(self.login_attempts)\n",
    "    def reset_login_attempts(self):\n",
    "        self.login_attempts = 0\n",
    "        print(self.login_attempts)"
   ]
  },
  {
   "cell_type": "code",
   "execution_count": 8,
   "id": "951ef0fc",
   "metadata": {},
   "outputs": [
    {
     "name": "stdout",
     "output_type": "stream",
     "text": [
      "The user name is Maria and the second name is Lopez.\n",
      "Hi dear Maria! We are glad to see you.\n",
      "1\n"
     ]
    }
   ],
   "source": [
    "Maria=user(\"Maria\",\"Lopez\")\n",
    "Maria.describe_user()\n",
    "Maria.greet_user()\n",
    "Maria.increment_login_attempts()"
   ]
  },
  {
   "cell_type": "code",
   "execution_count": 9,
   "id": "83bb650f",
   "metadata": {},
   "outputs": [
    {
     "name": "stdout",
     "output_type": "stream",
     "text": [
      "2\n"
     ]
    }
   ],
   "source": [
    "Maria.increment_login_attempts()"
   ]
  },
  {
   "cell_type": "code",
   "execution_count": 6,
   "id": "447df4cb",
   "metadata": {},
   "outputs": [
    {
     "name": "stdout",
     "output_type": "stream",
     "text": [
      "3\n"
     ]
    }
   ],
   "source": [
    "Maria.increment_login_attempts()"
   ]
  },
  {
   "cell_type": "code",
   "execution_count": 10,
   "id": "58e19960",
   "metadata": {},
   "outputs": [
    {
     "name": "stdout",
     "output_type": "stream",
     "text": [
      "0\n"
     ]
    }
   ],
   "source": [
    "Maria.reset_login_attempts()"
   ]
  },
  {
   "cell_type": "code",
   "execution_count": null,
   "id": "88c734c9",
   "metadata": {},
   "outputs": [],
   "source": []
  }
 ],
 "metadata": {
  "kernelspec": {
   "display_name": "Python 3 (ipykernel)",
   "language": "python",
   "name": "python3"
  },
  "language_info": {
   "codemirror_mode": {
    "name": "ipython",
    "version": 3
   },
   "file_extension": ".py",
   "mimetype": "text/x-python",
   "name": "python",
   "nbconvert_exporter": "python",
   "pygments_lexer": "ipython3",
   "version": "3.10.11"
  }
 },
 "nbformat": 4,
 "nbformat_minor": 5
}
