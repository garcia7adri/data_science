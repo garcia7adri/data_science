{
 "cells": [
  {
   "cell_type": "code",
   "execution_count": 5,
   "id": "79065dc3",
   "metadata": {},
   "outputs": [
    {
     "name": "stdout",
     "output_type": "stream",
     "text": [
      "Escoge piedra, papel o tijera: tijera\n",
      "Escoge piedra, papel o tijera: papel\n",
      "El gandador es  Jugador 1\n",
      "El gandador es  Jugador 1\n",
      "El gandador es  Jugador 1\n",
      "Resultado final: \n",
      "  jugador 1: 3 \n",
      "  jugador 2: 0\n"
     ]
    }
   ],
   "source": [
    "jugador_1=input(\"Escoge piedra, papel o tijera: \")\n",
    "jugador_2=input(\"Escoge piedra, papel o tijera: \")\n",
    "jugador_1.lower()\n",
    "jugador_2.lower()\n",
    "puntaje_jugador_1=0\n",
    "puntaje_jugador_2=0\n",
    "\n",
    "while puntaje_jugador_1 < 3 and puntaje_jugador_2 < 3:\n",
    "    if jugador_1 == 'piedra':\n",
    "        if jugador_2 == 'piedra':\n",
    "            ganador = \"empate\"\n",
    "        elif jugador_2 == 'papel':\n",
    "            ganador = \"Jugador 2\"\n",
    "        elif jugador_2 == 'tijera':\n",
    "            ganador = \"Jugador 1\"\n",
    "        else:\n",
    "            print(\"opcion no valida\")\n",
    "    elif jugador_1 == 'papel':\n",
    "        if jugador_2 == 'piedra':\n",
    "            ganador = \"Jugador 1\"\n",
    "        elif jugador_2 == 'papel':\n",
    "            ganador = \"Empate\"\n",
    "        elif jugador_2 == 'tijera':\n",
    "            ganador = \"Jugador 2\"\n",
    "        else:\n",
    "            print(\"opcion no valida\")\n",
    "    elif jugador_1 == 'tijera':\n",
    "        if jugador_2 == 'piedra':\n",
    "            ganador = \"Jugador 2\"\n",
    "        elif jugador_2 == 'papel':\n",
    "            ganador = \"Jugador 1\"\n",
    "        elif jugador_2 == 'tijera':\n",
    "            ganador = \"Empate\"\n",
    "        else:\n",
    "            print(\"opcion no valida\")\n",
    "    else:\n",
    "        print(\"opcion no valida\")\n",
    "\n",
    "    print(\"El gandador es \", ganador)\n",
    "    if ganador == 'Jugador 1':\n",
    "        puntaje_jugador_1 += 1\n",
    "    elif ganador == \"Jugador 2\":\n",
    "        puntaje_jugador_2 += 1\n",
    "else:\n",
    "    print(f\"Resultado final: \\n  jugador 1: {puntaje_jugador_1} \\n  jugador 2: {puntaje_jugador_2}\")"
   ]
  },
  {
   "cell_type": "code",
   "execution_count": null,
   "id": "eefb0fd1",
   "metadata": {},
   "outputs": [],
   "source": [
    "jugador_1=input(\"Escoge piedra, papel o tijera: \")\n",
    "jugador_2=input(\"Escoge piedra, papel o tijera: \")\n",
    "jugador_1.lower()\n",
    "jugador_2.lower()\n",
    "puntaje_jugador_1=0\n",
    "puntaje_jugador_2=0\n",
    "while (puntaje_jugador_1 < 4  or puntaje_jugador_2 < 4):\n",
    "    #jugador_1=input(\"Escoge piedra, papel o tijera: \")\n",
    "    #jugador_2=input(\"Escoge piedra, papel o tijera: \")\n",
    "    #jugador_1.lower()\n",
    "    #jugador_2.lower()\n",
    "    if (jugador_1== \"piedra\" and jugador_2==\"tijera\"):\n",
    "        puntaje_jugador_1+=1\n",
    "        print(\"El jugador 1 ha ganado\")\n",
    "    elif (jugador_1==\"papel\" and jugador_2 ==\"piedra\"):\n",
    "        puntaje_jugador_1+=1\n",
    "        print(\"El jugador 1 ha ganado\")\n",
    "    elif (jugador_1==\"tijera\" and jugador_2 ==\"papel\"):\n",
    "        puntaje_jugador_1+=1\n",
    "        print(\"El jugador 1 ha ganado\")\n",
    "    elif (jugador_2==\"tijera\" and jugador_1 ==\"papel\"):\n",
    "        puntaje_jugador_2+=1\n",
    "        print(\"El jugador 2 ha ganado\")\n",
    "    elif (jugador_2== \"piedra\" and jugador_1==\"tijera\"):\n",
    "        puntaje_jugador_2+=1\n",
    "        print(\"El jugador 2 ha ganado\")\n",
    "    elif (jugador_2==\"papel\" and jugador_1 ==\"piedra\"):\n",
    "        puntaje_jugador_2+=1\n",
    "        print(\"El jugador 2 ha ganado\")\n",
    "    else:\n",
    "        print(\"Hay empate\")\n",
    "    print(puntaje_jugador_1,puntaje_jugador_2)\n",
    "    if puntaje_jugador_1==3 or puntaje_jugador_2==3:\n",
    "      break\n",
    "else:\n",
    "    print(f\"Resultado final: \\n  jugador 1: {puntaje_jugador_1} \\n  jugador 2: {puntaje_jugador_2}\")"
   ]
  },
  {
   "cell_type": "code",
   "execution_count": null,
   "id": "35e28069",
   "metadata": {},
   "outputs": [],
   "source": []
  }
 ],
 "metadata": {
  "kernelspec": {
   "display_name": "Python 3 (ipykernel)",
   "language": "python",
   "name": "python3"
  },
  "language_info": {
   "codemirror_mode": {
    "name": "ipython",
    "version": 3
   },
   "file_extension": ".py",
   "mimetype": "text/x-python",
   "name": "python",
   "nbconvert_exporter": "python",
   "pygments_lexer": "ipython3",
   "version": "3.8.16"
  }
 },
 "nbformat": 4,
 "nbformat_minor": 5
}
