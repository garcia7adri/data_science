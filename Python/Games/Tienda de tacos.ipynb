{
 "cells": [
  {
   "cell_type": "code",
   "execution_count": 20,
   "id": "12bab7cd",
   "metadata": {},
   "outputs": [
    {
     "name": "stdout",
     "output_type": "stream",
     "text": [
      "¿Qué taco deseas?: pastor\n",
      "¿Deseas otro taco?: pastor\n",
      "Tu orden completa es: \n",
      "1 pastor\n"
     ]
    }
   ],
   "source": [
    "#Tienda de tacos\n",
    "user_choice_complete={}\n",
    "\n",
    "user_choice=input(\"¿Qué taco deseas?: \")\n",
    "user_choice_complete[user_choice]=1\n",
    "confirmation=input(\"¿Deseas otro taco?: \")\n",
    "confirmation.lower()\n",
    "while confirmation== \"si\" or confirmation== \"sí\":\n",
    "    user_choice=input(\"¿Qué taco deseas?: \")\n",
    "    if user_choice in user_choice_complete:\n",
    "        user_choice_complete[user_choice]+=1\n",
    "    else:\n",
    "        user_choice_complete[user_choice]=1\n",
    "    confirmation=input(\"¿Deseas otro taco?: \")\n",
    "else:\n",
    "    print(f\"Tu orden completa es: \")\n",
    "    for i in user_choice_complete:\n",
    "        print (user_choice_complete[i],i)\n",
    "    \n",
    "    "
   ]
  },
  {
   "cell_type": "code",
   "execution_count": null,
   "id": "c2bee143",
   "metadata": {},
   "outputs": [],
   "source": []
  }
 ],
 "metadata": {
  "kernelspec": {
   "display_name": "Python 3 (ipykernel)",
   "language": "python",
   "name": "python3"
  },
  "language_info": {
   "codemirror_mode": {
    "name": "ipython",
    "version": 3
   },
   "file_extension": ".py",
   "mimetype": "text/x-python",
   "name": "python",
   "nbconvert_exporter": "python",
   "pygments_lexer": "ipython3",
   "version": "3.8.16"
  }
 },
 "nbformat": 4,
 "nbformat_minor": 5
}
