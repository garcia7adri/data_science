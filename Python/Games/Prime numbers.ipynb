{
 "cells": [
  {
   "cell_type": "code",
   "execution_count": 75,
   "id": "f12be49b",
   "metadata": {},
   "outputs": [],
   "source": [
    "#The function determines if the number is prime or not\n",
    "\n",
    "def prime_number(number):\n",
    "    divisores=[]\n",
    "    if number== 0:\n",
    "        return \"El número debe ser mayor o igual a 1.\"\n",
    "    elif number ==1:\n",
    "        return \"Por convención no es primo\"\n",
    "    elif number== 2 or number== 3:\n",
    "        return \"Es primo\"\n",
    "    for i in range(2,int(number**0.5)+1):\n",
    "        if number % i == 0:\n",
    "            divisores.append(i)\n",
    "            return \"No es primo\"\n",
    "        else: \n",
    "            return \"Es primo\""
   ]
  },
  {
   "cell_type": "code",
   "execution_count": 76,
   "id": "fb827fe4",
   "metadata": {},
   "outputs": [
    {
     "data": {
      "text/plain": [
       "'Es primo'"
      ]
     },
     "execution_count": 76,
     "metadata": {},
     "output_type": "execute_result"
    }
   ],
   "source": [
    "prime_number(13)\n"
   ]
  },
  {
   "cell_type": "code",
   "execution_count": 77,
   "id": "0302ff07",
   "metadata": {},
   "outputs": [
    {
     "data": {
      "text/plain": [
       "'No es primo'"
      ]
     },
     "execution_count": 77,
     "metadata": {},
     "output_type": "execute_result"
    }
   ],
   "source": [
    "prime_number(10)"
   ]
  },
  {
   "cell_type": "code",
   "execution_count": 78,
   "id": "73e99d21",
   "metadata": {},
   "outputs": [
    {
     "data": {
      "text/plain": [
       "'Por convención no es primo'"
      ]
     },
     "execution_count": 78,
     "metadata": {},
     "output_type": "execute_result"
    }
   ],
   "source": [
    "prime_number(1)"
   ]
  },
  {
   "cell_type": "code",
   "execution_count": 79,
   "id": "019f033d",
   "metadata": {},
   "outputs": [
    {
     "data": {
      "text/plain": [
       "'El número debe ser mayor o igual a 1.'"
      ]
     },
     "execution_count": 79,
     "metadata": {},
     "output_type": "execute_result"
    }
   ],
   "source": [
    "prime_number(0)"
   ]
  },
  {
   "cell_type": "code",
   "execution_count": 80,
   "id": "b0f29a3e",
   "metadata": {},
   "outputs": [
    {
     "data": {
      "text/plain": [
       "'Es primo'"
      ]
     },
     "execution_count": 80,
     "metadata": {},
     "output_type": "execute_result"
    }
   ],
   "source": [
    "prime_number(3)\n"
   ]
  },
  {
   "cell_type": "code",
   "execution_count": 81,
   "id": "821b2ed9",
   "metadata": {},
   "outputs": [
    {
     "data": {
      "text/plain": [
       "'Es primo'"
      ]
     },
     "execution_count": 81,
     "metadata": {},
     "output_type": "execute_result"
    }
   ],
   "source": [
    "prime_number(2)"
   ]
  },
  {
   "cell_type": "code",
   "execution_count": null,
   "id": "7287575a",
   "metadata": {},
   "outputs": [],
   "source": []
  }
 ],
 "metadata": {
  "kernelspec": {
   "display_name": "Python 3 (ipykernel)",
   "language": "python",
   "name": "python3"
  },
  "language_info": {
   "codemirror_mode": {
    "name": "ipython",
    "version": 3
   },
   "file_extension": ".py",
   "mimetype": "text/x-python",
   "name": "python",
   "nbconvert_exporter": "python",
   "pygments_lexer": "ipython3",
   "version": "3.10.11"
  }
 },
 "nbformat": 4,
 "nbformat_minor": 5
}
