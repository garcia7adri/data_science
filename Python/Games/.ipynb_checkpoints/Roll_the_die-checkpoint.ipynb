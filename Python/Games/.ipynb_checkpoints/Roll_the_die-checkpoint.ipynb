{
 "cells": [
  {
   "cell_type": "markdown",
   "id": "23633a1a",
   "metadata": {},
   "source": [
    "Die: \n",
    "Make a class Die with one attribute called sides, which has a default value of 6.\n",
    "Write a method called roll_die() that prints a random number between 1 and the number of sides the die has.\n",
    "Make a 6-sided die and roll it.\n",
    "Make a 10-sided die and a 20-sided die."
   ]
  },
  {
   "cell_type": "code",
   "execution_count": 114,
   "id": "3469723b",
   "metadata": {},
   "outputs": [],
   "source": [
    "from random import randint\n",
    "\n",
    "class Die():\n",
    "    \n",
    "    def __init__(self, sides=6):\n",
    "        self.sides=sides\n",
    "        \n",
    "        \n",
    "    def roll_die(self):\n",
    "        x=randint(1,self.sides)\n",
    "        print(x)        "
   ]
  },
  {
   "cell_type": "markdown",
   "id": "b4703dc3",
   "metadata": {},
   "source": [
    "6-sided die"
   ]
  },
  {
   "cell_type": "code",
   "execution_count": 115,
   "id": "7ed8f1a4",
   "metadata": {},
   "outputs": [
    {
     "name": "stdout",
     "output_type": "stream",
     "text": [
      "1\n"
     ]
    }
   ],
   "source": [
    "die=Die()\n",
    "die.roll_die()"
   ]
  },
  {
   "cell_type": "code",
   "execution_count": 116,
   "id": "ad97383d",
   "metadata": {},
   "outputs": [
    {
     "name": "stdout",
     "output_type": "stream",
     "text": [
      "4\n"
     ]
    }
   ],
   "source": [
    "die.roll_die()\n"
   ]
  },
  {
   "cell_type": "code",
   "execution_count": 117,
   "id": "a665f1cb",
   "metadata": {},
   "outputs": [
    {
     "name": "stdout",
     "output_type": "stream",
     "text": [
      "5\n"
     ]
    }
   ],
   "source": [
    "die.roll_die()\n"
   ]
  },
  {
   "cell_type": "code",
   "execution_count": 118,
   "id": "6def86aa",
   "metadata": {},
   "outputs": [
    {
     "name": "stdout",
     "output_type": "stream",
     "text": [
      "3\n"
     ]
    }
   ],
   "source": [
    "die.roll_die()"
   ]
  },
  {
   "cell_type": "code",
   "execution_count": 119,
   "id": "fc8d277c",
   "metadata": {},
   "outputs": [
    {
     "name": "stdout",
     "output_type": "stream",
     "text": [
      "5\n"
     ]
    }
   ],
   "source": [
    "die.roll_die()"
   ]
  },
  {
   "cell_type": "code",
   "execution_count": 120,
   "id": "526c5718",
   "metadata": {},
   "outputs": [
    {
     "name": "stdout",
     "output_type": "stream",
     "text": [
      "2\n"
     ]
    }
   ],
   "source": [
    "die.roll_die()"
   ]
  },
  {
   "cell_type": "markdown",
   "id": "9122fd9b",
   "metadata": {},
   "source": [
    "10-sided die"
   ]
  },
  {
   "cell_type": "code",
   "execution_count": 121,
   "id": "3eff40f9",
   "metadata": {},
   "outputs": [],
   "source": [
    "die_10=Die()\n",
    "die_10.sides=10"
   ]
  },
  {
   "cell_type": "code",
   "execution_count": 122,
   "id": "c81079ce",
   "metadata": {},
   "outputs": [
    {
     "name": "stdout",
     "output_type": "stream",
     "text": [
      "10\n"
     ]
    }
   ],
   "source": [
    "die_10.roll_die()"
   ]
  },
  {
   "cell_type": "code",
   "execution_count": 123,
   "id": "907ed65b",
   "metadata": {},
   "outputs": [
    {
     "name": "stdout",
     "output_type": "stream",
     "text": [
      "6\n"
     ]
    }
   ],
   "source": [
    "die_10.roll_die()"
   ]
  },
  {
   "cell_type": "code",
   "execution_count": 124,
   "id": "feaa1f18",
   "metadata": {},
   "outputs": [
    {
     "name": "stdout",
     "output_type": "stream",
     "text": [
      "9\n"
     ]
    }
   ],
   "source": [
    "die_10.roll_die()"
   ]
  },
  {
   "cell_type": "code",
   "execution_count": 125,
   "id": "058d0d63",
   "metadata": {},
   "outputs": [
    {
     "name": "stdout",
     "output_type": "stream",
     "text": [
      "5\n"
     ]
    }
   ],
   "source": [
    "die_10.roll_die()"
   ]
  },
  {
   "cell_type": "code",
   "execution_count": 126,
   "id": "f7a402bb",
   "metadata": {},
   "outputs": [
    {
     "name": "stdout",
     "output_type": "stream",
     "text": [
      "10\n"
     ]
    }
   ],
   "source": [
    "die_10.roll_die()"
   ]
  },
  {
   "cell_type": "code",
   "execution_count": 127,
   "id": "c07f3120",
   "metadata": {},
   "outputs": [
    {
     "name": "stdout",
     "output_type": "stream",
     "text": [
      "1\n"
     ]
    }
   ],
   "source": [
    "die_10.roll_die()"
   ]
  },
  {
   "cell_type": "code",
   "execution_count": 128,
   "id": "68e77e6e",
   "metadata": {},
   "outputs": [
    {
     "name": "stdout",
     "output_type": "stream",
     "text": [
      "10\n"
     ]
    }
   ],
   "source": [
    "die_10.roll_die()"
   ]
  },
  {
   "cell_type": "code",
   "execution_count": 129,
   "id": "e4736936",
   "metadata": {},
   "outputs": [
    {
     "name": "stdout",
     "output_type": "stream",
     "text": [
      "5\n"
     ]
    }
   ],
   "source": [
    "die_10.roll_die()"
   ]
  },
  {
   "cell_type": "code",
   "execution_count": 130,
   "id": "fa4f4856",
   "metadata": {},
   "outputs": [
    {
     "name": "stdout",
     "output_type": "stream",
     "text": [
      "2\n"
     ]
    }
   ],
   "source": [
    "die_10.roll_die()"
   ]
  },
  {
   "cell_type": "code",
   "execution_count": 131,
   "id": "dd77e93a",
   "metadata": {},
   "outputs": [
    {
     "name": "stdout",
     "output_type": "stream",
     "text": [
      "7\n"
     ]
    }
   ],
   "source": [
    "die_10.roll_die()"
   ]
  },
  {
   "cell_type": "code",
   "execution_count": 132,
   "id": "6bc0fd2a",
   "metadata": {},
   "outputs": [
    {
     "name": "stdout",
     "output_type": "stream",
     "text": [
      "5\n"
     ]
    }
   ],
   "source": [
    "die_10.roll_die()"
   ]
  },
  {
   "cell_type": "code",
   "execution_count": 133,
   "id": "0b1b22a4",
   "metadata": {},
   "outputs": [
    {
     "name": "stdout",
     "output_type": "stream",
     "text": [
      "5\n"
     ]
    }
   ],
   "source": [
    "die_10.roll_die()"
   ]
  },
  {
   "cell_type": "code",
   "execution_count": 134,
   "id": "217da435",
   "metadata": {},
   "outputs": [
    {
     "name": "stdout",
     "output_type": "stream",
     "text": [
      "5\n"
     ]
    }
   ],
   "source": [
    "die_10.roll_die()"
   ]
  },
  {
   "cell_type": "code",
   "execution_count": 135,
   "id": "713c0d75",
   "metadata": {},
   "outputs": [
    {
     "name": "stdout",
     "output_type": "stream",
     "text": [
      "10\n"
     ]
    }
   ],
   "source": [
    "die_10.roll_die()"
   ]
  },
  {
   "cell_type": "code",
   "execution_count": 136,
   "id": "ca5fc804",
   "metadata": {},
   "outputs": [
    {
     "name": "stdout",
     "output_type": "stream",
     "text": [
      "9\n"
     ]
    }
   ],
   "source": [
    "die_10.roll_die()"
   ]
  },
  {
   "cell_type": "code",
   "execution_count": 137,
   "id": "b113d7e0",
   "metadata": {},
   "outputs": [
    {
     "name": "stdout",
     "output_type": "stream",
     "text": [
      "9\n"
     ]
    }
   ],
   "source": [
    "die_10.roll_die()"
   ]
  },
  {
   "cell_type": "markdown",
   "id": "0854c316",
   "metadata": {},
   "source": [
    "20-sided die"
   ]
  },
  {
   "cell_type": "code",
   "execution_count": 138,
   "id": "2c2933d5",
   "metadata": {},
   "outputs": [],
   "source": [
    "die_20=Die()\n",
    "die_20.sides=20"
   ]
  },
  {
   "cell_type": "code",
   "execution_count": 139,
   "id": "c8463ef0",
   "metadata": {},
   "outputs": [
    {
     "name": "stdout",
     "output_type": "stream",
     "text": [
      "13\n"
     ]
    }
   ],
   "source": [
    "die_20.roll_die()"
   ]
  },
  {
   "cell_type": "code",
   "execution_count": 140,
   "id": "cee2cc66",
   "metadata": {},
   "outputs": [
    {
     "name": "stdout",
     "output_type": "stream",
     "text": [
      "1\n"
     ]
    }
   ],
   "source": [
    "die_20.roll_die()"
   ]
  },
  {
   "cell_type": "code",
   "execution_count": 141,
   "id": "cf84d442",
   "metadata": {},
   "outputs": [
    {
     "name": "stdout",
     "output_type": "stream",
     "text": [
      "4\n"
     ]
    }
   ],
   "source": [
    "die_20.roll_die()"
   ]
  },
  {
   "cell_type": "code",
   "execution_count": 144,
   "id": "f595759e",
   "metadata": {},
   "outputs": [
    {
     "name": "stdout",
     "output_type": "stream",
     "text": [
      "10\n"
     ]
    }
   ],
   "source": [
    "die_20.roll_die()"
   ]
  },
  {
   "cell_type": "code",
   "execution_count": 145,
   "id": "7855f2e9",
   "metadata": {},
   "outputs": [
    {
     "name": "stdout",
     "output_type": "stream",
     "text": [
      "6\n"
     ]
    }
   ],
   "source": [
    "die_20.roll_die()"
   ]
  },
  {
   "cell_type": "code",
   "execution_count": 153,
   "id": "30ba935d",
   "metadata": {},
   "outputs": [
    {
     "name": "stdout",
     "output_type": "stream",
     "text": [
      "6\n"
     ]
    }
   ],
   "source": [
    "die_20.roll_die()"
   ]
  },
  {
   "cell_type": "code",
   "execution_count": 146,
   "id": "210a5a44",
   "metadata": {},
   "outputs": [
    {
     "name": "stdout",
     "output_type": "stream",
     "text": [
      "6\n"
     ]
    }
   ],
   "source": [
    "die_20.roll_die()"
   ]
  },
  {
   "cell_type": "code",
   "execution_count": 147,
   "id": "97fff2aa",
   "metadata": {},
   "outputs": [
    {
     "name": "stdout",
     "output_type": "stream",
     "text": [
      "6\n"
     ]
    }
   ],
   "source": [
    "die_20.roll_die()"
   ]
  },
  {
   "cell_type": "code",
   "execution_count": 148,
   "id": "29fdc298",
   "metadata": {},
   "outputs": [
    {
     "name": "stdout",
     "output_type": "stream",
     "text": [
      "8\n"
     ]
    }
   ],
   "source": [
    "die_20.roll_die()"
   ]
  },
  {
   "cell_type": "code",
   "execution_count": 149,
   "id": "d34348bb",
   "metadata": {},
   "outputs": [
    {
     "name": "stdout",
     "output_type": "stream",
     "text": [
      "20\n"
     ]
    }
   ],
   "source": [
    "die_20.roll_die()"
   ]
  },
  {
   "cell_type": "code",
   "execution_count": 150,
   "id": "b841c0e5",
   "metadata": {},
   "outputs": [
    {
     "name": "stdout",
     "output_type": "stream",
     "text": [
      "6\n"
     ]
    }
   ],
   "source": [
    "die_20.roll_die()"
   ]
  },
  {
   "cell_type": "code",
   "execution_count": 151,
   "id": "7dc0b718",
   "metadata": {},
   "outputs": [
    {
     "name": "stdout",
     "output_type": "stream",
     "text": [
      "6\n"
     ]
    }
   ],
   "source": [
    "die_20.roll_die()"
   ]
  },
  {
   "cell_type": "code",
   "execution_count": 152,
   "id": "13e52b30",
   "metadata": {},
   "outputs": [
    {
     "name": "stdout",
     "output_type": "stream",
     "text": [
      "3\n"
     ]
    }
   ],
   "source": [
    "die_20.roll_die()"
   ]
  },
  {
   "cell_type": "code",
   "execution_count": null,
   "id": "17c05a2a",
   "metadata": {},
   "outputs": [],
   "source": []
  }
 ],
 "metadata": {
  "kernelspec": {
   "display_name": "Python 3 (ipykernel)",
   "language": "python",
   "name": "python3"
  },
  "language_info": {
   "codemirror_mode": {
    "name": "ipython",
    "version": 3
   },
   "file_extension": ".py",
   "mimetype": "text/x-python",
   "name": "python",
   "nbconvert_exporter": "python",
   "pygments_lexer": "ipython3",
   "version": "3.10.11"
  }
 },
 "nbformat": 4,
 "nbformat_minor": 5
}
