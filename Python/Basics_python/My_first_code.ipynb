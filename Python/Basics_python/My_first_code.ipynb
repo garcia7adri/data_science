{
 "cells": [
  {
   "cell_type": "code",
   "execution_count": 1,
   "id": "46c9e930-9718-4ff4-83af-c1537367c498",
   "metadata": {},
   "outputs": [],
   "source": [
    "import tensorflow as tf"
   ]
  },
  {
   "cell_type": "code",
   "execution_count": 2,
   "id": "6979bd00",
   "metadata": {},
   "outputs": [],
   "source": [
    "Hello=tf.constant(\"This is my first time using Tensorflow.\")"
   ]
  },
  {
   "cell_type": "code",
   "execution_count": 3,
   "id": "340eeb69",
   "metadata": {},
   "outputs": [
    {
     "name": "stdout",
     "output_type": "stream",
     "text": [
      "tf.Tensor(b'This is my first time using Tensorflow.', shape=(), dtype=string)\n"
     ]
    }
   ],
   "source": [
    "print(Hello)"
   ]
  },
  {
   "cell_type": "code",
   "execution_count": 4,
   "id": "515ad1c3",
   "metadata": {},
   "outputs": [
    {
     "name": "stdout",
     "output_type": "stream",
     "text": [
      "This is my first time using Tensorflow.\r\n"
     ]
    }
   ],
   "source": [
    "tf.print(Hello)"
   ]
  },
  {
   "cell_type": "code",
   "execution_count": null,
   "id": "93608b31",
   "metadata": {},
   "outputs": [],
   "source": []
  }
 ],
 "metadata": {
  "kernelspec": {
   "display_name": "Python 3 (ipykernel)",
   "language": "python",
   "name": "python3"
  },
  "language_info": {
   "codemirror_mode": {
    "name": "ipython",
    "version": 3
   },
   "file_extension": ".py",
   "mimetype": "text/x-python",
   "name": "python",
   "nbconvert_exporter": "python",
   "pygments_lexer": "ipython3",
   "version": "3.8.16"
  }
 },
 "nbformat": 4,
 "nbformat_minor": 5
}
