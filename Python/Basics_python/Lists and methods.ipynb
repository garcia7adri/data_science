{
 "cells": [
  {
   "cell_type": "markdown",
   "id": "8d76242b",
   "metadata": {},
   "source": [
    "Piensa en 5 lugares del mundo que te gustaría conocer.\n",
    "\n",
    "1. Almacena en una lista el nombre de estos lugares.\n",
    "2. Imprime la lista en orden alfabético.\n",
    "3. Imagina que ya has conocido uno de estos lugares, eliminalo de la lista.\n",
    "4. De los restantes, piensa sería tu favorito y modifica la lista de tal forma que el nombre de este lugar quede en mayúsculas.\n",
    "5. Agrega otro lugar que te gustaría conocer."
   ]
  },
  {
   "cell_type": "code",
   "execution_count": 1,
   "id": "63b341e1",
   "metadata": {},
   "outputs": [],
   "source": [
    "lugares_hermosos=[\"Japón\",\"Georgia\",\"Finlandia\",\"Perú\",\"Brasil\"]\n",
    "lugares_hermosos.sort()"
   ]
  },
  {
   "cell_type": "code",
   "execution_count": 2,
   "id": "b8c1ba02",
   "metadata": {},
   "outputs": [
    {
     "data": {
      "text/plain": [
       "['Brasil', 'Finlandia', 'Georgia', 'Japón', 'Perú']"
      ]
     },
     "execution_count": 2,
     "metadata": {},
     "output_type": "execute_result"
    }
   ],
   "source": [
    "lugares_hermosos"
   ]
  },
  {
   "cell_type": "code",
   "execution_count": 3,
   "id": "2f629449",
   "metadata": {},
   "outputs": [],
   "source": [
    "lugares_hermosos.remove(\"Brasil\")"
   ]
  },
  {
   "cell_type": "code",
   "execution_count": 4,
   "id": "c7ade6c3",
   "metadata": {},
   "outputs": [
    {
     "data": {
      "text/plain": [
       "['Finlandia', 'Georgia', 'Japón', 'Perú']"
      ]
     },
     "execution_count": 4,
     "metadata": {},
     "output_type": "execute_result"
    }
   ],
   "source": [
    "lugares_hermosos"
   ]
  },
  {
   "cell_type": "code",
   "execution_count": 19,
   "id": "59a4eca2",
   "metadata": {},
   "outputs": [
    {
     "data": {
      "text/plain": [
       "'GEORGIA'"
      ]
     },
     "execution_count": 19,
     "metadata": {},
     "output_type": "execute_result"
    }
   ],
   "source": [
    "#lugares_hermosos[1]=\"GEORGIA\"\n",
    "lugares_hermosos[1].upper()"
   ]
  },
  {
   "cell_type": "code",
   "execution_count": 20,
   "id": "38197ddd",
   "metadata": {},
   "outputs": [
    {
     "data": {
      "text/plain": [
       "['Finlandia', 'GEORGIA', 'Japón', 'Perú', 'China']"
      ]
     },
     "execution_count": 20,
     "metadata": {},
     "output_type": "execute_result"
    }
   ],
   "source": [
    "lugares_hermosos"
   ]
  },
  {
   "cell_type": "code",
   "execution_count": 21,
   "id": "0368509c",
   "metadata": {},
   "outputs": [],
   "source": [
    "lugares_hermosos.append(\"China\")"
   ]
  },
  {
   "cell_type": "code",
   "execution_count": 22,
   "id": "dc878d8e",
   "metadata": {},
   "outputs": [
    {
     "data": {
      "text/plain": [
       "['Finlandia', 'GEORGIA', 'Japón', 'Perú', 'China', 'China']"
      ]
     },
     "execution_count": 22,
     "metadata": {},
     "output_type": "execute_result"
    }
   ],
   "source": [
    "lugares_hermosos"
   ]
  },
  {
   "cell_type": "markdown",
   "id": "3723004c",
   "metadata": {},
   "source": [
    "En la siguiente lista agrega el numero 7000 justo despues del numero 6000 (en la misma lista anidada)\n",
    "\n",
    "Resultado esperado: [10, 20, [300, 400, [5000, 6000, 7000], 500], 30, 40]"
   ]
  },
  {
   "cell_type": "code",
   "execution_count": 17,
   "id": "b7822807",
   "metadata": {},
   "outputs": [],
   "source": [
    "lista_challenge = [10, 20, [300, 400, [5000, 6000], 500], 30, 40]\n",
    "lista_challenge[2][2].append(7000)"
   ]
  },
  {
   "cell_type": "code",
   "execution_count": 18,
   "id": "9a242278",
   "metadata": {},
   "outputs": [
    {
     "data": {
      "text/plain": [
       "[10, 20, [300, 400, [5000, 6000, 7000], 500], 30, 40]"
      ]
     },
     "execution_count": 18,
     "metadata": {},
     "output_type": "execute_result"
    }
   ],
   "source": [
    "lista_challenge"
   ]
  },
  {
   "cell_type": "markdown",
   "id": "951f99ec",
   "metadata": {},
   "source": [
    "Dictionary"
   ]
  },
  {
   "cell_type": "code",
   "execution_count": 25,
   "id": "33f0beed",
   "metadata": {},
   "outputs": [
    {
     "data": {
      "text/plain": [
       "{'append': 'Agrega un elemento a la lista',\n",
       " 'copy': 'Devuelve una copia de la lista',\n",
       " 'extend': 'Agrega elementos iterables al final de la lista',\n",
       " 'pop': 'Remueve el elemento de la posición especificada',\n",
       " 'reverse': 'Invierte el orden de la lista'}"
      ]
     },
     "execution_count": 25,
     "metadata": {},
     "output_type": "execute_result"
    }
   ],
   "source": [
    "methods_in_lists={\n",
    "    \"append\":\"Agrega un elemento a la lista\",\n",
    "    \"copy\":\"Devuelve una copia de la lista\",\n",
    "    \"extend\":\"Agrega elementos iterables al final de la lista\",\n",
    "    \"pop\":\"Remueve el elemento de la posición especificada\",\n",
    "    \"reverse\":\"Invierte el orden de la lista\"\n",
    "}\n",
    "methods_in_lists"
   ]
  },
  {
   "cell_type": "code",
   "execution_count": 29,
   "id": "dd2b10cb",
   "metadata": {},
   "outputs": [],
   "source": [
    "keys_in_methods=list(methods_in_lists.keys())"
   ]
  },
  {
   "cell_type": "code",
   "execution_count": 30,
   "id": "f4414283",
   "metadata": {},
   "outputs": [
    {
     "data": {
      "text/plain": [
       "['append', 'copy', 'extend', 'pop', 'reverse']"
      ]
     },
     "execution_count": 30,
     "metadata": {},
     "output_type": "execute_result"
    }
   ],
   "source": [
    "keys_in_methods"
   ]
  },
  {
   "cell_type": "code",
   "execution_count": null,
   "id": "65515045",
   "metadata": {},
   "outputs": [],
   "source": []
  }
 ],
 "metadata": {
  "kernelspec": {
   "display_name": "Python 3 (ipykernel)",
   "language": "python",
   "name": "python3"
  },
  "language_info": {
   "codemirror_mode": {
    "name": "ipython",
    "version": 3
   },
   "file_extension": ".py",
   "mimetype": "text/x-python",
   "name": "python",
   "nbconvert_exporter": "python",
   "pygments_lexer": "ipython3",
   "version": "3.10.11"
  }
 },
 "nbformat": 4,
 "nbformat_minor": 5
}
