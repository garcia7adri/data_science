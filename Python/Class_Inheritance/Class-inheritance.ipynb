{
 "cells": [
  {
   "cell_type": "markdown",
   "id": "53389591",
   "metadata": {},
   "source": [
    "9-6. Ice Cream Stand: An ice cream stand is a specific kind of restaurant Write\n",
    "a class called IceCreamStand that inherits from the Restaurant class.\n",
    "Add an attribute called flavors that stores a list of ice cream flavors Write a method that displays\n",
    "these flavors Create an instance of IceCreamStand, and call this method.\n"
   ]
  },
  {
   "cell_type": "code",
   "execution_count": 1,
   "id": "65cfa922",
   "metadata": {},
   "outputs": [],
   "source": [
    "#Inheriting restaurant class and creating an ice cream shop\n",
    "class restaurant():\n",
    "    \n",
    "    \"\"\"A restaurant opening\"\"\"\n",
    "    def __init__(self,restaurant_name,cuisine_type):\n",
    "        \"\"\"Initialize name and cuisine type attributes\"\"\"\n",
    "        self.restaurant_name=restaurant_name\n",
    "        self.cuisine_type=cuisine_type\n",
    "        self.status=\"open\"\n",
    "        self.numb_served=0\n",
    "    def describe_restaurant(self):\n",
    "        print(f\"The name of the restuarant is: {self.restaurant_name}. The cuisine type is {self.cuisine_type}\")\n",
    "        \n",
    "    def status_restaurant(self):\n",
    "        print(f\"The restaurant is {self.status}\")\n",
    "    def number_served(self):\n",
    "        print(f\"The number of clients that have been served is: {self.numb_served}\")\n",
    "    def set_number_served(self,clients):\n",
    "        self.numb_served=clients    \n",
    "    def increment_number_served(self,clients):\n",
    "        self.numb_served+=clients\n",
    "        self.number_served()"
   ]
  },
  {
   "cell_type": "code",
   "execution_count": 27,
   "id": "2ae93a0d",
   "metadata": {},
   "outputs": [],
   "source": [
    "#Inheriting\n",
    "class ice_cream_shop(restaurant):\n",
    "    def __init__(self, restaurant_name,cuisine_type, flavors=\"coconut, chocolate, vanilla\"):\n",
    "        \n",
    "        super().__init__(restaurant_name,cuisine_type)\n",
    "        self.flavors=flavors\n",
    "    def name_flavors(self):\n",
    "        print(f\"This ice cream shop sells these flavors: {self.flavors}\")\n",
    "    "
   ]
  },
  {
   "cell_type": "code",
   "execution_count": 30,
   "id": "aff038f2",
   "metadata": {},
   "outputs": [
    {
     "name": "stdout",
     "output_type": "stream",
     "text": [
      "This ice cream shop sells these flavors: coconut, chocolate, vanilla\n"
     ]
    }
   ],
   "source": [
    "Chocomountain=ice_cream_shop(\"Choco Mountain\", \"Ice cream shop\")\n",
    "Chocomountain.name_flavors()"
   ]
  },
  {
   "cell_type": "code",
   "execution_count": 31,
   "id": "3f43173b",
   "metadata": {},
   "outputs": [
    {
     "name": "stdout",
     "output_type": "stream",
     "text": [
      "This ice cream shop sells these flavors: Lemon\n"
     ]
    }
   ],
   "source": [
    "Chocomountain.flavors=\"Lemon\"\n",
    "Chocomountain.name_flavors()"
   ]
  },
  {
   "cell_type": "markdown",
   "id": "201882da",
   "metadata": {},
   "source": [
    "9-7. Admin: An administrator is a special kind of user Write a class called Admin that inherits from the User class \n",
    "Add an attribute, privileges, that stores a list of strings like \"can add post\", \"can delete post\", \"can ban user\", \n",
    "and so on Write a method called show_privileges() that lists the administrator’s set of privileges \n",
    "Create an instance of Admin, and call your method"
   ]
  },
  {
   "cell_type": "code",
   "execution_count": 63,
   "id": "f5fd96c7",
   "metadata": {},
   "outputs": [],
   "source": [
    "#Creating an admi from user class\n",
    "class user():\n",
    "    def __init__(self,first_name,second_name):\n",
    "        self.first_name=first_name\n",
    "        self.second_name=second_name\n",
    "        self.login_attempts=0\n",
    "        \n",
    "    def describe_user(self):\n",
    "        print(f\"The user name is {self.first_name} and the second name is {self.second_name}.\")\n",
    "    def greet_user(self):\n",
    "        print(f\"Hi dear {self.first_name}! We are glad to see you.\")\n",
    "    def increment_login_attempts(self,count=1):\n",
    "        self.login_attempts += count\n",
    "        print(self.login_attempts)\n",
    "    def reset_login_attempts(self):\n",
    "        self.login_attempts = 0\n",
    "        print(self.login_attempts)\n",
    "        \n",
    "class admi(user):\n",
    "    def __init__(self,first_name,second_name):\n",
    "        super().__init__(first_name,second_name)\n",
    "        self.privileges=[\"can add post\", \"can delete post\", \"can ban user\"]\n",
    "        \n",
    "    def show_privileges(self):\n",
    "        print(f\"The privileges for the administrator are:\")\n",
    "        for privilege in self.privileges:\n",
    "            print(f\"- \", privilege)\n",
    "                \n",
    "        "
   ]
  },
  {
   "cell_type": "code",
   "execution_count": 64,
   "id": "12e3586a",
   "metadata": {},
   "outputs": [
    {
     "name": "stdout",
     "output_type": "stream",
     "text": [
      "The privileges for the administrator are:\n",
      "-  can add post\n",
      "-  can delete post\n",
      "-  can ban user\n"
     ]
    }
   ],
   "source": [
    "luis=admi(\"Luis\",\"Gutierrez\")\n",
    "luis.show_privileges()"
   ]
  },
  {
   "cell_type": "markdown",
   "id": "24e41c42",
   "metadata": {},
   "source": [
    "9-8. Privileges: Write a separate Privileges class \n",
    "The class should have one attribute, privileges, that stores a list of strings.\n",
    "Move the show_privileges() method to this class Make a Privileges instance as an attribute in the Admin class Create a new instance of Admin and use your method to show its privileges"
   ]
  },
  {
   "cell_type": "code",
   "execution_count": 10,
   "id": "fff78dbd",
   "metadata": {},
   "outputs": [],
   "source": [
    "#Creating an admi from user class\n",
    "class user():\n",
    "    def __init__(self,first_name,second_name):\n",
    "        self.first_name=first_name\n",
    "        self.second_name=second_name\n",
    "        self.login_attempts=0\n",
    "        \n",
    "    def describe_user(self):\n",
    "        print(f\"The user name is {self.first_name} and the second name is {self.second_name}.\")\n",
    "    def greet_user(self):\n",
    "        print(f\"Hi dear {self.first_name}! We are glad to see you.\")\n",
    "    def increment_login_attempts(self,count=1):\n",
    "        self.login_attempts += count\n",
    "        print(self.login_attempts)\n",
    "    def reset_login_attempts(self):\n",
    "        self.login_attempts = 0\n",
    "        print(self.login_attempts)\n",
    "class privilege_cl():\n",
    "    def __init__(self,privileges=[\"can add post\", \"can delete post\", \"can ban user\"]):    \n",
    "        self.privileges=privileges\n",
    "    \n",
    "    def show_privileges(self):\n",
    "        print(f\"The privileges for the administrator are:\")\n",
    "        for privilege in self.privileges:\n",
    "            print(f\"- \", privilege)\n",
    "            \n",
    "class admi(user):\n",
    "    def __init__(self,first_name,second_name):\n",
    "        super().__init__(first_name,second_name)\n",
    "        self.privileges=privilege_cl()\n",
    "        \n",
    "  "
   ]
  },
  {
   "cell_type": "code",
   "execution_count": 11,
   "id": "4beae9ed",
   "metadata": {},
   "outputs": [
    {
     "name": "stdout",
     "output_type": "stream",
     "text": [
      "The privileges for the administrator are:\n",
      "-  can add post\n",
      "-  can delete post\n",
      "-  can ban user\n"
     ]
    }
   ],
   "source": [
    "luis=admi(\"Luis\",\"Gutierrez\")\n",
    "luis.privileges.show_privileges()\n"
   ]
  },
  {
   "cell_type": "markdown",
   "id": "537c110c",
   "metadata": {},
   "source": [
    "9-9. Battery Upgrade: \n",
    "Add a method to the Battery class called upgrade_battery() This method should check the battery size and set the capacity to 85 if it isn’t already.\n",
    "Make an electric car with a default battery size, call get_range() once, and then call get_range() a second time after upgrading the battery You should see an increase in the car’s range."
   ]
  },
  {
   "cell_type": "code",
   "execution_count": 78,
   "id": "13f5bb09",
   "metadata": {},
   "outputs": [],
   "source": [
    "#Updating a class\n",
    "class Car():\n",
    "    \"\"\"A simple attempt to represent a car.\"\"\"\n",
    "    def __init__(self, make, model, year):\n",
    "        self.make = make\n",
    "        self.model = model\n",
    "        self.year = year\n",
    "        self.odometer_reading = 0\n",
    "    def get_descriptive_name(self):\n",
    "        long_name = str(self.year) + ' ' + self.make + ' ' + self.model\n",
    "        return long_name.title()\n",
    "    def read_odometer(self):\n",
    "        print(\"This car has \" + str(self.odometer_reading) + \" miles on it.\")\n",
    "    def update_odometer(self, mileage):\n",
    "        if mileage >= self.odometer_reading:\n",
    "            self.odometer_reading = mileage\n",
    "        else:\n",
    "            print(\"You can't roll back an odometer!\")\n",
    "    def increment_odometer(self, miles):\n",
    "        self.odometer_reading += miles\n",
    "class Battery():\n",
    "    \"\"\"A simple attempt to model a battery for an electric car.\"\"\"\n",
    "    def __init__(self, battery_size=70):\n",
    "        \"\"\"Initialize the battery's attributes.\"\"\"\n",
    "        self.battery_size = battery_size\n",
    "\n",
    "    def describe_battery(self):\n",
    "        \"\"\"Print a statement describing the battery size.\"\"\"\n",
    "        print(\"This car has a \" + str(self.battery_size) + \"-kWh battery.\")\n",
    "    def upgrade_battery(self):\n",
    "        self.battery_size=85\n",
    "        \n",
    "class ElectricCar(Car):\n",
    "    \"\"\"Represent aspects of a car, specific to electric vehicles.\"\"\"\n",
    "    def __init__(self, make, model, year):\n",
    "        \"\"\"\n",
    "        Initialize attributes of the parent class.\n",
    "        Then initialize attributes specific to an electric car.\n",
    "        \"\"\"\n",
    "        super().__init__(make, model, year)\n",
    "        self.battery = Battery()\n",
    "    \n"
   ]
  },
  {
   "cell_type": "code",
   "execution_count": 79,
   "id": "f998c80a",
   "metadata": {},
   "outputs": [
    {
     "name": "stdout",
     "output_type": "stream",
     "text": [
      "2016 Tesla Model S\n",
      "This car has a 70-kWh battery.\n"
     ]
    }
   ],
   "source": [
    "my_tesla = ElectricCar('tesla', 'model s', 2016)\n",
    "print(my_tesla.get_descriptive_name())\n",
    "my_tesla.battery.describe_battery()"
   ]
  },
  {
   "cell_type": "code",
   "execution_count": 80,
   "id": "22713ef3",
   "metadata": {},
   "outputs": [
    {
     "name": "stdout",
     "output_type": "stream",
     "text": [
      "This car has a 70-kWh battery.\n"
     ]
    }
   ],
   "source": [
    "my_tesla.battery.describe_battery()"
   ]
  },
  {
   "cell_type": "code",
   "execution_count": 81,
   "id": "2217c8e5",
   "metadata": {},
   "outputs": [],
   "source": [
    "my_tesla.battery.upgrade_battery()"
   ]
  },
  {
   "cell_type": "code",
   "execution_count": 82,
   "id": "0a05d1f7",
   "metadata": {},
   "outputs": [
    {
     "name": "stdout",
     "output_type": "stream",
     "text": [
      "This car has a 85-kWh battery.\n"
     ]
    }
   ],
   "source": [
    "my_tesla.battery.describe_battery()"
   ]
  },
  {
   "cell_type": "code",
   "execution_count": null,
   "id": "bfd11a7d",
   "metadata": {},
   "outputs": [],
   "source": []
  }
 ],
 "metadata": {
  "kernelspec": {
   "display_name": "Python 3 (ipykernel)",
   "language": "python",
   "name": "python3"
  },
  "language_info": {
   "codemirror_mode": {
    "name": "ipython",
    "version": 3
   },
   "file_extension": ".py",
   "mimetype": "text/x-python",
   "name": "python",
   "nbconvert_exporter": "python",
   "pygments_lexer": "ipython3",
   "version": "3.10.11"
  }
 },
 "nbformat": 4,
 "nbformat_minor": 5
}
