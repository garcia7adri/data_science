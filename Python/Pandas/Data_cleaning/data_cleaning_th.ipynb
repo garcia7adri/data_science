{
  "nbformat": 4,
  "nbformat_minor": 0,
  "metadata": {
    "colab": {
      "provenance": []
    },
    "kernelspec": {
      "name": "python3",
      "display_name": "Python 3"
    },
    "language_info": {
      "name": "python"
    }
  },
  "cells": [
    {
      "cell_type": "markdown",
      "source": [
        "# **ACCESO, CONVERSIONES Y LIMPIEZA DE DATOS**"
      ],
      "metadata": {
        "id": "bMvQ04NPXEbI"
      }
    },
    {
      "cell_type": "code",
      "execution_count": 1,
      "metadata": {
        "id": "MP7r0afbVWPF"
      },
      "outputs": [],
      "source": [
        "# Importar librerías\n",
        "import pandas as pd\n",
        "import numpy as np"
      ]
    },
    {
      "cell_type": "code",
      "source": [
        "#Leer CSV\n",
        "\n",
        "invoices = pd.read_csv('https://raw.githubusercontent.com/FBosler/you-datascientist/master/invoices.csv')"
      ],
      "metadata": {
        "id": "-sm8uwioVigT"
      },
      "execution_count": 2,
      "outputs": []
    },
    {
      "cell_type": "markdown",
      "source": [
        "## **TIPO DE DATOS, ACCESOS Y CONVERSIONES**"
      ],
      "metadata": {
        "id": "pZ3yyuXkXXmP"
      }
    },
    {
      "cell_type": "markdown",
      "source": [
        "Hay 7 tipos de datos: \n",
        "\n",
        "*   **object**: este tipo de datos se utiliza para cadenas (es decir, secuencias de caracteres).\n",
        "\n",
        "*   **int64**: Usado para números enteros (números enteros, sin decimales)\n",
        "\n",
        "*   **float64**: Usado para números de coma flotante (es decir, cifras con decimales/fracciones)\n",
        "\n",
        "*   **bool**: Usado para valores que solo pueden ser Verdadero/Falso\n",
        "\n",
        "*   **datetime64**: Usado para valores de fecha y hora\n",
        "\n",
        "*   **timedelta**: se utiliza para representar la diferencia entre fechas y horas\n",
        "\n",
        "*   **category**: se usa para valores que toman uno de un número limitado de opciones disponibles (las categorías no tienen que hacerlo, pero pueden tener un orden explícito)."
      ],
      "metadata": {
        "id": "F16JC5VFu9gF"
      }
    },
    {
      "cell_type": "code",
      "source": [
        "invoices.head(3)"
      ],
      "metadata": {
        "id": "tTohH4v8-ojn",
        "colab": {
          "base_uri": "https://localhost:8080/",
          "height": 187
        },
        "outputId": "d07835f9-0130-4a5e-8c8c-85a81ee21585"
      },
      "execution_count": 3,
      "outputs": [
        {
          "output_type": "execute_result",
          "data": {
            "text/plain": [
              "           Order Id        Date           Meal Id        Company Id  \\\n",
              "0  839FKFW2LLX4LMBB  2016-05-27  INBUX904GIHI8YBD  LJKS5NK6788CYMUU   \n",
              "1  97OX39BGVMHODLJM  2018-09-27  J0MMOOPP709DIDIE  LJKS5NK6788CYMUU   \n",
              "2  041ORQM5OIHTIU6L  2014-08-24  E4UJLQNCI16UX5CS  LJKS5NK6788CYMUU   \n",
              "\n",
              "                Date of Meal        Participants  Meal Price Type of Meal  \\\n",
              "0  2016-05-31 07:00:00+02:00    ['David Bishop']       469.0    Breakfast   \n",
              "1  2018-10-01 20:00:00+02:00    ['David Bishop']        22.0       Dinner   \n",
              "2  2014-08-23 14:00:00+02:00  ['Karen Stansell']       314.0        Lunch   \n",
              "\n",
              "   Heroes Adjustment  \n",
              "0              False  \n",
              "1              False  \n",
              "2              False  "
            ],
            "text/html": [
              "\n",
              "  <div id=\"df-a9ce3924-5ff6-431a-8443-e0960f4a08d5\">\n",
              "    <div class=\"colab-df-container\">\n",
              "      <div>\n",
              "<style scoped>\n",
              "    .dataframe tbody tr th:only-of-type {\n",
              "        vertical-align: middle;\n",
              "    }\n",
              "\n",
              "    .dataframe tbody tr th {\n",
              "        vertical-align: top;\n",
              "    }\n",
              "\n",
              "    .dataframe thead th {\n",
              "        text-align: right;\n",
              "    }\n",
              "</style>\n",
              "<table border=\"1\" class=\"dataframe\">\n",
              "  <thead>\n",
              "    <tr style=\"text-align: right;\">\n",
              "      <th></th>\n",
              "      <th>Order Id</th>\n",
              "      <th>Date</th>\n",
              "      <th>Meal Id</th>\n",
              "      <th>Company Id</th>\n",
              "      <th>Date of Meal</th>\n",
              "      <th>Participants</th>\n",
              "      <th>Meal Price</th>\n",
              "      <th>Type of Meal</th>\n",
              "      <th>Heroes Adjustment</th>\n",
              "    </tr>\n",
              "  </thead>\n",
              "  <tbody>\n",
              "    <tr>\n",
              "      <th>0</th>\n",
              "      <td>839FKFW2LLX4LMBB</td>\n",
              "      <td>2016-05-27</td>\n",
              "      <td>INBUX904GIHI8YBD</td>\n",
              "      <td>LJKS5NK6788CYMUU</td>\n",
              "      <td>2016-05-31 07:00:00+02:00</td>\n",
              "      <td>['David Bishop']</td>\n",
              "      <td>469.0</td>\n",
              "      <td>Breakfast</td>\n",
              "      <td>False</td>\n",
              "    </tr>\n",
              "    <tr>\n",
              "      <th>1</th>\n",
              "      <td>97OX39BGVMHODLJM</td>\n",
              "      <td>2018-09-27</td>\n",
              "      <td>J0MMOOPP709DIDIE</td>\n",
              "      <td>LJKS5NK6788CYMUU</td>\n",
              "      <td>2018-10-01 20:00:00+02:00</td>\n",
              "      <td>['David Bishop']</td>\n",
              "      <td>22.0</td>\n",
              "      <td>Dinner</td>\n",
              "      <td>False</td>\n",
              "    </tr>\n",
              "    <tr>\n",
              "      <th>2</th>\n",
              "      <td>041ORQM5OIHTIU6L</td>\n",
              "      <td>2014-08-24</td>\n",
              "      <td>E4UJLQNCI16UX5CS</td>\n",
              "      <td>LJKS5NK6788CYMUU</td>\n",
              "      <td>2014-08-23 14:00:00+02:00</td>\n",
              "      <td>['Karen Stansell']</td>\n",
              "      <td>314.0</td>\n",
              "      <td>Lunch</td>\n",
              "      <td>False</td>\n",
              "    </tr>\n",
              "  </tbody>\n",
              "</table>\n",
              "</div>\n",
              "      <button class=\"colab-df-convert\" onclick=\"convertToInteractive('df-a9ce3924-5ff6-431a-8443-e0960f4a08d5')\"\n",
              "              title=\"Convert this dataframe to an interactive table.\"\n",
              "              style=\"display:none;\">\n",
              "        \n",
              "  <svg xmlns=\"http://www.w3.org/2000/svg\" height=\"24px\"viewBox=\"0 0 24 24\"\n",
              "       width=\"24px\">\n",
              "    <path d=\"M0 0h24v24H0V0z\" fill=\"none\"/>\n",
              "    <path d=\"M18.56 5.44l.94 2.06.94-2.06 2.06-.94-2.06-.94-.94-2.06-.94 2.06-2.06.94zm-11 1L8.5 8.5l.94-2.06 2.06-.94-2.06-.94L8.5 2.5l-.94 2.06-2.06.94zm10 10l.94 2.06.94-2.06 2.06-.94-2.06-.94-.94-2.06-.94 2.06-2.06.94z\"/><path d=\"M17.41 7.96l-1.37-1.37c-.4-.4-.92-.59-1.43-.59-.52 0-1.04.2-1.43.59L10.3 9.45l-7.72 7.72c-.78.78-.78 2.05 0 2.83L4 21.41c.39.39.9.59 1.41.59.51 0 1.02-.2 1.41-.59l7.78-7.78 2.81-2.81c.8-.78.8-2.07 0-2.86zM5.41 20L4 18.59l7.72-7.72 1.47 1.35L5.41 20z\"/>\n",
              "  </svg>\n",
              "      </button>\n",
              "      \n",
              "  <style>\n",
              "    .colab-df-container {\n",
              "      display:flex;\n",
              "      flex-wrap:wrap;\n",
              "      gap: 12px;\n",
              "    }\n",
              "\n",
              "    .colab-df-convert {\n",
              "      background-color: #E8F0FE;\n",
              "      border: none;\n",
              "      border-radius: 50%;\n",
              "      cursor: pointer;\n",
              "      display: none;\n",
              "      fill: #1967D2;\n",
              "      height: 32px;\n",
              "      padding: 0 0 0 0;\n",
              "      width: 32px;\n",
              "    }\n",
              "\n",
              "    .colab-df-convert:hover {\n",
              "      background-color: #E2EBFA;\n",
              "      box-shadow: 0px 1px 2px rgba(60, 64, 67, 0.3), 0px 1px 3px 1px rgba(60, 64, 67, 0.15);\n",
              "      fill: #174EA6;\n",
              "    }\n",
              "\n",
              "    [theme=dark] .colab-df-convert {\n",
              "      background-color: #3B4455;\n",
              "      fill: #D2E3FC;\n",
              "    }\n",
              "\n",
              "    [theme=dark] .colab-df-convert:hover {\n",
              "      background-color: #434B5C;\n",
              "      box-shadow: 0px 1px 3px 1px rgba(0, 0, 0, 0.15);\n",
              "      filter: drop-shadow(0px 1px 2px rgba(0, 0, 0, 0.3));\n",
              "      fill: #FFFFFF;\n",
              "    }\n",
              "  </style>\n",
              "\n",
              "      <script>\n",
              "        const buttonEl =\n",
              "          document.querySelector('#df-a9ce3924-5ff6-431a-8443-e0960f4a08d5 button.colab-df-convert');\n",
              "        buttonEl.style.display =\n",
              "          google.colab.kernel.accessAllowed ? 'block' : 'none';\n",
              "\n",
              "        async function convertToInteractive(key) {\n",
              "          const element = document.querySelector('#df-a9ce3924-5ff6-431a-8443-e0960f4a08d5');\n",
              "          const dataTable =\n",
              "            await google.colab.kernel.invokeFunction('convertToInteractive',\n",
              "                                                     [key], {});\n",
              "          if (!dataTable) return;\n",
              "\n",
              "          const docLinkHtml = 'Like what you see? Visit the ' +\n",
              "            '<a target=\"_blank\" href=https://colab.research.google.com/notebooks/data_table.ipynb>data table notebook</a>'\n",
              "            + ' to learn more about interactive tables.';\n",
              "          element.innerHTML = '';\n",
              "          dataTable['output_type'] = 'display_data';\n",
              "          await google.colab.output.renderOutput(dataTable, element);\n",
              "          const docLink = document.createElement('div');\n",
              "          docLink.innerHTML = docLinkHtml;\n",
              "          element.appendChild(docLink);\n",
              "        }\n",
              "      </script>\n",
              "    </div>\n",
              "  </div>\n",
              "  "
            ]
          },
          "metadata": {},
          "execution_count": 3
        }
      ]
    },
    {
      "cell_type": "code",
      "source": [
        "invoices.dtypes"
      ],
      "metadata": {
        "colab": {
          "base_uri": "https://localhost:8080/"
        },
        "id": "N-vpVIgqAi2U",
        "outputId": "238e61bd-26ce-4525-c81c-1cecde961aa0"
      },
      "execution_count": 4,
      "outputs": [
        {
          "output_type": "execute_result",
          "data": {
            "text/plain": [
              "Order Id              object\n",
              "Date                  object\n",
              "Meal Id               object\n",
              "Company Id            object\n",
              "Date of Meal          object\n",
              "Participants          object\n",
              "Meal Price           float64\n",
              "Type of Meal          object\n",
              "Heroes Adjustment       bool\n",
              "dtype: object"
            ]
          },
          "metadata": {},
          "execution_count": 4
        }
      ]
    },
    {
      "cell_type": "code",
      "source": [
        "def relative_unique(df, col):\n",
        "    print(f\"{col}: {100 *  invoices[col].nunique() / len(invoices):.2f}%\")"
      ],
      "metadata": {
        "id": "tKL2HS-SALzz"
      },
      "execution_count": 5,
      "outputs": []
    },
    {
      "cell_type": "code",
      "source": [
        "for col in invoices.columns:\n",
        "    relative_unique(invoices, col)"
      ],
      "metadata": {
        "colab": {
          "base_uri": "https://localhost:8080/"
        },
        "id": "UXiKFuDcAZTq",
        "outputId": "a544d7df-0911-4349-d4d1-5e9c22975de0"
      },
      "execution_count": 6,
      "outputs": [
        {
          "output_type": "stream",
          "name": "stdout",
          "text": [
            "Order Id: 100.00%\n",
            "Date: 3.65%\n",
            "Meal Id: 100.00%\n",
            "Company Id: 9.45%\n",
            "Date of Meal: 31.37%\n",
            "Participants: 55.43%\n",
            "Meal Price: 2.01%\n",
            "Type of Meal: 0.01%\n",
            "Heroes Adjustment: 0.00%\n"
          ]
        }
      ]
    },
    {
      "cell_type": "code",
      "source": [
        "invoices['Type of Meal'].value_counts()"
      ],
      "metadata": {
        "colab": {
          "base_uri": "https://localhost:8080/"
        },
        "id": "xx_BHwDyAvKb",
        "outputId": "7dd28ea7-ff4b-4142-91dd-761bde1635b5"
      },
      "execution_count": 8,
      "outputs": [
        {
          "output_type": "execute_result",
          "data": {
            "text/plain": [
              "Dinner       16732\n",
              "Breakfast    16663\n",
              "Lunch        16622\n",
              "Name: Type of Meal, dtype: int64"
            ]
          },
          "metadata": {},
          "execution_count": 8
        }
      ]
    },
    {
      "cell_type": "markdown",
      "source": [
        "#### **Uso de .astype()**"
      ],
      "metadata": {
        "id": "o7Kz0A7zqsiD"
      }
    },
    {
      "cell_type": "code",
      "source": [
        "invoices['Date'] = invoices['Date'].astype('datetime64')\n",
        "invoices['Type of Meal'] = invoices['Type of Meal'].astype('category')\n",
        "invoices['Meal Price'] = invoices['Meal Price'].astype('int64')\n",
        "invoices.dtypes"
      ],
      "metadata": {
        "id": "DccW9lO6-qsX"
      },
      "execution_count": null,
      "outputs": []
    },
    {
      "cell_type": "code",
      "source": [
        "invoices['Date']= invoices['Date'].astype('datetime64')\n",
        "invoices['Type of Meal']= invoices['Type of Meal'].astype('category')\n",
        "invoices['Meal Price'] = invoices['Meal Price'].astype('int64')\n",
        "invoices.dtypes"
      ],
      "metadata": {
        "colab": {
          "base_uri": "https://localhost:8080/"
        },
        "id": "zHzXSrCAh4qE",
        "outputId": "319bd750-92a7-47ba-f6a9-bb88d5f30fd6"
      },
      "execution_count": 10,
      "outputs": [
        {
          "output_type": "stream",
          "name": "stderr",
          "text": [
            "<ipython-input-10-d45ce6e3879b>:1: FutureWarning: Passing unit-less datetime64 dtype to .astype is deprecated and will raise in a future version. Pass 'datetime64[ns]' instead\n",
            "  invoices['Date']= invoices['Date'].astype('datetime64')\n"
          ]
        },
        {
          "output_type": "execute_result",
          "data": {
            "text/plain": [
              "Order Id                     object\n",
              "Date                 datetime64[ns]\n",
              "Meal Id                      object\n",
              "Company Id                   object\n",
              "Date of Meal                 object\n",
              "Participants                 object\n",
              "Meal Price                    int64\n",
              "Type of Meal               category\n",
              "Heroes Adjustment              bool\n",
              "dtype: object"
            ]
          },
          "metadata": {},
          "execution_count": 10
        }
      ]
    },
    {
      "cell_type": "markdown",
      "source": [
        "### **CONVERTIR TIPOS DE DATOS**"
      ],
      "metadata": {
        "id": "WU3_vIAFYRJr"
      }
    },
    {
      "cell_type": "markdown",
      "source": [
        "Hay dos formas estándar de convertir tipos de datos de pandas usando funciones auxiliares de conversión ``` .astype( )```, como: ``` pd.to_numeric ``` o ``` pd.to_datetime ```."
      ],
      "metadata": {
        "id": "YAo7R5jQva3v"
      }
    },
    {
      "cell_type": "code",
      "source": [],
      "metadata": {
        "id": "S2E2ykS5-tBR"
      },
      "execution_count": null,
      "outputs": []
    },
    {
      "cell_type": "markdown",
      "source": [
        "#### **Uso de pd.to_numeric**"
      ],
      "metadata": {
        "id": "mCr7CNsuntdn"
      }
    },
    {
      "cell_type": "code",
      "source": [
        "### introduzcamos un error\n",
        "invoices.loc[45612,'Meal Price'] = 'I am here'\n",
        "invoices.loc[45620,'Meal Price'] = 'Me too'"
      ],
      "metadata": {
        "id": "ivbE-ADnB4I-"
      },
      "execution_count": 11,
      "outputs": []
    },
    {
      "cell_type": "code",
      "source": [
        "invoices.dtypes"
      ],
      "metadata": {
        "colab": {
          "base_uri": "https://localhost:8080/"
        },
        "id": "EZ4B320oB6Yq",
        "outputId": "a600375d-edba-494e-9229-03a03b7a7602"
      },
      "execution_count": 12,
      "outputs": [
        {
          "output_type": "execute_result",
          "data": {
            "text/plain": [
              "Order Id                     object\n",
              "Date                 datetime64[ns]\n",
              "Meal Id                      object\n",
              "Company Id                   object\n",
              "Date of Meal                 object\n",
              "Participants                 object\n",
              "Meal Price                   object\n",
              "Type of Meal               category\n",
              "Heroes Adjustment              bool\n",
              "dtype: object"
            ]
          },
          "metadata": {},
          "execution_count": 12
        }
      ]
    },
    {
      "cell_type": "code",
      "source": [
        "invoices['Meal Price'] = pd.to_numeric(invoices['Meal Price'])#,errors = 'coerce')\n",
        "#invoices1 = invoices[invoices['Meal Price'].isnull()]\n",
        "#invoices1\n",
        "invoices.dtypes"
      ],
      "metadata": {
        "id": "enp2k0Yu-ypw",
        "colab": {
          "base_uri": "https://localhost:8080/"
        },
        "outputId": "23925834-8c15-4560-cc9d-980d09e624ec"
      },
      "execution_count": null,
      "outputs": [
        {
          "output_type": "execute_result",
          "data": {
            "text/plain": [
              "Order Id              object\n",
              "Date                  object\n",
              "Meal Id               object\n",
              "Company Id            object\n",
              "Date of Meal          object\n",
              "Participants          object\n",
              "Meal Price           float64\n",
              "Type of Meal          object\n",
              "Heroes Adjustment       bool\n",
              "dtype: object"
            ]
          },
          "metadata": {},
          "execution_count": 63
        }
      ]
    },
    {
      "cell_type": "code",
      "source": [
        "invoices['Meal Price']=pd.to_numeric(invoices['Meal Price'], errors=\"coerce\") #coerce sets an invalid parsing will be set as NaN"
      ],
      "metadata": {
        "id": "CME12A6xi5xb"
      },
      "execution_count": 14,
      "outputs": []
    },
    {
      "cell_type": "code",
      "source": [
        "invoices1 = invoices[invoices['Meal Price'].isnull()]\n",
        "invoices1"
      ],
      "metadata": {
        "id": "fxjE7eMjCYs3",
        "colab": {
          "base_uri": "https://localhost:8080/",
          "height": 208
        },
        "outputId": "0833094b-9f76-4e75-b553-8d194dcc4145"
      },
      "execution_count": 16,
      "outputs": [
        {
          "output_type": "execute_result",
          "data": {
            "text/plain": [
              "               Order Id       Date           Meal Id        Company Id  \\\n",
              "45612  SJA1F92KXWZDH398 2017-02-26  OOW0UEXQY5RMPPZ8  ICNGUMLKEB27T1P3   \n",
              "45620  2DKPL6A229CN4WH3 2014-05-22  JH8G8O5LQEUF7U3W  OJKDXPQQXYUOGGJB   \n",
              "\n",
              "                    Date of Meal                     Participants  Meal Price  \\\n",
              "45612  2017-03-02 20:00:00+01:00                 ['Betty Stroud']         NaN   \n",
              "45620  2014-05-20 20:00:00+02:00  ['Alex Ellis' 'Angela Aguirre']         NaN   \n",
              "\n",
              "      Type of Meal  Heroes Adjustment  \n",
              "45612       Dinner              False  \n",
              "45620       Dinner              False  "
            ],
            "text/html": [
              "\n",
              "  <div id=\"df-b4b55395-bf9a-4f3c-8e8e-93b195e7794f\">\n",
              "    <div class=\"colab-df-container\">\n",
              "      <div>\n",
              "<style scoped>\n",
              "    .dataframe tbody tr th:only-of-type {\n",
              "        vertical-align: middle;\n",
              "    }\n",
              "\n",
              "    .dataframe tbody tr th {\n",
              "        vertical-align: top;\n",
              "    }\n",
              "\n",
              "    .dataframe thead th {\n",
              "        text-align: right;\n",
              "    }\n",
              "</style>\n",
              "<table border=\"1\" class=\"dataframe\">\n",
              "  <thead>\n",
              "    <tr style=\"text-align: right;\">\n",
              "      <th></th>\n",
              "      <th>Order Id</th>\n",
              "      <th>Date</th>\n",
              "      <th>Meal Id</th>\n",
              "      <th>Company Id</th>\n",
              "      <th>Date of Meal</th>\n",
              "      <th>Participants</th>\n",
              "      <th>Meal Price</th>\n",
              "      <th>Type of Meal</th>\n",
              "      <th>Heroes Adjustment</th>\n",
              "    </tr>\n",
              "  </thead>\n",
              "  <tbody>\n",
              "    <tr>\n",
              "      <th>45612</th>\n",
              "      <td>SJA1F92KXWZDH398</td>\n",
              "      <td>2017-02-26</td>\n",
              "      <td>OOW0UEXQY5RMPPZ8</td>\n",
              "      <td>ICNGUMLKEB27T1P3</td>\n",
              "      <td>2017-03-02 20:00:00+01:00</td>\n",
              "      <td>['Betty Stroud']</td>\n",
              "      <td>NaN</td>\n",
              "      <td>Dinner</td>\n",
              "      <td>False</td>\n",
              "    </tr>\n",
              "    <tr>\n",
              "      <th>45620</th>\n",
              "      <td>2DKPL6A229CN4WH3</td>\n",
              "      <td>2014-05-22</td>\n",
              "      <td>JH8G8O5LQEUF7U3W</td>\n",
              "      <td>OJKDXPQQXYUOGGJB</td>\n",
              "      <td>2014-05-20 20:00:00+02:00</td>\n",
              "      <td>['Alex Ellis' 'Angela Aguirre']</td>\n",
              "      <td>NaN</td>\n",
              "      <td>Dinner</td>\n",
              "      <td>False</td>\n",
              "    </tr>\n",
              "  </tbody>\n",
              "</table>\n",
              "</div>\n",
              "      <button class=\"colab-df-convert\" onclick=\"convertToInteractive('df-b4b55395-bf9a-4f3c-8e8e-93b195e7794f')\"\n",
              "              title=\"Convert this dataframe to an interactive table.\"\n",
              "              style=\"display:none;\">\n",
              "        \n",
              "  <svg xmlns=\"http://www.w3.org/2000/svg\" height=\"24px\"viewBox=\"0 0 24 24\"\n",
              "       width=\"24px\">\n",
              "    <path d=\"M0 0h24v24H0V0z\" fill=\"none\"/>\n",
              "    <path d=\"M18.56 5.44l.94 2.06.94-2.06 2.06-.94-2.06-.94-.94-2.06-.94 2.06-2.06.94zm-11 1L8.5 8.5l.94-2.06 2.06-.94-2.06-.94L8.5 2.5l-.94 2.06-2.06.94zm10 10l.94 2.06.94-2.06 2.06-.94-2.06-.94-.94-2.06-.94 2.06-2.06.94z\"/><path d=\"M17.41 7.96l-1.37-1.37c-.4-.4-.92-.59-1.43-.59-.52 0-1.04.2-1.43.59L10.3 9.45l-7.72 7.72c-.78.78-.78 2.05 0 2.83L4 21.41c.39.39.9.59 1.41.59.51 0 1.02-.2 1.41-.59l7.78-7.78 2.81-2.81c.8-.78.8-2.07 0-2.86zM5.41 20L4 18.59l7.72-7.72 1.47 1.35L5.41 20z\"/>\n",
              "  </svg>\n",
              "      </button>\n",
              "      \n",
              "  <style>\n",
              "    .colab-df-container {\n",
              "      display:flex;\n",
              "      flex-wrap:wrap;\n",
              "      gap: 12px;\n",
              "    }\n",
              "\n",
              "    .colab-df-convert {\n",
              "      background-color: #E8F0FE;\n",
              "      border: none;\n",
              "      border-radius: 50%;\n",
              "      cursor: pointer;\n",
              "      display: none;\n",
              "      fill: #1967D2;\n",
              "      height: 32px;\n",
              "      padding: 0 0 0 0;\n",
              "      width: 32px;\n",
              "    }\n",
              "\n",
              "    .colab-df-convert:hover {\n",
              "      background-color: #E2EBFA;\n",
              "      box-shadow: 0px 1px 2px rgba(60, 64, 67, 0.3), 0px 1px 3px 1px rgba(60, 64, 67, 0.15);\n",
              "      fill: #174EA6;\n",
              "    }\n",
              "\n",
              "    [theme=dark] .colab-df-convert {\n",
              "      background-color: #3B4455;\n",
              "      fill: #D2E3FC;\n",
              "    }\n",
              "\n",
              "    [theme=dark] .colab-df-convert:hover {\n",
              "      background-color: #434B5C;\n",
              "      box-shadow: 0px 1px 3px 1px rgba(0, 0, 0, 0.15);\n",
              "      filter: drop-shadow(0px 1px 2px rgba(0, 0, 0, 0.3));\n",
              "      fill: #FFFFFF;\n",
              "    }\n",
              "  </style>\n",
              "\n",
              "      <script>\n",
              "        const buttonEl =\n",
              "          document.querySelector('#df-b4b55395-bf9a-4f3c-8e8e-93b195e7794f button.colab-df-convert');\n",
              "        buttonEl.style.display =\n",
              "          google.colab.kernel.accessAllowed ? 'block' : 'none';\n",
              "\n",
              "        async function convertToInteractive(key) {\n",
              "          const element = document.querySelector('#df-b4b55395-bf9a-4f3c-8e8e-93b195e7794f');\n",
              "          const dataTable =\n",
              "            await google.colab.kernel.invokeFunction('convertToInteractive',\n",
              "                                                     [key], {});\n",
              "          if (!dataTable) return;\n",
              "\n",
              "          const docLinkHtml = 'Like what you see? Visit the ' +\n",
              "            '<a target=\"_blank\" href=https://colab.research.google.com/notebooks/data_table.ipynb>data table notebook</a>'\n",
              "            + ' to learn more about interactive tables.';\n",
              "          element.innerHTML = '';\n",
              "          dataTable['output_type'] = 'display_data';\n",
              "          await google.colab.output.renderOutput(dataTable, element);\n",
              "          const docLink = document.createElement('div');\n",
              "          docLink.innerHTML = docLinkHtml;\n",
              "          element.appendChild(docLink);\n",
              "        }\n",
              "      </script>\n",
              "    </div>\n",
              "  </div>\n",
              "  "
            ]
          },
          "metadata": {},
          "execution_count": 16
        }
      ]
    },
    {
      "cell_type": "code",
      "source": [
        "invoices.dtypes"
      ],
      "metadata": {
        "colab": {
          "base_uri": "https://localhost:8080/"
        },
        "id": "V-yQ7uuCkQv1",
        "outputId": "b5455536-d548-4baa-b629-86bc5c47c627"
      },
      "execution_count": 18,
      "outputs": [
        {
          "output_type": "execute_result",
          "data": {
            "text/plain": [
              "Order Id                     object\n",
              "Date                 datetime64[ns]\n",
              "Meal Id                      object\n",
              "Company Id                   object\n",
              "Date of Meal                 object\n",
              "Participants                 object\n",
              "Meal Price                  float64\n",
              "Type of Meal               category\n",
              "Heroes Adjustment              bool\n",
              "dtype: object"
            ]
          },
          "metadata": {},
          "execution_count": 18
        }
      ]
    },
    {
      "cell_type": "markdown",
      "source": [
        "#### **Uso de pd.to_datetime**"
      ],
      "metadata": {
        "id": "y31i3cSHj8xO"
      }
    },
    {
      "cell_type": "code",
      "source": [
        "print(pd.to_datetime('2019-8-1'))\n",
        "print(pd.to_datetime('Aug, 1 2019'))\n",
        "print(pd.to_datetime('20190801'))"
      ],
      "metadata": {
        "colab": {
          "base_uri": "https://localhost:8080/"
        },
        "id": "vdQj4mk3kVW5",
        "outputId": "dca1cf80-f975-4d41-aece-7b502b839f95"
      },
      "execution_count": 19,
      "outputs": [
        {
          "output_type": "stream",
          "name": "stdout",
          "text": [
            "2019-08-01 00:00:00\n",
            "2019-08-01 00:00:00\n",
            "2019-08-01 00:00:00\n"
          ]
        }
      ]
    },
    {
      "cell_type": "code",
      "source": [
        "pd.to_datetime('20190108',format = '%Y%d%m')"
      ],
      "metadata": {
        "id": "_0U5lzMeCN9B"
      },
      "execution_count": null,
      "outputs": []
    },
    {
      "cell_type": "code",
      "source": [
        "pd.to_datetime('20190108', format = '%Y%d%m')"
      ],
      "metadata": {
        "colab": {
          "base_uri": "https://localhost:8080/"
        },
        "id": "oodGoT2ik1EU",
        "outputId": "9a682cc4-d062-49a3-e8ee-ecaaee912f5c"
      },
      "execution_count": 21,
      "outputs": [
        {
          "output_type": "execute_result",
          "data": {
            "text/plain": [
              "Timestamp('2019-08-01 00:00:00')"
            ]
          },
          "metadata": {},
          "execution_count": 21
        }
      ]
    },
    {
      "cell_type": "code",
      "source": [
        "pd.to_datetime('yonn 20190108',format = '%Y%d%m',exact = False)\n",
        "pd.to_datetime('yonn 20190108', format = '%Y%d%m', exact = False)"
      ],
      "metadata": {
        "colab": {
          "base_uri": "https://localhost:8080/"
        },
        "id": "4aKrrCNICSCO",
        "outputId": "b260a94c-ae0e-4408-c3cb-f5213c9c70b9"
      },
      "execution_count": 22,
      "outputs": [
        {
          "output_type": "execute_result",
          "data": {
            "text/plain": [
              "Timestamp('2019-08-01 00:00:00')"
            ]
          },
          "metadata": {},
          "execution_count": 22
        }
      ]
    },
    {
      "cell_type": "code",
      "source": [
        "invoices['Date'] = pd.to_datetime(invoices['Date'])\n",
        "invoices['Date'] = pd.to_datetime(invoices['Date'])#"
      ],
      "metadata": {
        "id": "OGVEW3lbCer5"
      },
      "execution_count": 23,
      "outputs": []
    },
    {
      "cell_type": "code",
      "source": [
        "invoices.dtypes"
      ],
      "metadata": {
        "id": "dev4RpH_Ch5D",
        "colab": {
          "base_uri": "https://localhost:8080/"
        },
        "outputId": "fa72b31b-22a0-416e-b5b3-0c66b239cb92"
      },
      "execution_count": 24,
      "outputs": [
        {
          "output_type": "execute_result",
          "data": {
            "text/plain": [
              "Order Id                     object\n",
              "Date                 datetime64[ns]\n",
              "Meal Id                      object\n",
              "Company Id                   object\n",
              "Date of Meal                 object\n",
              "Participants                 object\n",
              "Meal Price                  float64\n",
              "Type of Meal               category\n",
              "Heroes Adjustment              bool\n",
              "dtype: object"
            ]
          },
          "metadata": {},
          "execution_count": 24
        }
      ]
    },
    {
      "cell_type": "markdown",
      "source": [
        "### **ACCESO ÚTILES A TIPOS DE DATOS**"
      ],
      "metadata": {
        "id": "Zm7Upkudr-CH"
      }
    },
    {
      "cell_type": "markdown",
      "source": [
        "Hay tres accesorios diferentes: **dt, str** y **cat**"
      ],
      "metadata": {
        "id": "ukIfs8MMstVF"
      }
    },
    {
      "cell_type": "markdown",
      "source": [
        "#### **Uso de dt**"
      ],
      "metadata": {
        "id": "Gbx-H9rts9-5"
      }
    },
    {
      "cell_type": "code",
      "source": [
        "invoices['Date'].dt.date\n",
        "invoices['Date'].dt.date"
      ],
      "metadata": {
        "id": "01Ybha3w-7AH",
        "colab": {
          "base_uri": "https://localhost:8080/"
        },
        "outputId": "dec1a124-a723-420b-d1b0-7bdc8a1c233d"
      },
      "execution_count": 25,
      "outputs": [
        {
          "output_type": "execute_result",
          "data": {
            "text/plain": [
              "0        2016-05-27\n",
              "1        2018-09-27\n",
              "2        2014-08-24\n",
              "3        2014-04-12\n",
              "4        2015-07-28\n",
              "            ...    \n",
              "50012    2017-09-20\n",
              "50013    2018-03-19\n",
              "50014    2017-09-21\n",
              "50015    2018-01-28\n",
              "50016    2017-09-06\n",
              "Name: Date, Length: 50017, dtype: object"
            ]
          },
          "metadata": {},
          "execution_count": 25
        }
      ]
    },
    {
      "cell_type": "code",
      "source": [
        "invoices['Date'].dt.year\n",
        "invoices['Date'].dt.year"
      ],
      "metadata": {
        "id": "sjBmnfu6Cnf9",
        "colab": {
          "base_uri": "https://localhost:8080/"
        },
        "outputId": "5dbec8fd-4341-4db9-f53a-3323fb09f7f1"
      },
      "execution_count": 26,
      "outputs": [
        {
          "output_type": "execute_result",
          "data": {
            "text/plain": [
              "0        2016\n",
              "1        2018\n",
              "2        2014\n",
              "3        2014\n",
              "4        2015\n",
              "         ... \n",
              "50012    2017\n",
              "50013    2018\n",
              "50014    2017\n",
              "50015    2018\n",
              "50016    2017\n",
              "Name: Date, Length: 50017, dtype: int64"
            ]
          },
          "metadata": {},
          "execution_count": 26
        }
      ]
    },
    {
      "cell_type": "code",
      "source": [
        "invoices['Date'].dt.day\n",
        "invoices['Date'].dt.day"
      ],
      "metadata": {
        "id": "6WYSoeOqCndd",
        "colab": {
          "base_uri": "https://localhost:8080/"
        },
        "outputId": "bf89d7f7-d195-49a6-bdec-7f17f61c2899"
      },
      "execution_count": 28,
      "outputs": [
        {
          "output_type": "execute_result",
          "data": {
            "text/plain": [
              "0        27\n",
              "1        27\n",
              "2        24\n",
              "3        12\n",
              "4        28\n",
              "         ..\n",
              "50012    20\n",
              "50013    19\n",
              "50014    21\n",
              "50015    28\n",
              "50016     6\n",
              "Name: Date, Length: 50017, dtype: int64"
            ]
          },
          "metadata": {},
          "execution_count": 28
        }
      ]
    },
    {
      "cell_type": "code",
      "source": [
        "invoices['Date'].dt.day_name()\n",
        "invoices['Date'].dt.day_name()"
      ],
      "metadata": {
        "id": "p1THXjOvCnaW",
        "colab": {
          "base_uri": "https://localhost:8080/"
        },
        "outputId": "a76477ca-809b-4a03-b4f1-7e44863627c6"
      },
      "execution_count": 29,
      "outputs": [
        {
          "output_type": "execute_result",
          "data": {
            "text/plain": [
              "0           Friday\n",
              "1         Thursday\n",
              "2           Sunday\n",
              "3         Saturday\n",
              "4          Tuesday\n",
              "           ...    \n",
              "50012    Wednesday\n",
              "50013       Monday\n",
              "50014     Thursday\n",
              "50015       Sunday\n",
              "50016    Wednesday\n",
              "Name: Date, Length: 50017, dtype: object"
            ]
          },
          "metadata": {},
          "execution_count": 29
        }
      ]
    },
    {
      "cell_type": "code",
      "source": [
        "invoices['Date'].dt.month_name()\n",
        "invoices['Date'].dt.month_name()"
      ],
      "metadata": {
        "id": "EEkaQDjHCnXV",
        "colab": {
          "base_uri": "https://localhost:8080/"
        },
        "outputId": "641839c6-1e7f-4d01-f9f4-476414658297"
      },
      "execution_count": 30,
      "outputs": [
        {
          "output_type": "execute_result",
          "data": {
            "text/plain": [
              "0              May\n",
              "1        September\n",
              "2           August\n",
              "3            April\n",
              "4             July\n",
              "           ...    \n",
              "50012    September\n",
              "50013        March\n",
              "50014    September\n",
              "50015      January\n",
              "50016    September\n",
              "Name: Date, Length: 50017, dtype: object"
            ]
          },
          "metadata": {},
          "execution_count": 30
        }
      ]
    },
    {
      "cell_type": "code",
      "source": [
        "invoices['Date'].dt.days_in_month\n",
        "invoices['Date'].dt.days_in_month"
      ],
      "metadata": {
        "id": "ik6r4bVTCq0G",
        "colab": {
          "base_uri": "https://localhost:8080/"
        },
        "outputId": "52e5a98c-cdfa-4f45-e385-65b18d064c82"
      },
      "execution_count": 31,
      "outputs": [
        {
          "output_type": "execute_result",
          "data": {
            "text/plain": [
              "0        31\n",
              "1        30\n",
              "2        31\n",
              "3        30\n",
              "4        31\n",
              "         ..\n",
              "50012    30\n",
              "50013    31\n",
              "50014    30\n",
              "50015    31\n",
              "50016    30\n",
              "Name: Date, Length: 50017, dtype: int64"
            ]
          },
          "metadata": {},
          "execution_count": 31
        }
      ]
    },
    {
      "cell_type": "code",
      "source": [],
      "metadata": {
        "id": "BR7LpSTaCqxZ"
      },
      "execution_count": null,
      "outputs": []
    },
    {
      "cell_type": "code",
      "source": [],
      "metadata": {
        "id": "1ssS8XWtCquy"
      },
      "execution_count": null,
      "outputs": []
    },
    {
      "cell_type": "markdown",
      "source": [
        "Los períodos disponibles para ``` dt.to_period()``` son **W, M, Q** e **Y**, lo que convierte las fechas en períodos"
      ],
      "metadata": {
        "id": "IJAewDw5wCrP"
      }
    },
    {
      "cell_type": "code",
      "source": [
        "invoices['Date'].dt.to_period('W')"
      ],
      "metadata": {
        "id": "8yHR29y--8uC",
        "colab": {
          "base_uri": "https://localhost:8080/"
        },
        "outputId": "653a88ef-fbd7-401c-cf98-ed10d2dd18a2"
      },
      "execution_count": 33,
      "outputs": [
        {
          "output_type": "execute_result",
          "data": {
            "text/plain": [
              "0        2016-05-23/2016-05-29\n",
              "1        2018-09-24/2018-09-30\n",
              "2        2014-08-18/2014-08-24\n",
              "3        2014-04-07/2014-04-13\n",
              "4        2015-07-27/2015-08-02\n",
              "                 ...          \n",
              "50012    2017-09-18/2017-09-24\n",
              "50013    2018-03-19/2018-03-25\n",
              "50014    2017-09-18/2017-09-24\n",
              "50015    2018-01-22/2018-01-28\n",
              "50016    2017-09-04/2017-09-10\n",
              "Name: Date, Length: 50017, dtype: period[W-SUN]"
            ]
          },
          "metadata": {},
          "execution_count": 33
        }
      ]
    },
    {
      "cell_type": "code",
      "source": [
        "invoices['Date'].dt.to_period('M')"
      ],
      "metadata": {
        "id": "f1UYIhcWCxAE",
        "colab": {
          "base_uri": "https://localhost:8080/"
        },
        "outputId": "09548a33-463e-4fd2-b565-a6be42e221c3"
      },
      "execution_count": 32,
      "outputs": [
        {
          "output_type": "execute_result",
          "data": {
            "text/plain": [
              "0        2016-05\n",
              "1        2018-09\n",
              "2        2014-08\n",
              "3        2014-04\n",
              "4        2015-07\n",
              "          ...   \n",
              "50012    2017-09\n",
              "50013    2018-03\n",
              "50014    2017-09\n",
              "50015    2018-01\n",
              "50016    2017-09\n",
              "Name: Date, Length: 50017, dtype: period[M]"
            ]
          },
          "metadata": {},
          "execution_count": 32
        }
      ]
    },
    {
      "cell_type": "code",
      "source": [
        "invoices['Date'].dt.to_period('Q')"
      ],
      "metadata": {
        "id": "4xZCtK_6Cw8j",
        "colab": {
          "base_uri": "https://localhost:8080/"
        },
        "outputId": "1d3a5970-aa85-428d-f8a4-7b5f6a86ffa2"
      },
      "execution_count": 34,
      "outputs": [
        {
          "output_type": "execute_result",
          "data": {
            "text/plain": [
              "0        2016Q2\n",
              "1        2018Q3\n",
              "2        2014Q3\n",
              "3        2014Q2\n",
              "4        2015Q3\n",
              "          ...  \n",
              "50012    2017Q3\n",
              "50013    2018Q1\n",
              "50014    2017Q3\n",
              "50015    2018Q1\n",
              "50016    2017Q3\n",
              "Name: Date, Length: 50017, dtype: period[Q-DEC]"
            ]
          },
          "metadata": {},
          "execution_count": 34
        }
      ]
    },
    {
      "cell_type": "code",
      "source": [
        "invoices['Date'].dt.to_period('Y')"
      ],
      "metadata": {
        "id": "kLc-F7NsCw1W",
        "colab": {
          "base_uri": "https://localhost:8080/"
        },
        "outputId": "78296ebd-8abc-4ec8-8b3e-91aac6ee88fa"
      },
      "execution_count": 36,
      "outputs": [
        {
          "output_type": "execute_result",
          "data": {
            "text/plain": [
              "0        2016\n",
              "1        2018\n",
              "2        2014\n",
              "3        2014\n",
              "4        2015\n",
              "         ... \n",
              "50012    2017\n",
              "50013    2018\n",
              "50014    2017\n",
              "50015    2018\n",
              "50016    2017\n",
              "Name: Date, Length: 50017, dtype: period[A-DEC]"
            ]
          },
          "metadata": {},
          "execution_count": 36
        }
      ]
    },
    {
      "cell_type": "markdown",
      "source": [
        "#### **Uso de str**"
      ],
      "metadata": {
        "id": "zNjY0IJqtZGu"
      }
    },
    {
      "cell_type": "markdown",
      "source": [
        "Existen funciones como:\n",
        "\n",
        "*   **str.lower()**\n",
        "*   **str.upper()**\n",
        "*   **str.swapcase()**\n",
        "*   **str.title()**\n",
        "\n",
        "Que ayudan a administrar un formato de letra en las cadenas."
      ],
      "metadata": {
        "id": "N1YJzk2uwxPz"
      }
    },
    {
      "cell_type": "code",
      "source": [
        "invoices['Type of Meal'].str.title()\n",
        "invoices['Type of Meal'].str.title()"
      ],
      "metadata": {
        "id": "mvxvroTR_B4Z",
        "colab": {
          "base_uri": "https://localhost:8080/"
        },
        "outputId": "c00c9595-b73f-4b89-ed8a-34206aafcb97"
      },
      "execution_count": 38,
      "outputs": [
        {
          "output_type": "execute_result",
          "data": {
            "text/plain": [
              "0        Breakfast\n",
              "1           Dinner\n",
              "2            Lunch\n",
              "3           Dinner\n",
              "4            Lunch\n",
              "           ...    \n",
              "50012    Breakfast\n",
              "50013    Breakfast\n",
              "50014       Dinner\n",
              "50015       Dinner\n",
              "50016        Lunch\n",
              "Name: Type of Meal, Length: 50017, dtype: object"
            ]
          },
          "metadata": {},
          "execution_count": 38
        }
      ]
    },
    {
      "cell_type": "code",
      "source": [
        "invoices['Type of Meal'].str.zfill(width = 15)"
      ],
      "metadata": {
        "id": "l76s9_QrC3SQ"
      },
      "execution_count": null,
      "outputs": []
    },
    {
      "cell_type": "code",
      "source": [
        "invoices['Type of Meal'].str.zfill(width=15)"
      ],
      "metadata": {
        "id": "_KV6x03_C3NQ",
        "colab": {
          "base_uri": "https://localhost:8080/"
        },
        "outputId": "b68ba9c0-4321-454b-cda6-161da403d513"
      },
      "execution_count": 39,
      "outputs": [
        {
          "output_type": "execute_result",
          "data": {
            "text/plain": [
              "0        000000Breakfast\n",
              "1        000000000Dinner\n",
              "2        0000000000Lunch\n",
              "3        000000000Dinner\n",
              "4        0000000000Lunch\n",
              "              ...       \n",
              "50012    000000Breakfast\n",
              "50013    000000Breakfast\n",
              "50014    000000000Dinner\n",
              "50015    000000000Dinner\n",
              "50016    0000000000Lunch\n",
              "Name: Type of Meal, Length: 50017, dtype: object"
            ]
          },
          "metadata": {},
          "execution_count": 39
        }
      ]
    },
    {
      "cell_type": "code",
      "source": [
        "invoices[invoices['Type of Meal'].str.endswith('ast')]\n",
        "invoices[invoices['Type of Meal'].str.endswith('ast')]"
      ],
      "metadata": {
        "id": "cDqKmyEHC3KQ",
        "colab": {
          "base_uri": "https://localhost:8080/",
          "height": 659
        },
        "outputId": "e5360cae-dbd5-4d50-bb0c-df48b985ec30"
      },
      "execution_count": 40,
      "outputs": [
        {
          "output_type": "execute_result",
          "data": {
            "text/plain": [
              "               Order Id       Date           Meal Id        Company Id  \\\n",
              "0      839FKFW2LLX4LMBB 2016-05-27  INBUX904GIHI8YBD  LJKS5NK6788CYMUU   \n",
              "7      FM608JK1N01BPUQN 2014-05-08  E8WJZ1FOSKZD2MJN  36MFTZOYMTAJP1RK   \n",
              "11     8RIGCF74GUEQHQEE 2018-07-23  5XK0KTFTD6OAP9ZP  36MFTZOYMTAJP1RK   \n",
              "12     TH60C9D8TPYS7DGG 2016-12-15  KDSMP2VJ22HNEPYF  36MFTZOYMTAJP1RK   \n",
              "17     KNF3E3QTOQ22J269 2018-06-20  737T2U7604ABDFDF  36MFTZOYMTAJP1RK   \n",
              "...                 ...        ...               ...               ...   \n",
              "50008  UHIE76EGIC2KFP34 2016-08-06  BFLY4LHHUI5OIREM  FC1LJXHNH2883N3Y   \n",
              "50009  FWH3N8N5ARW53BE6 2016-03-17  WHVI4J3J388I8I4B  FC1LJXHNH2883N3Y   \n",
              "50011  81J2RM0YM63VAT0K 2018-06-03  HNXSJZQ120WGAWZP  E4K99D4JR9E40VE1   \n",
              "50012  4OMS8ZSA0UX8LHWI 2017-09-20  1TD5MROATV1NHZ4Y  E4K99D4JR9E40VE1   \n",
              "50013  RR0VKJN8V0KHNKGG 2018-03-19  22EX9VZSJKHP4AIP  E4K99D4JR9E40VE1   \n",
              "\n",
              "                    Date of Meal  \\\n",
              "0      2016-05-31 07:00:00+02:00   \n",
              "7      2014-05-07 09:00:00+02:00   \n",
              "11     2018-07-27 08:00:00+02:00   \n",
              "12     2016-12-13 08:00:00+01:00   \n",
              "17     2018-06-15 07:00:00+02:00   \n",
              "...                          ...   \n",
              "50008  2016-08-08 08:00:00+02:00   \n",
              "50009  2016-03-12 09:00:00+01:00   \n",
              "50011  2018-06-03 07:00:00+02:00   \n",
              "50012  2017-09-21 08:00:00+02:00   \n",
              "50013  2018-03-18 09:00:00+01:00   \n",
              "\n",
              "                                            Participants  Meal Price  \\\n",
              "0                                       ['David Bishop']       469.0   \n",
              "7      ['Amanda Knowles' 'Cheryl Feaster' 'Ginger Hoa...       320.0   \n",
              "11                                    ['Amanda Knowles']       210.0   \n",
              "12     ['Cheryl Feaster' 'Bret Adams' 'Ginger Hoagland']       755.0   \n",
              "17     ['Glenn Gould' 'Cheryl Feaster' 'Ginger Hoagla...       475.0   \n",
              "...                                                  ...         ...   \n",
              "50008                                   ['Jerry Nelson']       164.0   \n",
              "50009                        ['Jon Ponce' 'Alice Allen']       523.0   \n",
              "50011                 ['Chester Mortimer' 'Robin Ramos']       598.0   \n",
              "50012                                 ['Regina Shirley']         9.0   \n",
              "50013                 ['Robin Ramos' 'Chester Mortimer']        25.0   \n",
              "\n",
              "      Type of Meal  Heroes Adjustment  \n",
              "0        Breakfast              False  \n",
              "7        Breakfast              False  \n",
              "11       Breakfast              False  \n",
              "12       Breakfast              False  \n",
              "17       Breakfast              False  \n",
              "...            ...                ...  \n",
              "50008    Breakfast              False  \n",
              "50009    Breakfast              False  \n",
              "50011    Breakfast              False  \n",
              "50012    Breakfast              False  \n",
              "50013    Breakfast              False  \n",
              "\n",
              "[16663 rows x 9 columns]"
            ],
            "text/html": [
              "\n",
              "  <div id=\"df-c079d6fe-0a35-48b1-907f-a3e7ee1d9e2f\">\n",
              "    <div class=\"colab-df-container\">\n",
              "      <div>\n",
              "<style scoped>\n",
              "    .dataframe tbody tr th:only-of-type {\n",
              "        vertical-align: middle;\n",
              "    }\n",
              "\n",
              "    .dataframe tbody tr th {\n",
              "        vertical-align: top;\n",
              "    }\n",
              "\n",
              "    .dataframe thead th {\n",
              "        text-align: right;\n",
              "    }\n",
              "</style>\n",
              "<table border=\"1\" class=\"dataframe\">\n",
              "  <thead>\n",
              "    <tr style=\"text-align: right;\">\n",
              "      <th></th>\n",
              "      <th>Order Id</th>\n",
              "      <th>Date</th>\n",
              "      <th>Meal Id</th>\n",
              "      <th>Company Id</th>\n",
              "      <th>Date of Meal</th>\n",
              "      <th>Participants</th>\n",
              "      <th>Meal Price</th>\n",
              "      <th>Type of Meal</th>\n",
              "      <th>Heroes Adjustment</th>\n",
              "    </tr>\n",
              "  </thead>\n",
              "  <tbody>\n",
              "    <tr>\n",
              "      <th>0</th>\n",
              "      <td>839FKFW2LLX4LMBB</td>\n",
              "      <td>2016-05-27</td>\n",
              "      <td>INBUX904GIHI8YBD</td>\n",
              "      <td>LJKS5NK6788CYMUU</td>\n",
              "      <td>2016-05-31 07:00:00+02:00</td>\n",
              "      <td>['David Bishop']</td>\n",
              "      <td>469.0</td>\n",
              "      <td>Breakfast</td>\n",
              "      <td>False</td>\n",
              "    </tr>\n",
              "    <tr>\n",
              "      <th>7</th>\n",
              "      <td>FM608JK1N01BPUQN</td>\n",
              "      <td>2014-05-08</td>\n",
              "      <td>E8WJZ1FOSKZD2MJN</td>\n",
              "      <td>36MFTZOYMTAJP1RK</td>\n",
              "      <td>2014-05-07 09:00:00+02:00</td>\n",
              "      <td>['Amanda Knowles' 'Cheryl Feaster' 'Ginger Hoa...</td>\n",
              "      <td>320.0</td>\n",
              "      <td>Breakfast</td>\n",
              "      <td>False</td>\n",
              "    </tr>\n",
              "    <tr>\n",
              "      <th>11</th>\n",
              "      <td>8RIGCF74GUEQHQEE</td>\n",
              "      <td>2018-07-23</td>\n",
              "      <td>5XK0KTFTD6OAP9ZP</td>\n",
              "      <td>36MFTZOYMTAJP1RK</td>\n",
              "      <td>2018-07-27 08:00:00+02:00</td>\n",
              "      <td>['Amanda Knowles']</td>\n",
              "      <td>210.0</td>\n",
              "      <td>Breakfast</td>\n",
              "      <td>False</td>\n",
              "    </tr>\n",
              "    <tr>\n",
              "      <th>12</th>\n",
              "      <td>TH60C9D8TPYS7DGG</td>\n",
              "      <td>2016-12-15</td>\n",
              "      <td>KDSMP2VJ22HNEPYF</td>\n",
              "      <td>36MFTZOYMTAJP1RK</td>\n",
              "      <td>2016-12-13 08:00:00+01:00</td>\n",
              "      <td>['Cheryl Feaster' 'Bret Adams' 'Ginger Hoagland']</td>\n",
              "      <td>755.0</td>\n",
              "      <td>Breakfast</td>\n",
              "      <td>False</td>\n",
              "    </tr>\n",
              "    <tr>\n",
              "      <th>17</th>\n",
              "      <td>KNF3E3QTOQ22J269</td>\n",
              "      <td>2018-06-20</td>\n",
              "      <td>737T2U7604ABDFDF</td>\n",
              "      <td>36MFTZOYMTAJP1RK</td>\n",
              "      <td>2018-06-15 07:00:00+02:00</td>\n",
              "      <td>['Glenn Gould' 'Cheryl Feaster' 'Ginger Hoagla...</td>\n",
              "      <td>475.0</td>\n",
              "      <td>Breakfast</td>\n",
              "      <td>False</td>\n",
              "    </tr>\n",
              "    <tr>\n",
              "      <th>...</th>\n",
              "      <td>...</td>\n",
              "      <td>...</td>\n",
              "      <td>...</td>\n",
              "      <td>...</td>\n",
              "      <td>...</td>\n",
              "      <td>...</td>\n",
              "      <td>...</td>\n",
              "      <td>...</td>\n",
              "      <td>...</td>\n",
              "    </tr>\n",
              "    <tr>\n",
              "      <th>50008</th>\n",
              "      <td>UHIE76EGIC2KFP34</td>\n",
              "      <td>2016-08-06</td>\n",
              "      <td>BFLY4LHHUI5OIREM</td>\n",
              "      <td>FC1LJXHNH2883N3Y</td>\n",
              "      <td>2016-08-08 08:00:00+02:00</td>\n",
              "      <td>['Jerry Nelson']</td>\n",
              "      <td>164.0</td>\n",
              "      <td>Breakfast</td>\n",
              "      <td>False</td>\n",
              "    </tr>\n",
              "    <tr>\n",
              "      <th>50009</th>\n",
              "      <td>FWH3N8N5ARW53BE6</td>\n",
              "      <td>2016-03-17</td>\n",
              "      <td>WHVI4J3J388I8I4B</td>\n",
              "      <td>FC1LJXHNH2883N3Y</td>\n",
              "      <td>2016-03-12 09:00:00+01:00</td>\n",
              "      <td>['Jon Ponce' 'Alice Allen']</td>\n",
              "      <td>523.0</td>\n",
              "      <td>Breakfast</td>\n",
              "      <td>False</td>\n",
              "    </tr>\n",
              "    <tr>\n",
              "      <th>50011</th>\n",
              "      <td>81J2RM0YM63VAT0K</td>\n",
              "      <td>2018-06-03</td>\n",
              "      <td>HNXSJZQ120WGAWZP</td>\n",
              "      <td>E4K99D4JR9E40VE1</td>\n",
              "      <td>2018-06-03 07:00:00+02:00</td>\n",
              "      <td>['Chester Mortimer' 'Robin Ramos']</td>\n",
              "      <td>598.0</td>\n",
              "      <td>Breakfast</td>\n",
              "      <td>False</td>\n",
              "    </tr>\n",
              "    <tr>\n",
              "      <th>50012</th>\n",
              "      <td>4OMS8ZSA0UX8LHWI</td>\n",
              "      <td>2017-09-20</td>\n",
              "      <td>1TD5MROATV1NHZ4Y</td>\n",
              "      <td>E4K99D4JR9E40VE1</td>\n",
              "      <td>2017-09-21 08:00:00+02:00</td>\n",
              "      <td>['Regina Shirley']</td>\n",
              "      <td>9.0</td>\n",
              "      <td>Breakfast</td>\n",
              "      <td>False</td>\n",
              "    </tr>\n",
              "    <tr>\n",
              "      <th>50013</th>\n",
              "      <td>RR0VKJN8V0KHNKGG</td>\n",
              "      <td>2018-03-19</td>\n",
              "      <td>22EX9VZSJKHP4AIP</td>\n",
              "      <td>E4K99D4JR9E40VE1</td>\n",
              "      <td>2018-03-18 09:00:00+01:00</td>\n",
              "      <td>['Robin Ramos' 'Chester Mortimer']</td>\n",
              "      <td>25.0</td>\n",
              "      <td>Breakfast</td>\n",
              "      <td>False</td>\n",
              "    </tr>\n",
              "  </tbody>\n",
              "</table>\n",
              "<p>16663 rows × 9 columns</p>\n",
              "</div>\n",
              "      <button class=\"colab-df-convert\" onclick=\"convertToInteractive('df-c079d6fe-0a35-48b1-907f-a3e7ee1d9e2f')\"\n",
              "              title=\"Convert this dataframe to an interactive table.\"\n",
              "              style=\"display:none;\">\n",
              "        \n",
              "  <svg xmlns=\"http://www.w3.org/2000/svg\" height=\"24px\"viewBox=\"0 0 24 24\"\n",
              "       width=\"24px\">\n",
              "    <path d=\"M0 0h24v24H0V0z\" fill=\"none\"/>\n",
              "    <path d=\"M18.56 5.44l.94 2.06.94-2.06 2.06-.94-2.06-.94-.94-2.06-.94 2.06-2.06.94zm-11 1L8.5 8.5l.94-2.06 2.06-.94-2.06-.94L8.5 2.5l-.94 2.06-2.06.94zm10 10l.94 2.06.94-2.06 2.06-.94-2.06-.94-.94-2.06-.94 2.06-2.06.94z\"/><path d=\"M17.41 7.96l-1.37-1.37c-.4-.4-.92-.59-1.43-.59-.52 0-1.04.2-1.43.59L10.3 9.45l-7.72 7.72c-.78.78-.78 2.05 0 2.83L4 21.41c.39.39.9.59 1.41.59.51 0 1.02-.2 1.41-.59l7.78-7.78 2.81-2.81c.8-.78.8-2.07 0-2.86zM5.41 20L4 18.59l7.72-7.72 1.47 1.35L5.41 20z\"/>\n",
              "  </svg>\n",
              "      </button>\n",
              "      \n",
              "  <style>\n",
              "    .colab-df-container {\n",
              "      display:flex;\n",
              "      flex-wrap:wrap;\n",
              "      gap: 12px;\n",
              "    }\n",
              "\n",
              "    .colab-df-convert {\n",
              "      background-color: #E8F0FE;\n",
              "      border: none;\n",
              "      border-radius: 50%;\n",
              "      cursor: pointer;\n",
              "      display: none;\n",
              "      fill: #1967D2;\n",
              "      height: 32px;\n",
              "      padding: 0 0 0 0;\n",
              "      width: 32px;\n",
              "    }\n",
              "\n",
              "    .colab-df-convert:hover {\n",
              "      background-color: #E2EBFA;\n",
              "      box-shadow: 0px 1px 2px rgba(60, 64, 67, 0.3), 0px 1px 3px 1px rgba(60, 64, 67, 0.15);\n",
              "      fill: #174EA6;\n",
              "    }\n",
              "\n",
              "    [theme=dark] .colab-df-convert {\n",
              "      background-color: #3B4455;\n",
              "      fill: #D2E3FC;\n",
              "    }\n",
              "\n",
              "    [theme=dark] .colab-df-convert:hover {\n",
              "      background-color: #434B5C;\n",
              "      box-shadow: 0px 1px 3px 1px rgba(0, 0, 0, 0.15);\n",
              "      filter: drop-shadow(0px 1px 2px rgba(0, 0, 0, 0.3));\n",
              "      fill: #FFFFFF;\n",
              "    }\n",
              "  </style>\n",
              "\n",
              "      <script>\n",
              "        const buttonEl =\n",
              "          document.querySelector('#df-c079d6fe-0a35-48b1-907f-a3e7ee1d9e2f button.colab-df-convert');\n",
              "        buttonEl.style.display =\n",
              "          google.colab.kernel.accessAllowed ? 'block' : 'none';\n",
              "\n",
              "        async function convertToInteractive(key) {\n",
              "          const element = document.querySelector('#df-c079d6fe-0a35-48b1-907f-a3e7ee1d9e2f');\n",
              "          const dataTable =\n",
              "            await google.colab.kernel.invokeFunction('convertToInteractive',\n",
              "                                                     [key], {});\n",
              "          if (!dataTable) return;\n",
              "\n",
              "          const docLinkHtml = 'Like what you see? Visit the ' +\n",
              "            '<a target=\"_blank\" href=https://colab.research.google.com/notebooks/data_table.ipynb>data table notebook</a>'\n",
              "            + ' to learn more about interactive tables.';\n",
              "          element.innerHTML = '';\n",
              "          dataTable['output_type'] = 'display_data';\n",
              "          await google.colab.output.renderOutput(dataTable, element);\n",
              "          const docLink = document.createElement('div');\n",
              "          docLink.innerHTML = docLinkHtml;\n",
              "          element.appendChild(docLink);\n",
              "        }\n",
              "      </script>\n",
              "    </div>\n",
              "  </div>\n",
              "  "
            ]
          },
          "metadata": {},
          "execution_count": 40
        }
      ]
    },
    {
      "cell_type": "code",
      "source": [
        "invoices[invoices['Type of Meal'].str.contains('ast')]\n",
        "invoices[invoices['Type of Meal'].str.contains('ast')]"
      ],
      "metadata": {
        "id": "kBD6gzGFC3HM",
        "colab": {
          "base_uri": "https://localhost:8080/",
          "height": 659
        },
        "outputId": "4b64e23b-1e17-49fd-b036-aea8675c38df"
      },
      "execution_count": 41,
      "outputs": [
        {
          "output_type": "execute_result",
          "data": {
            "text/plain": [
              "               Order Id       Date           Meal Id        Company Id  \\\n",
              "0      839FKFW2LLX4LMBB 2016-05-27  INBUX904GIHI8YBD  LJKS5NK6788CYMUU   \n",
              "7      FM608JK1N01BPUQN 2014-05-08  E8WJZ1FOSKZD2MJN  36MFTZOYMTAJP1RK   \n",
              "11     8RIGCF74GUEQHQEE 2018-07-23  5XK0KTFTD6OAP9ZP  36MFTZOYMTAJP1RK   \n",
              "12     TH60C9D8TPYS7DGG 2016-12-15  KDSMP2VJ22HNEPYF  36MFTZOYMTAJP1RK   \n",
              "17     KNF3E3QTOQ22J269 2018-06-20  737T2U7604ABDFDF  36MFTZOYMTAJP1RK   \n",
              "...                 ...        ...               ...               ...   \n",
              "50008  UHIE76EGIC2KFP34 2016-08-06  BFLY4LHHUI5OIREM  FC1LJXHNH2883N3Y   \n",
              "50009  FWH3N8N5ARW53BE6 2016-03-17  WHVI4J3J388I8I4B  FC1LJXHNH2883N3Y   \n",
              "50011  81J2RM0YM63VAT0K 2018-06-03  HNXSJZQ120WGAWZP  E4K99D4JR9E40VE1   \n",
              "50012  4OMS8ZSA0UX8LHWI 2017-09-20  1TD5MROATV1NHZ4Y  E4K99D4JR9E40VE1   \n",
              "50013  RR0VKJN8V0KHNKGG 2018-03-19  22EX9VZSJKHP4AIP  E4K99D4JR9E40VE1   \n",
              "\n",
              "                    Date of Meal  \\\n",
              "0      2016-05-31 07:00:00+02:00   \n",
              "7      2014-05-07 09:00:00+02:00   \n",
              "11     2018-07-27 08:00:00+02:00   \n",
              "12     2016-12-13 08:00:00+01:00   \n",
              "17     2018-06-15 07:00:00+02:00   \n",
              "...                          ...   \n",
              "50008  2016-08-08 08:00:00+02:00   \n",
              "50009  2016-03-12 09:00:00+01:00   \n",
              "50011  2018-06-03 07:00:00+02:00   \n",
              "50012  2017-09-21 08:00:00+02:00   \n",
              "50013  2018-03-18 09:00:00+01:00   \n",
              "\n",
              "                                            Participants  Meal Price  \\\n",
              "0                                       ['David Bishop']       469.0   \n",
              "7      ['Amanda Knowles' 'Cheryl Feaster' 'Ginger Hoa...       320.0   \n",
              "11                                    ['Amanda Knowles']       210.0   \n",
              "12     ['Cheryl Feaster' 'Bret Adams' 'Ginger Hoagland']       755.0   \n",
              "17     ['Glenn Gould' 'Cheryl Feaster' 'Ginger Hoagla...       475.0   \n",
              "...                                                  ...         ...   \n",
              "50008                                   ['Jerry Nelson']       164.0   \n",
              "50009                        ['Jon Ponce' 'Alice Allen']       523.0   \n",
              "50011                 ['Chester Mortimer' 'Robin Ramos']       598.0   \n",
              "50012                                 ['Regina Shirley']         9.0   \n",
              "50013                 ['Robin Ramos' 'Chester Mortimer']        25.0   \n",
              "\n",
              "      Type of Meal  Heroes Adjustment  \n",
              "0        Breakfast              False  \n",
              "7        Breakfast              False  \n",
              "11       Breakfast              False  \n",
              "12       Breakfast              False  \n",
              "17       Breakfast              False  \n",
              "...            ...                ...  \n",
              "50008    Breakfast              False  \n",
              "50009    Breakfast              False  \n",
              "50011    Breakfast              False  \n",
              "50012    Breakfast              False  \n",
              "50013    Breakfast              False  \n",
              "\n",
              "[16663 rows x 9 columns]"
            ],
            "text/html": [
              "\n",
              "  <div id=\"df-775c8b51-ff0a-43c5-9665-95ede836d6c6\">\n",
              "    <div class=\"colab-df-container\">\n",
              "      <div>\n",
              "<style scoped>\n",
              "    .dataframe tbody tr th:only-of-type {\n",
              "        vertical-align: middle;\n",
              "    }\n",
              "\n",
              "    .dataframe tbody tr th {\n",
              "        vertical-align: top;\n",
              "    }\n",
              "\n",
              "    .dataframe thead th {\n",
              "        text-align: right;\n",
              "    }\n",
              "</style>\n",
              "<table border=\"1\" class=\"dataframe\">\n",
              "  <thead>\n",
              "    <tr style=\"text-align: right;\">\n",
              "      <th></th>\n",
              "      <th>Order Id</th>\n",
              "      <th>Date</th>\n",
              "      <th>Meal Id</th>\n",
              "      <th>Company Id</th>\n",
              "      <th>Date of Meal</th>\n",
              "      <th>Participants</th>\n",
              "      <th>Meal Price</th>\n",
              "      <th>Type of Meal</th>\n",
              "      <th>Heroes Adjustment</th>\n",
              "    </tr>\n",
              "  </thead>\n",
              "  <tbody>\n",
              "    <tr>\n",
              "      <th>0</th>\n",
              "      <td>839FKFW2LLX4LMBB</td>\n",
              "      <td>2016-05-27</td>\n",
              "      <td>INBUX904GIHI8YBD</td>\n",
              "      <td>LJKS5NK6788CYMUU</td>\n",
              "      <td>2016-05-31 07:00:00+02:00</td>\n",
              "      <td>['David Bishop']</td>\n",
              "      <td>469.0</td>\n",
              "      <td>Breakfast</td>\n",
              "      <td>False</td>\n",
              "    </tr>\n",
              "    <tr>\n",
              "      <th>7</th>\n",
              "      <td>FM608JK1N01BPUQN</td>\n",
              "      <td>2014-05-08</td>\n",
              "      <td>E8WJZ1FOSKZD2MJN</td>\n",
              "      <td>36MFTZOYMTAJP1RK</td>\n",
              "      <td>2014-05-07 09:00:00+02:00</td>\n",
              "      <td>['Amanda Knowles' 'Cheryl Feaster' 'Ginger Hoa...</td>\n",
              "      <td>320.0</td>\n",
              "      <td>Breakfast</td>\n",
              "      <td>False</td>\n",
              "    </tr>\n",
              "    <tr>\n",
              "      <th>11</th>\n",
              "      <td>8RIGCF74GUEQHQEE</td>\n",
              "      <td>2018-07-23</td>\n",
              "      <td>5XK0KTFTD6OAP9ZP</td>\n",
              "      <td>36MFTZOYMTAJP1RK</td>\n",
              "      <td>2018-07-27 08:00:00+02:00</td>\n",
              "      <td>['Amanda Knowles']</td>\n",
              "      <td>210.0</td>\n",
              "      <td>Breakfast</td>\n",
              "      <td>False</td>\n",
              "    </tr>\n",
              "    <tr>\n",
              "      <th>12</th>\n",
              "      <td>TH60C9D8TPYS7DGG</td>\n",
              "      <td>2016-12-15</td>\n",
              "      <td>KDSMP2VJ22HNEPYF</td>\n",
              "      <td>36MFTZOYMTAJP1RK</td>\n",
              "      <td>2016-12-13 08:00:00+01:00</td>\n",
              "      <td>['Cheryl Feaster' 'Bret Adams' 'Ginger Hoagland']</td>\n",
              "      <td>755.0</td>\n",
              "      <td>Breakfast</td>\n",
              "      <td>False</td>\n",
              "    </tr>\n",
              "    <tr>\n",
              "      <th>17</th>\n",
              "      <td>KNF3E3QTOQ22J269</td>\n",
              "      <td>2018-06-20</td>\n",
              "      <td>737T2U7604ABDFDF</td>\n",
              "      <td>36MFTZOYMTAJP1RK</td>\n",
              "      <td>2018-06-15 07:00:00+02:00</td>\n",
              "      <td>['Glenn Gould' 'Cheryl Feaster' 'Ginger Hoagla...</td>\n",
              "      <td>475.0</td>\n",
              "      <td>Breakfast</td>\n",
              "      <td>False</td>\n",
              "    </tr>\n",
              "    <tr>\n",
              "      <th>...</th>\n",
              "      <td>...</td>\n",
              "      <td>...</td>\n",
              "      <td>...</td>\n",
              "      <td>...</td>\n",
              "      <td>...</td>\n",
              "      <td>...</td>\n",
              "      <td>...</td>\n",
              "      <td>...</td>\n",
              "      <td>...</td>\n",
              "    </tr>\n",
              "    <tr>\n",
              "      <th>50008</th>\n",
              "      <td>UHIE76EGIC2KFP34</td>\n",
              "      <td>2016-08-06</td>\n",
              "      <td>BFLY4LHHUI5OIREM</td>\n",
              "      <td>FC1LJXHNH2883N3Y</td>\n",
              "      <td>2016-08-08 08:00:00+02:00</td>\n",
              "      <td>['Jerry Nelson']</td>\n",
              "      <td>164.0</td>\n",
              "      <td>Breakfast</td>\n",
              "      <td>False</td>\n",
              "    </tr>\n",
              "    <tr>\n",
              "      <th>50009</th>\n",
              "      <td>FWH3N8N5ARW53BE6</td>\n",
              "      <td>2016-03-17</td>\n",
              "      <td>WHVI4J3J388I8I4B</td>\n",
              "      <td>FC1LJXHNH2883N3Y</td>\n",
              "      <td>2016-03-12 09:00:00+01:00</td>\n",
              "      <td>['Jon Ponce' 'Alice Allen']</td>\n",
              "      <td>523.0</td>\n",
              "      <td>Breakfast</td>\n",
              "      <td>False</td>\n",
              "    </tr>\n",
              "    <tr>\n",
              "      <th>50011</th>\n",
              "      <td>81J2RM0YM63VAT0K</td>\n",
              "      <td>2018-06-03</td>\n",
              "      <td>HNXSJZQ120WGAWZP</td>\n",
              "      <td>E4K99D4JR9E40VE1</td>\n",
              "      <td>2018-06-03 07:00:00+02:00</td>\n",
              "      <td>['Chester Mortimer' 'Robin Ramos']</td>\n",
              "      <td>598.0</td>\n",
              "      <td>Breakfast</td>\n",
              "      <td>False</td>\n",
              "    </tr>\n",
              "    <tr>\n",
              "      <th>50012</th>\n",
              "      <td>4OMS8ZSA0UX8LHWI</td>\n",
              "      <td>2017-09-20</td>\n",
              "      <td>1TD5MROATV1NHZ4Y</td>\n",
              "      <td>E4K99D4JR9E40VE1</td>\n",
              "      <td>2017-09-21 08:00:00+02:00</td>\n",
              "      <td>['Regina Shirley']</td>\n",
              "      <td>9.0</td>\n",
              "      <td>Breakfast</td>\n",
              "      <td>False</td>\n",
              "    </tr>\n",
              "    <tr>\n",
              "      <th>50013</th>\n",
              "      <td>RR0VKJN8V0KHNKGG</td>\n",
              "      <td>2018-03-19</td>\n",
              "      <td>22EX9VZSJKHP4AIP</td>\n",
              "      <td>E4K99D4JR9E40VE1</td>\n",
              "      <td>2018-03-18 09:00:00+01:00</td>\n",
              "      <td>['Robin Ramos' 'Chester Mortimer']</td>\n",
              "      <td>25.0</td>\n",
              "      <td>Breakfast</td>\n",
              "      <td>False</td>\n",
              "    </tr>\n",
              "  </tbody>\n",
              "</table>\n",
              "<p>16663 rows × 9 columns</p>\n",
              "</div>\n",
              "      <button class=\"colab-df-convert\" onclick=\"convertToInteractive('df-775c8b51-ff0a-43c5-9665-95ede836d6c6')\"\n",
              "              title=\"Convert this dataframe to an interactive table.\"\n",
              "              style=\"display:none;\">\n",
              "        \n",
              "  <svg xmlns=\"http://www.w3.org/2000/svg\" height=\"24px\"viewBox=\"0 0 24 24\"\n",
              "       width=\"24px\">\n",
              "    <path d=\"M0 0h24v24H0V0z\" fill=\"none\"/>\n",
              "    <path d=\"M18.56 5.44l.94 2.06.94-2.06 2.06-.94-2.06-.94-.94-2.06-.94 2.06-2.06.94zm-11 1L8.5 8.5l.94-2.06 2.06-.94-2.06-.94L8.5 2.5l-.94 2.06-2.06.94zm10 10l.94 2.06.94-2.06 2.06-.94-2.06-.94-.94-2.06-.94 2.06-2.06.94z\"/><path d=\"M17.41 7.96l-1.37-1.37c-.4-.4-.92-.59-1.43-.59-.52 0-1.04.2-1.43.59L10.3 9.45l-7.72 7.72c-.78.78-.78 2.05 0 2.83L4 21.41c.39.39.9.59 1.41.59.51 0 1.02-.2 1.41-.59l7.78-7.78 2.81-2.81c.8-.78.8-2.07 0-2.86zM5.41 20L4 18.59l7.72-7.72 1.47 1.35L5.41 20z\"/>\n",
              "  </svg>\n",
              "      </button>\n",
              "      \n",
              "  <style>\n",
              "    .colab-df-container {\n",
              "      display:flex;\n",
              "      flex-wrap:wrap;\n",
              "      gap: 12px;\n",
              "    }\n",
              "\n",
              "    .colab-df-convert {\n",
              "      background-color: #E8F0FE;\n",
              "      border: none;\n",
              "      border-radius: 50%;\n",
              "      cursor: pointer;\n",
              "      display: none;\n",
              "      fill: #1967D2;\n",
              "      height: 32px;\n",
              "      padding: 0 0 0 0;\n",
              "      width: 32px;\n",
              "    }\n",
              "\n",
              "    .colab-df-convert:hover {\n",
              "      background-color: #E2EBFA;\n",
              "      box-shadow: 0px 1px 2px rgba(60, 64, 67, 0.3), 0px 1px 3px 1px rgba(60, 64, 67, 0.15);\n",
              "      fill: #174EA6;\n",
              "    }\n",
              "\n",
              "    [theme=dark] .colab-df-convert {\n",
              "      background-color: #3B4455;\n",
              "      fill: #D2E3FC;\n",
              "    }\n",
              "\n",
              "    [theme=dark] .colab-df-convert:hover {\n",
              "      background-color: #434B5C;\n",
              "      box-shadow: 0px 1px 3px 1px rgba(0, 0, 0, 0.15);\n",
              "      filter: drop-shadow(0px 1px 2px rgba(0, 0, 0, 0.3));\n",
              "      fill: #FFFFFF;\n",
              "    }\n",
              "  </style>\n",
              "\n",
              "      <script>\n",
              "        const buttonEl =\n",
              "          document.querySelector('#df-775c8b51-ff0a-43c5-9665-95ede836d6c6 button.colab-df-convert');\n",
              "        buttonEl.style.display =\n",
              "          google.colab.kernel.accessAllowed ? 'block' : 'none';\n",
              "\n",
              "        async function convertToInteractive(key) {\n",
              "          const element = document.querySelector('#df-775c8b51-ff0a-43c5-9665-95ede836d6c6');\n",
              "          const dataTable =\n",
              "            await google.colab.kernel.invokeFunction('convertToInteractive',\n",
              "                                                     [key], {});\n",
              "          if (!dataTable) return;\n",
              "\n",
              "          const docLinkHtml = 'Like what you see? Visit the ' +\n",
              "            '<a target=\"_blank\" href=https://colab.research.google.com/notebooks/data_table.ipynb>data table notebook</a>'\n",
              "            + ' to learn more about interactive tables.';\n",
              "          element.innerHTML = '';\n",
              "          dataTable['output_type'] = 'display_data';\n",
              "          await google.colab.output.renderOutput(dataTable, element);\n",
              "          const docLink = document.createElement('div');\n",
              "          docLink.innerHTML = docLinkHtml;\n",
              "          element.appendChild(docLink);\n",
              "        }\n",
              "      </script>\n",
              "    </div>\n",
              "  </div>\n",
              "  "
            ]
          },
          "metadata": {},
          "execution_count": 41
        }
      ]
    },
    {
      "cell_type": "markdown",
      "source": [
        "## **LIMPIEZA DE DATOS**"
      ],
      "metadata": {
        "id": "OhUpxUps0Zrh"
      }
    },
    {
      "cell_type": "markdown",
      "source": [
        "### **DATOS FALTANTES**"
      ],
      "metadata": {
        "id": "sWmiLOrjgOwi"
      }
    },
    {
      "cell_type": "code",
      "source": [
        "for col in invoices.columns[2:]:\n",
        "    invoices[col] = np.where(\n",
        "        np.random.binomial(\n",
        "            1, np.random.random() / 50, size = len(invoices)) == 1, \n",
        "        np.nan, invoices[col])"
      ],
      "metadata": {
        "id": "8-U4c3qO_Ew4"
      },
      "execution_count": 42,
      "outputs": []
    },
    {
      "cell_type": "code",
      "source": [
        "invoices.isnull().sum()"
      ],
      "metadata": {
        "colab": {
          "base_uri": "https://localhost:8080/"
        },
        "id": "_WNXyridC1I7",
        "outputId": "0be6fa51-cd05-4dad-cb73-c6bb3628bed0"
      },
      "execution_count": 43,
      "outputs": [
        {
          "output_type": "execute_result",
          "data": {
            "text/plain": [
              "Order Id               0\n",
              "Date                   0\n",
              "Meal Id              123\n",
              "Company Id           994\n",
              "Date of Meal         628\n",
              "Participants         306\n",
              "Meal Price           900\n",
              "Type of Meal         645\n",
              "Heroes Adjustment    334\n",
              "dtype: int64"
            ]
          },
          "metadata": {},
          "execution_count": 43
        }
      ]
    },
    {
      "cell_type": "code",
      "source": [],
      "metadata": {
        "id": "6CHVvraYC1FV"
      },
      "execution_count": null,
      "outputs": []
    },
    {
      "cell_type": "code",
      "source": [],
      "metadata": {
        "id": "oNuTCrV0C1CJ"
      },
      "execution_count": null,
      "outputs": []
    },
    {
      "cell_type": "markdown",
      "source": [
        "#### **FILTRANDO DATOS FALTANTES**"
      ],
      "metadata": {
        "id": "basMFxWQSL1v"
      }
    },
    {
      "cell_type": "code",
      "source": [
        "invoices[invoices.isnull().sum(axis=1) > 0].head()\n",
        "invoices[invoices.isnull().sum(axis=1)>0].head()"
      ],
      "metadata": {
        "colab": {
          "base_uri": "https://localhost:8080/",
          "height": 354
        },
        "id": "oBTBc1nGEHfa",
        "outputId": "41250a9f-f5ae-4306-c00a-5d2b1ebd9108"
      },
      "execution_count": 47,
      "outputs": [
        {
          "output_type": "execute_result",
          "data": {
            "text/plain": [
              "            Order Id       Date           Meal Id        Company Id  \\\n",
              "21  5SYB15QEFWD1E4Q4 2017-07-09  KZI0VRU30GLSDYHA  H3JRC7XX7WJAD4ZO   \n",
              "41  CPCL6LVOZUKO5THR 2017-02-19  HCF69NG6CBDGFL90               NaN   \n",
              "73  III4SSOWCHFS17YQ 2018-04-12  6DOPYREM9RRTJTK4  NBJDWUB8J2DHLH29   \n",
              "77  CJD4ZTWZDVO1BBI8 2014-11-21  8L1CBA5XEMVSQRHP               NaN   \n",
              "85  US1A0DHSYO98LPXQ 2018-01-18  X24WZJ18DI9JSIQA  D3Q0HECTK80RRGGO   \n",
              "\n",
              "                 Date of Meal  \\\n",
              "21  2017-07-13 08:00:00+02:00   \n",
              "41  2017-02-18 13:00:00+01:00   \n",
              "73  2018-04-08 14:00:00+02:00   \n",
              "77  2014-11-19 09:00:00+01:00   \n",
              "85  2018-01-16 22:00:00+01:00   \n",
              "\n",
              "                                         Participants  Meal Price  \\\n",
              "21  ['Anthony Emerson' 'Emma Steitz' 'Melba Inlow'...       191.0   \n",
              "41                                 ['Cheryl Wooster']       372.0   \n",
              "73                                 ['Jessica Murphy']       402.0   \n",
              "77                                 ['Irving Henshaw']       178.0   \n",
              "85                                 ['Donald Pickett']       629.0   \n",
              "\n",
              "   Type of Meal  Heroes Adjustment  \n",
              "21          NaN                0.0  \n",
              "41        Lunch                0.0  \n",
              "73          NaN                0.0  \n",
              "77    Breakfast                0.0  \n",
              "85          NaN                0.0  "
            ],
            "text/html": [
              "\n",
              "  <div id=\"df-6e1e1454-be74-4cd6-82c7-5dc9496cd341\">\n",
              "    <div class=\"colab-df-container\">\n",
              "      <div>\n",
              "<style scoped>\n",
              "    .dataframe tbody tr th:only-of-type {\n",
              "        vertical-align: middle;\n",
              "    }\n",
              "\n",
              "    .dataframe tbody tr th {\n",
              "        vertical-align: top;\n",
              "    }\n",
              "\n",
              "    .dataframe thead th {\n",
              "        text-align: right;\n",
              "    }\n",
              "</style>\n",
              "<table border=\"1\" class=\"dataframe\">\n",
              "  <thead>\n",
              "    <tr style=\"text-align: right;\">\n",
              "      <th></th>\n",
              "      <th>Order Id</th>\n",
              "      <th>Date</th>\n",
              "      <th>Meal Id</th>\n",
              "      <th>Company Id</th>\n",
              "      <th>Date of Meal</th>\n",
              "      <th>Participants</th>\n",
              "      <th>Meal Price</th>\n",
              "      <th>Type of Meal</th>\n",
              "      <th>Heroes Adjustment</th>\n",
              "    </tr>\n",
              "  </thead>\n",
              "  <tbody>\n",
              "    <tr>\n",
              "      <th>21</th>\n",
              "      <td>5SYB15QEFWD1E4Q4</td>\n",
              "      <td>2017-07-09</td>\n",
              "      <td>KZI0VRU30GLSDYHA</td>\n",
              "      <td>H3JRC7XX7WJAD4ZO</td>\n",
              "      <td>2017-07-13 08:00:00+02:00</td>\n",
              "      <td>['Anthony Emerson' 'Emma Steitz' 'Melba Inlow'...</td>\n",
              "      <td>191.0</td>\n",
              "      <td>NaN</td>\n",
              "      <td>0.0</td>\n",
              "    </tr>\n",
              "    <tr>\n",
              "      <th>41</th>\n",
              "      <td>CPCL6LVOZUKO5THR</td>\n",
              "      <td>2017-02-19</td>\n",
              "      <td>HCF69NG6CBDGFL90</td>\n",
              "      <td>NaN</td>\n",
              "      <td>2017-02-18 13:00:00+01:00</td>\n",
              "      <td>['Cheryl Wooster']</td>\n",
              "      <td>372.0</td>\n",
              "      <td>Lunch</td>\n",
              "      <td>0.0</td>\n",
              "    </tr>\n",
              "    <tr>\n",
              "      <th>73</th>\n",
              "      <td>III4SSOWCHFS17YQ</td>\n",
              "      <td>2018-04-12</td>\n",
              "      <td>6DOPYREM9RRTJTK4</td>\n",
              "      <td>NBJDWUB8J2DHLH29</td>\n",
              "      <td>2018-04-08 14:00:00+02:00</td>\n",
              "      <td>['Jessica Murphy']</td>\n",
              "      <td>402.0</td>\n",
              "      <td>NaN</td>\n",
              "      <td>0.0</td>\n",
              "    </tr>\n",
              "    <tr>\n",
              "      <th>77</th>\n",
              "      <td>CJD4ZTWZDVO1BBI8</td>\n",
              "      <td>2014-11-21</td>\n",
              "      <td>8L1CBA5XEMVSQRHP</td>\n",
              "      <td>NaN</td>\n",
              "      <td>2014-11-19 09:00:00+01:00</td>\n",
              "      <td>['Irving Henshaw']</td>\n",
              "      <td>178.0</td>\n",
              "      <td>Breakfast</td>\n",
              "      <td>0.0</td>\n",
              "    </tr>\n",
              "    <tr>\n",
              "      <th>85</th>\n",
              "      <td>US1A0DHSYO98LPXQ</td>\n",
              "      <td>2018-01-18</td>\n",
              "      <td>X24WZJ18DI9JSIQA</td>\n",
              "      <td>D3Q0HECTK80RRGGO</td>\n",
              "      <td>2018-01-16 22:00:00+01:00</td>\n",
              "      <td>['Donald Pickett']</td>\n",
              "      <td>629.0</td>\n",
              "      <td>NaN</td>\n",
              "      <td>0.0</td>\n",
              "    </tr>\n",
              "  </tbody>\n",
              "</table>\n",
              "</div>\n",
              "      <button class=\"colab-df-convert\" onclick=\"convertToInteractive('df-6e1e1454-be74-4cd6-82c7-5dc9496cd341')\"\n",
              "              title=\"Convert this dataframe to an interactive table.\"\n",
              "              style=\"display:none;\">\n",
              "        \n",
              "  <svg xmlns=\"http://www.w3.org/2000/svg\" height=\"24px\"viewBox=\"0 0 24 24\"\n",
              "       width=\"24px\">\n",
              "    <path d=\"M0 0h24v24H0V0z\" fill=\"none\"/>\n",
              "    <path d=\"M18.56 5.44l.94 2.06.94-2.06 2.06-.94-2.06-.94-.94-2.06-.94 2.06-2.06.94zm-11 1L8.5 8.5l.94-2.06 2.06-.94-2.06-.94L8.5 2.5l-.94 2.06-2.06.94zm10 10l.94 2.06.94-2.06 2.06-.94-2.06-.94-.94-2.06-.94 2.06-2.06.94z\"/><path d=\"M17.41 7.96l-1.37-1.37c-.4-.4-.92-.59-1.43-.59-.52 0-1.04.2-1.43.59L10.3 9.45l-7.72 7.72c-.78.78-.78 2.05 0 2.83L4 21.41c.39.39.9.59 1.41.59.51 0 1.02-.2 1.41-.59l7.78-7.78 2.81-2.81c.8-.78.8-2.07 0-2.86zM5.41 20L4 18.59l7.72-7.72 1.47 1.35L5.41 20z\"/>\n",
              "  </svg>\n",
              "      </button>\n",
              "      \n",
              "  <style>\n",
              "    .colab-df-container {\n",
              "      display:flex;\n",
              "      flex-wrap:wrap;\n",
              "      gap: 12px;\n",
              "    }\n",
              "\n",
              "    .colab-df-convert {\n",
              "      background-color: #E8F0FE;\n",
              "      border: none;\n",
              "      border-radius: 50%;\n",
              "      cursor: pointer;\n",
              "      display: none;\n",
              "      fill: #1967D2;\n",
              "      height: 32px;\n",
              "      padding: 0 0 0 0;\n",
              "      width: 32px;\n",
              "    }\n",
              "\n",
              "    .colab-df-convert:hover {\n",
              "      background-color: #E2EBFA;\n",
              "      box-shadow: 0px 1px 2px rgba(60, 64, 67, 0.3), 0px 1px 3px 1px rgba(60, 64, 67, 0.15);\n",
              "      fill: #174EA6;\n",
              "    }\n",
              "\n",
              "    [theme=dark] .colab-df-convert {\n",
              "      background-color: #3B4455;\n",
              "      fill: #D2E3FC;\n",
              "    }\n",
              "\n",
              "    [theme=dark] .colab-df-convert:hover {\n",
              "      background-color: #434B5C;\n",
              "      box-shadow: 0px 1px 3px 1px rgba(0, 0, 0, 0.15);\n",
              "      filter: drop-shadow(0px 1px 2px rgba(0, 0, 0, 0.3));\n",
              "      fill: #FFFFFF;\n",
              "    }\n",
              "  </style>\n",
              "\n",
              "      <script>\n",
              "        const buttonEl =\n",
              "          document.querySelector('#df-6e1e1454-be74-4cd6-82c7-5dc9496cd341 button.colab-df-convert');\n",
              "        buttonEl.style.display =\n",
              "          google.colab.kernel.accessAllowed ? 'block' : 'none';\n",
              "\n",
              "        async function convertToInteractive(key) {\n",
              "          const element = document.querySelector('#df-6e1e1454-be74-4cd6-82c7-5dc9496cd341');\n",
              "          const dataTable =\n",
              "            await google.colab.kernel.invokeFunction('convertToInteractive',\n",
              "                                                     [key], {});\n",
              "          if (!dataTable) return;\n",
              "\n",
              "          const docLinkHtml = 'Like what you see? Visit the ' +\n",
              "            '<a target=\"_blank\" href=https://colab.research.google.com/notebooks/data_table.ipynb>data table notebook</a>'\n",
              "            + ' to learn more about interactive tables.';\n",
              "          element.innerHTML = '';\n",
              "          dataTable['output_type'] = 'display_data';\n",
              "          await google.colab.output.renderOutput(dataTable, element);\n",
              "          const docLink = document.createElement('div');\n",
              "          docLink.innerHTML = docLinkHtml;\n",
              "          element.appendChild(docLink);\n",
              "        }\n",
              "      </script>\n",
              "    </div>\n",
              "  </div>\n",
              "  "
            ]
          },
          "metadata": {},
          "execution_count": 47
        }
      ]
    },
    {
      "cell_type": "code",
      "source": [
        "invoices[invoices['Meal Id'].isnull()].head()\n",
        "invoices[invoices['Meal Id'].isnull()].head()"
      ],
      "metadata": {
        "colab": {
          "base_uri": "https://localhost:8080/",
          "height": 354
        },
        "id": "LWy51v1aFau-",
        "outputId": "6603ba3b-526d-48e8-9e46-2b957dc46cb2"
      },
      "execution_count": 50,
      "outputs": [
        {
          "output_type": "execute_result",
          "data": {
            "text/plain": [
              "              Order Id       Date Meal Id        Company Id  \\\n",
              "105   MQOV98NN4CB77EQJ 2016-08-11     NaN  7FLAHMERFCITB6RT   \n",
              "491   NDXUMSZ2G4438CBV 2015-12-27     NaN  447Q6WU5EYDNNPLU   \n",
              "559   WPXSF3Z5LGSJABPY 2017-11-12     NaN  U81JHOSTUDI8ZG4Q   \n",
              "1238  6GR7MT0DX69WDFF6 2014-06-23     NaN  7QIDTMN83BDTITO5   \n",
              "1516  BHQZFKX6FY5VNRE4 2015-05-29     NaN  2NE3XF2X7NXOMWEH   \n",
              "\n",
              "                   Date of Meal                      Participants  Meal Price  \\\n",
              "105   2016-08-15 08:00:00+02:00                  ['Hilda Duncan']       516.0   \n",
              "491   2015-12-30 14:00:00+01:00               ['Ashley Dreesman']       300.0   \n",
              "559   2017-11-13 12:00:00+01:00                ['Mary Roseberry']       156.0   \n",
              "1238  2014-06-26 12:00:00+02:00              ['Virgilio Carlton']       606.0   \n",
              "1516  2015-05-29 12:00:00+02:00  ['Diana Fields' 'Essie Jackson']        28.0   \n",
              "\n",
              "     Type of Meal  Heroes Adjustment  \n",
              "105     Breakfast                0.0  \n",
              "491         Lunch                0.0  \n",
              "559         Lunch                0.0  \n",
              "1238        Lunch                0.0  \n",
              "1516        Lunch                1.0  "
            ],
            "text/html": [
              "\n",
              "  <div id=\"df-61ed30e5-0456-4598-96cc-51cb9ec0ddea\">\n",
              "    <div class=\"colab-df-container\">\n",
              "      <div>\n",
              "<style scoped>\n",
              "    .dataframe tbody tr th:only-of-type {\n",
              "        vertical-align: middle;\n",
              "    }\n",
              "\n",
              "    .dataframe tbody tr th {\n",
              "        vertical-align: top;\n",
              "    }\n",
              "\n",
              "    .dataframe thead th {\n",
              "        text-align: right;\n",
              "    }\n",
              "</style>\n",
              "<table border=\"1\" class=\"dataframe\">\n",
              "  <thead>\n",
              "    <tr style=\"text-align: right;\">\n",
              "      <th></th>\n",
              "      <th>Order Id</th>\n",
              "      <th>Date</th>\n",
              "      <th>Meal Id</th>\n",
              "      <th>Company Id</th>\n",
              "      <th>Date of Meal</th>\n",
              "      <th>Participants</th>\n",
              "      <th>Meal Price</th>\n",
              "      <th>Type of Meal</th>\n",
              "      <th>Heroes Adjustment</th>\n",
              "    </tr>\n",
              "  </thead>\n",
              "  <tbody>\n",
              "    <tr>\n",
              "      <th>105</th>\n",
              "      <td>MQOV98NN4CB77EQJ</td>\n",
              "      <td>2016-08-11</td>\n",
              "      <td>NaN</td>\n",
              "      <td>7FLAHMERFCITB6RT</td>\n",
              "      <td>2016-08-15 08:00:00+02:00</td>\n",
              "      <td>['Hilda Duncan']</td>\n",
              "      <td>516.0</td>\n",
              "      <td>Breakfast</td>\n",
              "      <td>0.0</td>\n",
              "    </tr>\n",
              "    <tr>\n",
              "      <th>491</th>\n",
              "      <td>NDXUMSZ2G4438CBV</td>\n",
              "      <td>2015-12-27</td>\n",
              "      <td>NaN</td>\n",
              "      <td>447Q6WU5EYDNNPLU</td>\n",
              "      <td>2015-12-30 14:00:00+01:00</td>\n",
              "      <td>['Ashley Dreesman']</td>\n",
              "      <td>300.0</td>\n",
              "      <td>Lunch</td>\n",
              "      <td>0.0</td>\n",
              "    </tr>\n",
              "    <tr>\n",
              "      <th>559</th>\n",
              "      <td>WPXSF3Z5LGSJABPY</td>\n",
              "      <td>2017-11-12</td>\n",
              "      <td>NaN</td>\n",
              "      <td>U81JHOSTUDI8ZG4Q</td>\n",
              "      <td>2017-11-13 12:00:00+01:00</td>\n",
              "      <td>['Mary Roseberry']</td>\n",
              "      <td>156.0</td>\n",
              "      <td>Lunch</td>\n",
              "      <td>0.0</td>\n",
              "    </tr>\n",
              "    <tr>\n",
              "      <th>1238</th>\n",
              "      <td>6GR7MT0DX69WDFF6</td>\n",
              "      <td>2014-06-23</td>\n",
              "      <td>NaN</td>\n",
              "      <td>7QIDTMN83BDTITO5</td>\n",
              "      <td>2014-06-26 12:00:00+02:00</td>\n",
              "      <td>['Virgilio Carlton']</td>\n",
              "      <td>606.0</td>\n",
              "      <td>Lunch</td>\n",
              "      <td>0.0</td>\n",
              "    </tr>\n",
              "    <tr>\n",
              "      <th>1516</th>\n",
              "      <td>BHQZFKX6FY5VNRE4</td>\n",
              "      <td>2015-05-29</td>\n",
              "      <td>NaN</td>\n",
              "      <td>2NE3XF2X7NXOMWEH</td>\n",
              "      <td>2015-05-29 12:00:00+02:00</td>\n",
              "      <td>['Diana Fields' 'Essie Jackson']</td>\n",
              "      <td>28.0</td>\n",
              "      <td>Lunch</td>\n",
              "      <td>1.0</td>\n",
              "    </tr>\n",
              "  </tbody>\n",
              "</table>\n",
              "</div>\n",
              "      <button class=\"colab-df-convert\" onclick=\"convertToInteractive('df-61ed30e5-0456-4598-96cc-51cb9ec0ddea')\"\n",
              "              title=\"Convert this dataframe to an interactive table.\"\n",
              "              style=\"display:none;\">\n",
              "        \n",
              "  <svg xmlns=\"http://www.w3.org/2000/svg\" height=\"24px\"viewBox=\"0 0 24 24\"\n",
              "       width=\"24px\">\n",
              "    <path d=\"M0 0h24v24H0V0z\" fill=\"none\"/>\n",
              "    <path d=\"M18.56 5.44l.94 2.06.94-2.06 2.06-.94-2.06-.94-.94-2.06-.94 2.06-2.06.94zm-11 1L8.5 8.5l.94-2.06 2.06-.94-2.06-.94L8.5 2.5l-.94 2.06-2.06.94zm10 10l.94 2.06.94-2.06 2.06-.94-2.06-.94-.94-2.06-.94 2.06-2.06.94z\"/><path d=\"M17.41 7.96l-1.37-1.37c-.4-.4-.92-.59-1.43-.59-.52 0-1.04.2-1.43.59L10.3 9.45l-7.72 7.72c-.78.78-.78 2.05 0 2.83L4 21.41c.39.39.9.59 1.41.59.51 0 1.02-.2 1.41-.59l7.78-7.78 2.81-2.81c.8-.78.8-2.07 0-2.86zM5.41 20L4 18.59l7.72-7.72 1.47 1.35L5.41 20z\"/>\n",
              "  </svg>\n",
              "      </button>\n",
              "      \n",
              "  <style>\n",
              "    .colab-df-container {\n",
              "      display:flex;\n",
              "      flex-wrap:wrap;\n",
              "      gap: 12px;\n",
              "    }\n",
              "\n",
              "    .colab-df-convert {\n",
              "      background-color: #E8F0FE;\n",
              "      border: none;\n",
              "      border-radius: 50%;\n",
              "      cursor: pointer;\n",
              "      display: none;\n",
              "      fill: #1967D2;\n",
              "      height: 32px;\n",
              "      padding: 0 0 0 0;\n",
              "      width: 32px;\n",
              "    }\n",
              "\n",
              "    .colab-df-convert:hover {\n",
              "      background-color: #E2EBFA;\n",
              "      box-shadow: 0px 1px 2px rgba(60, 64, 67, 0.3), 0px 1px 3px 1px rgba(60, 64, 67, 0.15);\n",
              "      fill: #174EA6;\n",
              "    }\n",
              "\n",
              "    [theme=dark] .colab-df-convert {\n",
              "      background-color: #3B4455;\n",
              "      fill: #D2E3FC;\n",
              "    }\n",
              "\n",
              "    [theme=dark] .colab-df-convert:hover {\n",
              "      background-color: #434B5C;\n",
              "      box-shadow: 0px 1px 3px 1px rgba(0, 0, 0, 0.15);\n",
              "      filter: drop-shadow(0px 1px 2px rgba(0, 0, 0, 0.3));\n",
              "      fill: #FFFFFF;\n",
              "    }\n",
              "  </style>\n",
              "\n",
              "      <script>\n",
              "        const buttonEl =\n",
              "          document.querySelector('#df-61ed30e5-0456-4598-96cc-51cb9ec0ddea button.colab-df-convert');\n",
              "        buttonEl.style.display =\n",
              "          google.colab.kernel.accessAllowed ? 'block' : 'none';\n",
              "\n",
              "        async function convertToInteractive(key) {\n",
              "          const element = document.querySelector('#df-61ed30e5-0456-4598-96cc-51cb9ec0ddea');\n",
              "          const dataTable =\n",
              "            await google.colab.kernel.invokeFunction('convertToInteractive',\n",
              "                                                     [key], {});\n",
              "          if (!dataTable) return;\n",
              "\n",
              "          const docLinkHtml = 'Like what you see? Visit the ' +\n",
              "            '<a target=\"_blank\" href=https://colab.research.google.com/notebooks/data_table.ipynb>data table notebook</a>'\n",
              "            + ' to learn more about interactive tables.';\n",
              "          element.innerHTML = '';\n",
              "          dataTable['output_type'] = 'display_data';\n",
              "          await google.colab.output.renderOutput(dataTable, element);\n",
              "          const docLink = document.createElement('div');\n",
              "          docLink.innerHTML = docLinkHtml;\n",
              "          element.appendChild(docLink);\n",
              "        }\n",
              "      </script>\n",
              "    </div>\n",
              "  </div>\n",
              "  "
            ]
          },
          "metadata": {},
          "execution_count": 50
        }
      ]
    },
    {
      "cell_type": "code",
      "source": [
        "invoices[invoices['Meal Id'].notnull()].head()\n",
        "invoices[invoices['Meal Id'].notnull()].head()"
      ],
      "metadata": {
        "colab": {
          "base_uri": "https://localhost:8080/",
          "height": 354
        },
        "id": "F6-yLErfFgII",
        "outputId": "ab68e913-42c6-4d89-afd7-de7e779f9c34"
      },
      "execution_count": 51,
      "outputs": [
        {
          "output_type": "execute_result",
          "data": {
            "text/plain": [
              "           Order Id       Date           Meal Id        Company Id  \\\n",
              "0  839FKFW2LLX4LMBB 2016-05-27  INBUX904GIHI8YBD  LJKS5NK6788CYMUU   \n",
              "1  97OX39BGVMHODLJM 2018-09-27  J0MMOOPP709DIDIE  LJKS5NK6788CYMUU   \n",
              "2  041ORQM5OIHTIU6L 2014-08-24  E4UJLQNCI16UX5CS  LJKS5NK6788CYMUU   \n",
              "3  YT796QI18WNGZ7ZJ 2014-04-12  C9SDFHF7553BE247  LJKS5NK6788CYMUU   \n",
              "4  6YLROQT27B6HRF4E 2015-07-28  48EQXS6IHYNZDDZ5  LJKS5NK6788CYMUU   \n",
              "\n",
              "                Date of Meal                       Participants  Meal Price  \\\n",
              "0  2016-05-31 07:00:00+02:00                   ['David Bishop']       469.0   \n",
              "1  2018-10-01 20:00:00+02:00                   ['David Bishop']        22.0   \n",
              "2  2014-08-23 14:00:00+02:00                 ['Karen Stansell']       314.0   \n",
              "3  2014-04-07 21:00:00+02:00                   ['Addie Patino']       438.0   \n",
              "4  2015-07-27 14:00:00+02:00  ['Addie Patino' 'Susan Guerrero']       690.0   \n",
              "\n",
              "  Type of Meal  Heroes Adjustment  \n",
              "0    Breakfast                0.0  \n",
              "1       Dinner                0.0  \n",
              "2        Lunch                0.0  \n",
              "3       Dinner                0.0  \n",
              "4        Lunch                0.0  "
            ],
            "text/html": [
              "\n",
              "  <div id=\"df-03496c26-fa10-4896-8bda-193135614126\">\n",
              "    <div class=\"colab-df-container\">\n",
              "      <div>\n",
              "<style scoped>\n",
              "    .dataframe tbody tr th:only-of-type {\n",
              "        vertical-align: middle;\n",
              "    }\n",
              "\n",
              "    .dataframe tbody tr th {\n",
              "        vertical-align: top;\n",
              "    }\n",
              "\n",
              "    .dataframe thead th {\n",
              "        text-align: right;\n",
              "    }\n",
              "</style>\n",
              "<table border=\"1\" class=\"dataframe\">\n",
              "  <thead>\n",
              "    <tr style=\"text-align: right;\">\n",
              "      <th></th>\n",
              "      <th>Order Id</th>\n",
              "      <th>Date</th>\n",
              "      <th>Meal Id</th>\n",
              "      <th>Company Id</th>\n",
              "      <th>Date of Meal</th>\n",
              "      <th>Participants</th>\n",
              "      <th>Meal Price</th>\n",
              "      <th>Type of Meal</th>\n",
              "      <th>Heroes Adjustment</th>\n",
              "    </tr>\n",
              "  </thead>\n",
              "  <tbody>\n",
              "    <tr>\n",
              "      <th>0</th>\n",
              "      <td>839FKFW2LLX4LMBB</td>\n",
              "      <td>2016-05-27</td>\n",
              "      <td>INBUX904GIHI8YBD</td>\n",
              "      <td>LJKS5NK6788CYMUU</td>\n",
              "      <td>2016-05-31 07:00:00+02:00</td>\n",
              "      <td>['David Bishop']</td>\n",
              "      <td>469.0</td>\n",
              "      <td>Breakfast</td>\n",
              "      <td>0.0</td>\n",
              "    </tr>\n",
              "    <tr>\n",
              "      <th>1</th>\n",
              "      <td>97OX39BGVMHODLJM</td>\n",
              "      <td>2018-09-27</td>\n",
              "      <td>J0MMOOPP709DIDIE</td>\n",
              "      <td>LJKS5NK6788CYMUU</td>\n",
              "      <td>2018-10-01 20:00:00+02:00</td>\n",
              "      <td>['David Bishop']</td>\n",
              "      <td>22.0</td>\n",
              "      <td>Dinner</td>\n",
              "      <td>0.0</td>\n",
              "    </tr>\n",
              "    <tr>\n",
              "      <th>2</th>\n",
              "      <td>041ORQM5OIHTIU6L</td>\n",
              "      <td>2014-08-24</td>\n",
              "      <td>E4UJLQNCI16UX5CS</td>\n",
              "      <td>LJKS5NK6788CYMUU</td>\n",
              "      <td>2014-08-23 14:00:00+02:00</td>\n",
              "      <td>['Karen Stansell']</td>\n",
              "      <td>314.0</td>\n",
              "      <td>Lunch</td>\n",
              "      <td>0.0</td>\n",
              "    </tr>\n",
              "    <tr>\n",
              "      <th>3</th>\n",
              "      <td>YT796QI18WNGZ7ZJ</td>\n",
              "      <td>2014-04-12</td>\n",
              "      <td>C9SDFHF7553BE247</td>\n",
              "      <td>LJKS5NK6788CYMUU</td>\n",
              "      <td>2014-04-07 21:00:00+02:00</td>\n",
              "      <td>['Addie Patino']</td>\n",
              "      <td>438.0</td>\n",
              "      <td>Dinner</td>\n",
              "      <td>0.0</td>\n",
              "    </tr>\n",
              "    <tr>\n",
              "      <th>4</th>\n",
              "      <td>6YLROQT27B6HRF4E</td>\n",
              "      <td>2015-07-28</td>\n",
              "      <td>48EQXS6IHYNZDDZ5</td>\n",
              "      <td>LJKS5NK6788CYMUU</td>\n",
              "      <td>2015-07-27 14:00:00+02:00</td>\n",
              "      <td>['Addie Patino' 'Susan Guerrero']</td>\n",
              "      <td>690.0</td>\n",
              "      <td>Lunch</td>\n",
              "      <td>0.0</td>\n",
              "    </tr>\n",
              "  </tbody>\n",
              "</table>\n",
              "</div>\n",
              "      <button class=\"colab-df-convert\" onclick=\"convertToInteractive('df-03496c26-fa10-4896-8bda-193135614126')\"\n",
              "              title=\"Convert this dataframe to an interactive table.\"\n",
              "              style=\"display:none;\">\n",
              "        \n",
              "  <svg xmlns=\"http://www.w3.org/2000/svg\" height=\"24px\"viewBox=\"0 0 24 24\"\n",
              "       width=\"24px\">\n",
              "    <path d=\"M0 0h24v24H0V0z\" fill=\"none\"/>\n",
              "    <path d=\"M18.56 5.44l.94 2.06.94-2.06 2.06-.94-2.06-.94-.94-2.06-.94 2.06-2.06.94zm-11 1L8.5 8.5l.94-2.06 2.06-.94-2.06-.94L8.5 2.5l-.94 2.06-2.06.94zm10 10l.94 2.06.94-2.06 2.06-.94-2.06-.94-.94-2.06-.94 2.06-2.06.94z\"/><path d=\"M17.41 7.96l-1.37-1.37c-.4-.4-.92-.59-1.43-.59-.52 0-1.04.2-1.43.59L10.3 9.45l-7.72 7.72c-.78.78-.78 2.05 0 2.83L4 21.41c.39.39.9.59 1.41.59.51 0 1.02-.2 1.41-.59l7.78-7.78 2.81-2.81c.8-.78.8-2.07 0-2.86zM5.41 20L4 18.59l7.72-7.72 1.47 1.35L5.41 20z\"/>\n",
              "  </svg>\n",
              "      </button>\n",
              "      \n",
              "  <style>\n",
              "    .colab-df-container {\n",
              "      display:flex;\n",
              "      flex-wrap:wrap;\n",
              "      gap: 12px;\n",
              "    }\n",
              "\n",
              "    .colab-df-convert {\n",
              "      background-color: #E8F0FE;\n",
              "      border: none;\n",
              "      border-radius: 50%;\n",
              "      cursor: pointer;\n",
              "      display: none;\n",
              "      fill: #1967D2;\n",
              "      height: 32px;\n",
              "      padding: 0 0 0 0;\n",
              "      width: 32px;\n",
              "    }\n",
              "\n",
              "    .colab-df-convert:hover {\n",
              "      background-color: #E2EBFA;\n",
              "      box-shadow: 0px 1px 2px rgba(60, 64, 67, 0.3), 0px 1px 3px 1px rgba(60, 64, 67, 0.15);\n",
              "      fill: #174EA6;\n",
              "    }\n",
              "\n",
              "    [theme=dark] .colab-df-convert {\n",
              "      background-color: #3B4455;\n",
              "      fill: #D2E3FC;\n",
              "    }\n",
              "\n",
              "    [theme=dark] .colab-df-convert:hover {\n",
              "      background-color: #434B5C;\n",
              "      box-shadow: 0px 1px 3px 1px rgba(0, 0, 0, 0.15);\n",
              "      filter: drop-shadow(0px 1px 2px rgba(0, 0, 0, 0.3));\n",
              "      fill: #FFFFFF;\n",
              "    }\n",
              "  </style>\n",
              "\n",
              "      <script>\n",
              "        const buttonEl =\n",
              "          document.querySelector('#df-03496c26-fa10-4896-8bda-193135614126 button.colab-df-convert');\n",
              "        buttonEl.style.display =\n",
              "          google.colab.kernel.accessAllowed ? 'block' : 'none';\n",
              "\n",
              "        async function convertToInteractive(key) {\n",
              "          const element = document.querySelector('#df-03496c26-fa10-4896-8bda-193135614126');\n",
              "          const dataTable =\n",
              "            await google.colab.kernel.invokeFunction('convertToInteractive',\n",
              "                                                     [key], {});\n",
              "          if (!dataTable) return;\n",
              "\n",
              "          const docLinkHtml = 'Like what you see? Visit the ' +\n",
              "            '<a target=\"_blank\" href=https://colab.research.google.com/notebooks/data_table.ipynb>data table notebook</a>'\n",
              "            + ' to learn more about interactive tables.';\n",
              "          element.innerHTML = '';\n",
              "          dataTable['output_type'] = 'display_data';\n",
              "          await google.colab.output.renderOutput(dataTable, element);\n",
              "          const docLink = document.createElement('div');\n",
              "          docLink.innerHTML = docLinkHtml;\n",
              "          element.appendChild(docLink);\n",
              "        }\n",
              "      </script>\n",
              "    </div>\n",
              "  </div>\n",
              "  "
            ]
          },
          "metadata": {},
          "execution_count": 51
        }
      ]
    },
    {
      "cell_type": "markdown",
      "source": [
        "Usando DataFrame"
      ],
      "metadata": {
        "id": "pfteGyph31OK"
      }
    },
    {
      "cell_type": "code",
      "source": [
        "invoices.dropna(axis=1).head()\n",
        "invoices.dropna(axis=1).head()"
      ],
      "metadata": {
        "id": "gfgowE8w_J4u",
        "colab": {
          "base_uri": "https://localhost:8080/",
          "height": 206
        },
        "outputId": "6151ff2b-a30c-4fc9-aeb6-71d8d753b63a"
      },
      "execution_count": 52,
      "outputs": [
        {
          "output_type": "execute_result",
          "data": {
            "text/plain": [
              "           Order Id       Date\n",
              "0  839FKFW2LLX4LMBB 2016-05-27\n",
              "1  97OX39BGVMHODLJM 2018-09-27\n",
              "2  041ORQM5OIHTIU6L 2014-08-24\n",
              "3  YT796QI18WNGZ7ZJ 2014-04-12\n",
              "4  6YLROQT27B6HRF4E 2015-07-28"
            ],
            "text/html": [
              "\n",
              "  <div id=\"df-f91a1821-4b3c-47c4-a933-00d584cbb224\">\n",
              "    <div class=\"colab-df-container\">\n",
              "      <div>\n",
              "<style scoped>\n",
              "    .dataframe tbody tr th:only-of-type {\n",
              "        vertical-align: middle;\n",
              "    }\n",
              "\n",
              "    .dataframe tbody tr th {\n",
              "        vertical-align: top;\n",
              "    }\n",
              "\n",
              "    .dataframe thead th {\n",
              "        text-align: right;\n",
              "    }\n",
              "</style>\n",
              "<table border=\"1\" class=\"dataframe\">\n",
              "  <thead>\n",
              "    <tr style=\"text-align: right;\">\n",
              "      <th></th>\n",
              "      <th>Order Id</th>\n",
              "      <th>Date</th>\n",
              "    </tr>\n",
              "  </thead>\n",
              "  <tbody>\n",
              "    <tr>\n",
              "      <th>0</th>\n",
              "      <td>839FKFW2LLX4LMBB</td>\n",
              "      <td>2016-05-27</td>\n",
              "    </tr>\n",
              "    <tr>\n",
              "      <th>1</th>\n",
              "      <td>97OX39BGVMHODLJM</td>\n",
              "      <td>2018-09-27</td>\n",
              "    </tr>\n",
              "    <tr>\n",
              "      <th>2</th>\n",
              "      <td>041ORQM5OIHTIU6L</td>\n",
              "      <td>2014-08-24</td>\n",
              "    </tr>\n",
              "    <tr>\n",
              "      <th>3</th>\n",
              "      <td>YT796QI18WNGZ7ZJ</td>\n",
              "      <td>2014-04-12</td>\n",
              "    </tr>\n",
              "    <tr>\n",
              "      <th>4</th>\n",
              "      <td>6YLROQT27B6HRF4E</td>\n",
              "      <td>2015-07-28</td>\n",
              "    </tr>\n",
              "  </tbody>\n",
              "</table>\n",
              "</div>\n",
              "      <button class=\"colab-df-convert\" onclick=\"convertToInteractive('df-f91a1821-4b3c-47c4-a933-00d584cbb224')\"\n",
              "              title=\"Convert this dataframe to an interactive table.\"\n",
              "              style=\"display:none;\">\n",
              "        \n",
              "  <svg xmlns=\"http://www.w3.org/2000/svg\" height=\"24px\"viewBox=\"0 0 24 24\"\n",
              "       width=\"24px\">\n",
              "    <path d=\"M0 0h24v24H0V0z\" fill=\"none\"/>\n",
              "    <path d=\"M18.56 5.44l.94 2.06.94-2.06 2.06-.94-2.06-.94-.94-2.06-.94 2.06-2.06.94zm-11 1L8.5 8.5l.94-2.06 2.06-.94-2.06-.94L8.5 2.5l-.94 2.06-2.06.94zm10 10l.94 2.06.94-2.06 2.06-.94-2.06-.94-.94-2.06-.94 2.06-2.06.94z\"/><path d=\"M17.41 7.96l-1.37-1.37c-.4-.4-.92-.59-1.43-.59-.52 0-1.04.2-1.43.59L10.3 9.45l-7.72 7.72c-.78.78-.78 2.05 0 2.83L4 21.41c.39.39.9.59 1.41.59.51 0 1.02-.2 1.41-.59l7.78-7.78 2.81-2.81c.8-.78.8-2.07 0-2.86zM5.41 20L4 18.59l7.72-7.72 1.47 1.35L5.41 20z\"/>\n",
              "  </svg>\n",
              "      </button>\n",
              "      \n",
              "  <style>\n",
              "    .colab-df-container {\n",
              "      display:flex;\n",
              "      flex-wrap:wrap;\n",
              "      gap: 12px;\n",
              "    }\n",
              "\n",
              "    .colab-df-convert {\n",
              "      background-color: #E8F0FE;\n",
              "      border: none;\n",
              "      border-radius: 50%;\n",
              "      cursor: pointer;\n",
              "      display: none;\n",
              "      fill: #1967D2;\n",
              "      height: 32px;\n",
              "      padding: 0 0 0 0;\n",
              "      width: 32px;\n",
              "    }\n",
              "\n",
              "    .colab-df-convert:hover {\n",
              "      background-color: #E2EBFA;\n",
              "      box-shadow: 0px 1px 2px rgba(60, 64, 67, 0.3), 0px 1px 3px 1px rgba(60, 64, 67, 0.15);\n",
              "      fill: #174EA6;\n",
              "    }\n",
              "\n",
              "    [theme=dark] .colab-df-convert {\n",
              "      background-color: #3B4455;\n",
              "      fill: #D2E3FC;\n",
              "    }\n",
              "\n",
              "    [theme=dark] .colab-df-convert:hover {\n",
              "      background-color: #434B5C;\n",
              "      box-shadow: 0px 1px 3px 1px rgba(0, 0, 0, 0.15);\n",
              "      filter: drop-shadow(0px 1px 2px rgba(0, 0, 0, 0.3));\n",
              "      fill: #FFFFFF;\n",
              "    }\n",
              "  </style>\n",
              "\n",
              "      <script>\n",
              "        const buttonEl =\n",
              "          document.querySelector('#df-f91a1821-4b3c-47c4-a933-00d584cbb224 button.colab-df-convert');\n",
              "        buttonEl.style.display =\n",
              "          google.colab.kernel.accessAllowed ? 'block' : 'none';\n",
              "\n",
              "        async function convertToInteractive(key) {\n",
              "          const element = document.querySelector('#df-f91a1821-4b3c-47c4-a933-00d584cbb224');\n",
              "          const dataTable =\n",
              "            await google.colab.kernel.invokeFunction('convertToInteractive',\n",
              "                                                     [key], {});\n",
              "          if (!dataTable) return;\n",
              "\n",
              "          const docLinkHtml = 'Like what you see? Visit the ' +\n",
              "            '<a target=\"_blank\" href=https://colab.research.google.com/notebooks/data_table.ipynb>data table notebook</a>'\n",
              "            + ' to learn more about interactive tables.';\n",
              "          element.innerHTML = '';\n",
              "          dataTable['output_type'] = 'display_data';\n",
              "          await google.colab.output.renderOutput(dataTable, element);\n",
              "          const docLink = document.createElement('div');\n",
              "          docLink.innerHTML = docLinkHtml;\n",
              "          element.appendChild(docLink);\n",
              "        }\n",
              "      </script>\n",
              "    </div>\n",
              "  </div>\n",
              "  "
            ]
          },
          "metadata": {},
          "execution_count": 52
        }
      ]
    },
    {
      "cell_type": "code",
      "source": [
        "len(invoices.dropna(how='all'))\n",
        "len(invoices.dropna(how='all'))"
      ],
      "metadata": {
        "colab": {
          "base_uri": "https://localhost:8080/"
        },
        "id": "PktYGHlDFq1f",
        "outputId": "eec38b78-fb35-40d5-e2e4-001fee169058"
      },
      "execution_count": 53,
      "outputs": [
        {
          "output_type": "execute_result",
          "data": {
            "text/plain": [
              "50017"
            ]
          },
          "metadata": {},
          "execution_count": 53
        }
      ]
    },
    {
      "cell_type": "code",
      "source": [
        "len(invoices.dropna(how='any'))\n",
        "len(invoices.dropna(how='any'))"
      ],
      "metadata": {
        "colab": {
          "base_uri": "https://localhost:8080/"
        },
        "id": "mVCOY5nQFyJY",
        "outputId": "d29c30a8-0c67-4b74-bfe9-d5a0344e14ba"
      },
      "execution_count": 54,
      "outputs": [
        {
          "output_type": "execute_result",
          "data": {
            "text/plain": [
              "46223"
            ]
          },
          "metadata": {},
          "execution_count": 54
        }
      ]
    },
    {
      "cell_type": "code",
      "source": [
        "len(invoices.dropna(subset=['Participants']))\n",
        "len(invoices.dropna(subset=['Participants']))"
      ],
      "metadata": {
        "colab": {
          "base_uri": "https://localhost:8080/"
        },
        "id": "goywpa12F2jx",
        "outputId": "e18aecd9-95b0-41ca-88a3-dccfb95280f4"
      },
      "execution_count": 55,
      "outputs": [
        {
          "output_type": "execute_result",
          "data": {
            "text/plain": [
              "49711"
            ]
          },
          "metadata": {},
          "execution_count": 55
        }
      ]
    },
    {
      "cell_type": "markdown",
      "source": [
        "El metodo ```.dropna()``` nos permite eliminar las filas, columnas que contienen valores NaN, asi mismo por sus parametros podemos definir si seran filas(0) o columnas(1) el parametro ```how = \"any\"``` (elimina cualquier fila que contenga almenos un valor NaN) el parametro ```how = \"all\"``` (elimina cualquier fila que contenga todos un valor NaN)"
      ],
      "metadata": {
        "id": "b90D-XDT4Je1"
      }
    },
    {
      "cell_type": "code",
      "source": [],
      "metadata": {
        "id": "h5vY3NM4_LOp"
      },
      "execution_count": null,
      "outputs": []
    },
    {
      "cell_type": "markdown",
      "source": [
        "![image.png](data:image/png;base64,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)"
      ],
      "metadata": {
        "id": "BJpGRZRcwHDh"
      }
    },
    {
      "cell_type": "markdown",
      "source": [
        "#### **LLENANDO DATOS FALTANTES**"
      ],
      "metadata": {
        "id": "Ix_fU5ECSQvV"
      }
    },
    {
      "cell_type": "markdown",
      "source": [
        "La función pandas ```.DataFrame.fillna()``` reemplaza los valores NaN en DataFrame con algún valor determinado."
      ],
      "metadata": {
        "id": "3yO9Dxom5wpR"
      }
    },
    {
      "cell_type": "code",
      "source": [
        "invoices.fillna(value=0)"
      ],
      "metadata": {
        "id": "7MAwMrpj_OCh",
        "colab": {
          "base_uri": "https://localhost:8080/",
          "height": 659
        },
        "outputId": "184e0a21-85c2-4e4c-f24a-a6d5486bb864"
      },
      "execution_count": 56,
      "outputs": [
        {
          "output_type": "execute_result",
          "data": {
            "text/plain": [
              "               Order Id       Date           Meal Id        Company Id  \\\n",
              "0      839FKFW2LLX4LMBB 2016-05-27  INBUX904GIHI8YBD  LJKS5NK6788CYMUU   \n",
              "1      97OX39BGVMHODLJM 2018-09-27  J0MMOOPP709DIDIE  LJKS5NK6788CYMUU   \n",
              "2      041ORQM5OIHTIU6L 2014-08-24  E4UJLQNCI16UX5CS  LJKS5NK6788CYMUU   \n",
              "3      YT796QI18WNGZ7ZJ 2014-04-12  C9SDFHF7553BE247  LJKS5NK6788CYMUU   \n",
              "4      6YLROQT27B6HRF4E 2015-07-28  48EQXS6IHYNZDDZ5  LJKS5NK6788CYMUU   \n",
              "...                 ...        ...               ...               ...   \n",
              "50012  4OMS8ZSA0UX8LHWI 2017-09-20  1TD5MROATV1NHZ4Y  E4K99D4JR9E40VE1   \n",
              "50013  RR0VKJN8V0KHNKGG 2018-03-19  22EX9VZSJKHP4AIP  E4K99D4JR9E40VE1   \n",
              "50014  STJ6QJC30WPRM93H 2017-09-21  LMX18PNGWCIMG1QW  E4K99D4JR9E40VE1   \n",
              "50015  QHEUIYNC0XQX7GDR 2018-01-28  4U0VH2TGQL30X23X  E4K99D4JR9E40VE1   \n",
              "50016  NKHFWT5I2J9LPAPG 2017-09-06  ORWFRT5TUSYGNYG7  E4K99D4JR9E40VE1   \n",
              "\n",
              "                    Date of Meal                        Participants  \\\n",
              "0      2016-05-31 07:00:00+02:00                    ['David Bishop']   \n",
              "1      2018-10-01 20:00:00+02:00                    ['David Bishop']   \n",
              "2      2014-08-23 14:00:00+02:00                  ['Karen Stansell']   \n",
              "3      2014-04-07 21:00:00+02:00                    ['Addie Patino']   \n",
              "4      2015-07-27 14:00:00+02:00   ['Addie Patino' 'Susan Guerrero']   \n",
              "...                          ...                                 ...   \n",
              "50012  2017-09-21 08:00:00+02:00                  ['Regina Shirley']   \n",
              "50013  2018-03-18 09:00:00+01:00  ['Robin Ramos' 'Chester Mortimer']   \n",
              "50014  2017-09-22 21:00:00+02:00                     ['Robin Ramos']   \n",
              "50015  2018-02-01 21:00:00+01:00  ['Chester Mortimer' 'Robin Ramos']   \n",
              "50016  2017-09-09 14:00:00+02:00  ['Chester Mortimer' 'Robin Ramos']   \n",
              "\n",
              "       Meal Price Type of Meal  Heroes Adjustment  \n",
              "0           469.0    Breakfast                0.0  \n",
              "1            22.0       Dinner                0.0  \n",
              "2           314.0        Lunch                0.0  \n",
              "3           438.0       Dinner                0.0  \n",
              "4           690.0        Lunch                0.0  \n",
              "...           ...          ...                ...  \n",
              "50012         9.0    Breakfast                0.0  \n",
              "50013        25.0    Breakfast                0.0  \n",
              "50014       160.0       Dinner                0.0  \n",
              "50015       497.0       Dinner                0.0  \n",
              "50016       365.0        Lunch                0.0  \n",
              "\n",
              "[50017 rows x 9 columns]"
            ],
            "text/html": [
              "\n",
              "  <div id=\"df-5b1c1836-d34c-4d90-a702-51b569f06c33\">\n",
              "    <div class=\"colab-df-container\">\n",
              "      <div>\n",
              "<style scoped>\n",
              "    .dataframe tbody tr th:only-of-type {\n",
              "        vertical-align: middle;\n",
              "    }\n",
              "\n",
              "    .dataframe tbody tr th {\n",
              "        vertical-align: top;\n",
              "    }\n",
              "\n",
              "    .dataframe thead th {\n",
              "        text-align: right;\n",
              "    }\n",
              "</style>\n",
              "<table border=\"1\" class=\"dataframe\">\n",
              "  <thead>\n",
              "    <tr style=\"text-align: right;\">\n",
              "      <th></th>\n",
              "      <th>Order Id</th>\n",
              "      <th>Date</th>\n",
              "      <th>Meal Id</th>\n",
              "      <th>Company Id</th>\n",
              "      <th>Date of Meal</th>\n",
              "      <th>Participants</th>\n",
              "      <th>Meal Price</th>\n",
              "      <th>Type of Meal</th>\n",
              "      <th>Heroes Adjustment</th>\n",
              "    </tr>\n",
              "  </thead>\n",
              "  <tbody>\n",
              "    <tr>\n",
              "      <th>0</th>\n",
              "      <td>839FKFW2LLX4LMBB</td>\n",
              "      <td>2016-05-27</td>\n",
              "      <td>INBUX904GIHI8YBD</td>\n",
              "      <td>LJKS5NK6788CYMUU</td>\n",
              "      <td>2016-05-31 07:00:00+02:00</td>\n",
              "      <td>['David Bishop']</td>\n",
              "      <td>469.0</td>\n",
              "      <td>Breakfast</td>\n",
              "      <td>0.0</td>\n",
              "    </tr>\n",
              "    <tr>\n",
              "      <th>1</th>\n",
              "      <td>97OX39BGVMHODLJM</td>\n",
              "      <td>2018-09-27</td>\n",
              "      <td>J0MMOOPP709DIDIE</td>\n",
              "      <td>LJKS5NK6788CYMUU</td>\n",
              "      <td>2018-10-01 20:00:00+02:00</td>\n",
              "      <td>['David Bishop']</td>\n",
              "      <td>22.0</td>\n",
              "      <td>Dinner</td>\n",
              "      <td>0.0</td>\n",
              "    </tr>\n",
              "    <tr>\n",
              "      <th>2</th>\n",
              "      <td>041ORQM5OIHTIU6L</td>\n",
              "      <td>2014-08-24</td>\n",
              "      <td>E4UJLQNCI16UX5CS</td>\n",
              "      <td>LJKS5NK6788CYMUU</td>\n",
              "      <td>2014-08-23 14:00:00+02:00</td>\n",
              "      <td>['Karen Stansell']</td>\n",
              "      <td>314.0</td>\n",
              "      <td>Lunch</td>\n",
              "      <td>0.0</td>\n",
              "    </tr>\n",
              "    <tr>\n",
              "      <th>3</th>\n",
              "      <td>YT796QI18WNGZ7ZJ</td>\n",
              "      <td>2014-04-12</td>\n",
              "      <td>C9SDFHF7553BE247</td>\n",
              "      <td>LJKS5NK6788CYMUU</td>\n",
              "      <td>2014-04-07 21:00:00+02:00</td>\n",
              "      <td>['Addie Patino']</td>\n",
              "      <td>438.0</td>\n",
              "      <td>Dinner</td>\n",
              "      <td>0.0</td>\n",
              "    </tr>\n",
              "    <tr>\n",
              "      <th>4</th>\n",
              "      <td>6YLROQT27B6HRF4E</td>\n",
              "      <td>2015-07-28</td>\n",
              "      <td>48EQXS6IHYNZDDZ5</td>\n",
              "      <td>LJKS5NK6788CYMUU</td>\n",
              "      <td>2015-07-27 14:00:00+02:00</td>\n",
              "      <td>['Addie Patino' 'Susan Guerrero']</td>\n",
              "      <td>690.0</td>\n",
              "      <td>Lunch</td>\n",
              "      <td>0.0</td>\n",
              "    </tr>\n",
              "    <tr>\n",
              "      <th>...</th>\n",
              "      <td>...</td>\n",
              "      <td>...</td>\n",
              "      <td>...</td>\n",
              "      <td>...</td>\n",
              "      <td>...</td>\n",
              "      <td>...</td>\n",
              "      <td>...</td>\n",
              "      <td>...</td>\n",
              "      <td>...</td>\n",
              "    </tr>\n",
              "    <tr>\n",
              "      <th>50012</th>\n",
              "      <td>4OMS8ZSA0UX8LHWI</td>\n",
              "      <td>2017-09-20</td>\n",
              "      <td>1TD5MROATV1NHZ4Y</td>\n",
              "      <td>E4K99D4JR9E40VE1</td>\n",
              "      <td>2017-09-21 08:00:00+02:00</td>\n",
              "      <td>['Regina Shirley']</td>\n",
              "      <td>9.0</td>\n",
              "      <td>Breakfast</td>\n",
              "      <td>0.0</td>\n",
              "    </tr>\n",
              "    <tr>\n",
              "      <th>50013</th>\n",
              "      <td>RR0VKJN8V0KHNKGG</td>\n",
              "      <td>2018-03-19</td>\n",
              "      <td>22EX9VZSJKHP4AIP</td>\n",
              "      <td>E4K99D4JR9E40VE1</td>\n",
              "      <td>2018-03-18 09:00:00+01:00</td>\n",
              "      <td>['Robin Ramos' 'Chester Mortimer']</td>\n",
              "      <td>25.0</td>\n",
              "      <td>Breakfast</td>\n",
              "      <td>0.0</td>\n",
              "    </tr>\n",
              "    <tr>\n",
              "      <th>50014</th>\n",
              "      <td>STJ6QJC30WPRM93H</td>\n",
              "      <td>2017-09-21</td>\n",
              "      <td>LMX18PNGWCIMG1QW</td>\n",
              "      <td>E4K99D4JR9E40VE1</td>\n",
              "      <td>2017-09-22 21:00:00+02:00</td>\n",
              "      <td>['Robin Ramos']</td>\n",
              "      <td>160.0</td>\n",
              "      <td>Dinner</td>\n",
              "      <td>0.0</td>\n",
              "    </tr>\n",
              "    <tr>\n",
              "      <th>50015</th>\n",
              "      <td>QHEUIYNC0XQX7GDR</td>\n",
              "      <td>2018-01-28</td>\n",
              "      <td>4U0VH2TGQL30X23X</td>\n",
              "      <td>E4K99D4JR9E40VE1</td>\n",
              "      <td>2018-02-01 21:00:00+01:00</td>\n",
              "      <td>['Chester Mortimer' 'Robin Ramos']</td>\n",
              "      <td>497.0</td>\n",
              "      <td>Dinner</td>\n",
              "      <td>0.0</td>\n",
              "    </tr>\n",
              "    <tr>\n",
              "      <th>50016</th>\n",
              "      <td>NKHFWT5I2J9LPAPG</td>\n",
              "      <td>2017-09-06</td>\n",
              "      <td>ORWFRT5TUSYGNYG7</td>\n",
              "      <td>E4K99D4JR9E40VE1</td>\n",
              "      <td>2017-09-09 14:00:00+02:00</td>\n",
              "      <td>['Chester Mortimer' 'Robin Ramos']</td>\n",
              "      <td>365.0</td>\n",
              "      <td>Lunch</td>\n",
              "      <td>0.0</td>\n",
              "    </tr>\n",
              "  </tbody>\n",
              "</table>\n",
              "<p>50017 rows × 9 columns</p>\n",
              "</div>\n",
              "      <button class=\"colab-df-convert\" onclick=\"convertToInteractive('df-5b1c1836-d34c-4d90-a702-51b569f06c33')\"\n",
              "              title=\"Convert this dataframe to an interactive table.\"\n",
              "              style=\"display:none;\">\n",
              "        \n",
              "  <svg xmlns=\"http://www.w3.org/2000/svg\" height=\"24px\"viewBox=\"0 0 24 24\"\n",
              "       width=\"24px\">\n",
              "    <path d=\"M0 0h24v24H0V0z\" fill=\"none\"/>\n",
              "    <path d=\"M18.56 5.44l.94 2.06.94-2.06 2.06-.94-2.06-.94-.94-2.06-.94 2.06-2.06.94zm-11 1L8.5 8.5l.94-2.06 2.06-.94-2.06-.94L8.5 2.5l-.94 2.06-2.06.94zm10 10l.94 2.06.94-2.06 2.06-.94-2.06-.94-.94-2.06-.94 2.06-2.06.94z\"/><path d=\"M17.41 7.96l-1.37-1.37c-.4-.4-.92-.59-1.43-.59-.52 0-1.04.2-1.43.59L10.3 9.45l-7.72 7.72c-.78.78-.78 2.05 0 2.83L4 21.41c.39.39.9.59 1.41.59.51 0 1.02-.2 1.41-.59l7.78-7.78 2.81-2.81c.8-.78.8-2.07 0-2.86zM5.41 20L4 18.59l7.72-7.72 1.47 1.35L5.41 20z\"/>\n",
              "  </svg>\n",
              "      </button>\n",
              "      \n",
              "  <style>\n",
              "    .colab-df-container {\n",
              "      display:flex;\n",
              "      flex-wrap:wrap;\n",
              "      gap: 12px;\n",
              "    }\n",
              "\n",
              "    .colab-df-convert {\n",
              "      background-color: #E8F0FE;\n",
              "      border: none;\n",
              "      border-radius: 50%;\n",
              "      cursor: pointer;\n",
              "      display: none;\n",
              "      fill: #1967D2;\n",
              "      height: 32px;\n",
              "      padding: 0 0 0 0;\n",
              "      width: 32px;\n",
              "    }\n",
              "\n",
              "    .colab-df-convert:hover {\n",
              "      background-color: #E2EBFA;\n",
              "      box-shadow: 0px 1px 2px rgba(60, 64, 67, 0.3), 0px 1px 3px 1px rgba(60, 64, 67, 0.15);\n",
              "      fill: #174EA6;\n",
              "    }\n",
              "\n",
              "    [theme=dark] .colab-df-convert {\n",
              "      background-color: #3B4455;\n",
              "      fill: #D2E3FC;\n",
              "    }\n",
              "\n",
              "    [theme=dark] .colab-df-convert:hover {\n",
              "      background-color: #434B5C;\n",
              "      box-shadow: 0px 1px 3px 1px rgba(0, 0, 0, 0.15);\n",
              "      filter: drop-shadow(0px 1px 2px rgba(0, 0, 0, 0.3));\n",
              "      fill: #FFFFFF;\n",
              "    }\n",
              "  </style>\n",
              "\n",
              "      <script>\n",
              "        const buttonEl =\n",
              "          document.querySelector('#df-5b1c1836-d34c-4d90-a702-51b569f06c33 button.colab-df-convert');\n",
              "        buttonEl.style.display =\n",
              "          google.colab.kernel.accessAllowed ? 'block' : 'none';\n",
              "\n",
              "        async function convertToInteractive(key) {\n",
              "          const element = document.querySelector('#df-5b1c1836-d34c-4d90-a702-51b569f06c33');\n",
              "          const dataTable =\n",
              "            await google.colab.kernel.invokeFunction('convertToInteractive',\n",
              "                                                     [key], {});\n",
              "          if (!dataTable) return;\n",
              "\n",
              "          const docLinkHtml = 'Like what you see? Visit the ' +\n",
              "            '<a target=\"_blank\" href=https://colab.research.google.com/notebooks/data_table.ipynb>data table notebook</a>'\n",
              "            + ' to learn more about interactive tables.';\n",
              "          element.innerHTML = '';\n",
              "          dataTable['output_type'] = 'display_data';\n",
              "          await google.colab.output.renderOutput(dataTable, element);\n",
              "          const docLink = document.createElement('div');\n",
              "          docLink.innerHTML = docLinkHtml;\n",
              "          element.appendChild(docLink);\n",
              "        }\n",
              "      </script>\n",
              "    </div>\n",
              "  </div>\n",
              "  "
            ]
          },
          "metadata": {},
          "execution_count": 56
        }
      ]
    },
    {
      "cell_type": "code",
      "source": [
        "invoices.fillna(method = 'ffill').head()"
      ],
      "metadata": {
        "colab": {
          "base_uri": "https://localhost:8080/",
          "height": 354
        },
        "id": "G6sUjKW_v1Z4",
        "outputId": "cbf5249e-ea48-4418-c63d-bec028efb9d6"
      },
      "execution_count": 59,
      "outputs": [
        {
          "output_type": "execute_result",
          "data": {
            "text/plain": [
              "           Order Id       Date           Meal Id        Company Id  \\\n",
              "0  839FKFW2LLX4LMBB 2016-05-27  INBUX904GIHI8YBD  LJKS5NK6788CYMUU   \n",
              "1  97OX39BGVMHODLJM 2018-09-27  J0MMOOPP709DIDIE  LJKS5NK6788CYMUU   \n",
              "2  041ORQM5OIHTIU6L 2014-08-24  E4UJLQNCI16UX5CS  LJKS5NK6788CYMUU   \n",
              "3  YT796QI18WNGZ7ZJ 2014-04-12  C9SDFHF7553BE247  LJKS5NK6788CYMUU   \n",
              "4  6YLROQT27B6HRF4E 2015-07-28  48EQXS6IHYNZDDZ5  LJKS5NK6788CYMUU   \n",
              "\n",
              "                Date of Meal                       Participants  Meal Price  \\\n",
              "0  2016-05-31 07:00:00+02:00                   ['David Bishop']       469.0   \n",
              "1  2018-10-01 20:00:00+02:00                   ['David Bishop']        22.0   \n",
              "2  2014-08-23 14:00:00+02:00                 ['Karen Stansell']       314.0   \n",
              "3  2014-04-07 21:00:00+02:00                   ['Addie Patino']       438.0   \n",
              "4  2015-07-27 14:00:00+02:00  ['Addie Patino' 'Susan Guerrero']       690.0   \n",
              "\n",
              "  Type of Meal  Heroes Adjustment  \n",
              "0    Breakfast                0.0  \n",
              "1       Dinner                0.0  \n",
              "2        Lunch                0.0  \n",
              "3       Dinner                0.0  \n",
              "4        Lunch                0.0  "
            ],
            "text/html": [
              "\n",
              "  <div id=\"df-8f3502ee-7993-46c8-a442-3497b1013c1a\">\n",
              "    <div class=\"colab-df-container\">\n",
              "      <div>\n",
              "<style scoped>\n",
              "    .dataframe tbody tr th:only-of-type {\n",
              "        vertical-align: middle;\n",
              "    }\n",
              "\n",
              "    .dataframe tbody tr th {\n",
              "        vertical-align: top;\n",
              "    }\n",
              "\n",
              "    .dataframe thead th {\n",
              "        text-align: right;\n",
              "    }\n",
              "</style>\n",
              "<table border=\"1\" class=\"dataframe\">\n",
              "  <thead>\n",
              "    <tr style=\"text-align: right;\">\n",
              "      <th></th>\n",
              "      <th>Order Id</th>\n",
              "      <th>Date</th>\n",
              "      <th>Meal Id</th>\n",
              "      <th>Company Id</th>\n",
              "      <th>Date of Meal</th>\n",
              "      <th>Participants</th>\n",
              "      <th>Meal Price</th>\n",
              "      <th>Type of Meal</th>\n",
              "      <th>Heroes Adjustment</th>\n",
              "    </tr>\n",
              "  </thead>\n",
              "  <tbody>\n",
              "    <tr>\n",
              "      <th>0</th>\n",
              "      <td>839FKFW2LLX4LMBB</td>\n",
              "      <td>2016-05-27</td>\n",
              "      <td>INBUX904GIHI8YBD</td>\n",
              "      <td>LJKS5NK6788CYMUU</td>\n",
              "      <td>2016-05-31 07:00:00+02:00</td>\n",
              "      <td>['David Bishop']</td>\n",
              "      <td>469.0</td>\n",
              "      <td>Breakfast</td>\n",
              "      <td>0.0</td>\n",
              "    </tr>\n",
              "    <tr>\n",
              "      <th>1</th>\n",
              "      <td>97OX39BGVMHODLJM</td>\n",
              "      <td>2018-09-27</td>\n",
              "      <td>J0MMOOPP709DIDIE</td>\n",
              "      <td>LJKS5NK6788CYMUU</td>\n",
              "      <td>2018-10-01 20:00:00+02:00</td>\n",
              "      <td>['David Bishop']</td>\n",
              "      <td>22.0</td>\n",
              "      <td>Dinner</td>\n",
              "      <td>0.0</td>\n",
              "    </tr>\n",
              "    <tr>\n",
              "      <th>2</th>\n",
              "      <td>041ORQM5OIHTIU6L</td>\n",
              "      <td>2014-08-24</td>\n",
              "      <td>E4UJLQNCI16UX5CS</td>\n",
              "      <td>LJKS5NK6788CYMUU</td>\n",
              "      <td>2014-08-23 14:00:00+02:00</td>\n",
              "      <td>['Karen Stansell']</td>\n",
              "      <td>314.0</td>\n",
              "      <td>Lunch</td>\n",
              "      <td>0.0</td>\n",
              "    </tr>\n",
              "    <tr>\n",
              "      <th>3</th>\n",
              "      <td>YT796QI18WNGZ7ZJ</td>\n",
              "      <td>2014-04-12</td>\n",
              "      <td>C9SDFHF7553BE247</td>\n",
              "      <td>LJKS5NK6788CYMUU</td>\n",
              "      <td>2014-04-07 21:00:00+02:00</td>\n",
              "      <td>['Addie Patino']</td>\n",
              "      <td>438.0</td>\n",
              "      <td>Dinner</td>\n",
              "      <td>0.0</td>\n",
              "    </tr>\n",
              "    <tr>\n",
              "      <th>4</th>\n",
              "      <td>6YLROQT27B6HRF4E</td>\n",
              "      <td>2015-07-28</td>\n",
              "      <td>48EQXS6IHYNZDDZ5</td>\n",
              "      <td>LJKS5NK6788CYMUU</td>\n",
              "      <td>2015-07-27 14:00:00+02:00</td>\n",
              "      <td>['Addie Patino' 'Susan Guerrero']</td>\n",
              "      <td>690.0</td>\n",
              "      <td>Lunch</td>\n",
              "      <td>0.0</td>\n",
              "    </tr>\n",
              "  </tbody>\n",
              "</table>\n",
              "</div>\n",
              "      <button class=\"colab-df-convert\" onclick=\"convertToInteractive('df-8f3502ee-7993-46c8-a442-3497b1013c1a')\"\n",
              "              title=\"Convert this dataframe to an interactive table.\"\n",
              "              style=\"display:none;\">\n",
              "        \n",
              "  <svg xmlns=\"http://www.w3.org/2000/svg\" height=\"24px\"viewBox=\"0 0 24 24\"\n",
              "       width=\"24px\">\n",
              "    <path d=\"M0 0h24v24H0V0z\" fill=\"none\"/>\n",
              "    <path d=\"M18.56 5.44l.94 2.06.94-2.06 2.06-.94-2.06-.94-.94-2.06-.94 2.06-2.06.94zm-11 1L8.5 8.5l.94-2.06 2.06-.94-2.06-.94L8.5 2.5l-.94 2.06-2.06.94zm10 10l.94 2.06.94-2.06 2.06-.94-2.06-.94-.94-2.06-.94 2.06-2.06.94z\"/><path d=\"M17.41 7.96l-1.37-1.37c-.4-.4-.92-.59-1.43-.59-.52 0-1.04.2-1.43.59L10.3 9.45l-7.72 7.72c-.78.78-.78 2.05 0 2.83L4 21.41c.39.39.9.59 1.41.59.51 0 1.02-.2 1.41-.59l7.78-7.78 2.81-2.81c.8-.78.8-2.07 0-2.86zM5.41 20L4 18.59l7.72-7.72 1.47 1.35L5.41 20z\"/>\n",
              "  </svg>\n",
              "      </button>\n",
              "      \n",
              "  <style>\n",
              "    .colab-df-container {\n",
              "      display:flex;\n",
              "      flex-wrap:wrap;\n",
              "      gap: 12px;\n",
              "    }\n",
              "\n",
              "    .colab-df-convert {\n",
              "      background-color: #E8F0FE;\n",
              "      border: none;\n",
              "      border-radius: 50%;\n",
              "      cursor: pointer;\n",
              "      display: none;\n",
              "      fill: #1967D2;\n",
              "      height: 32px;\n",
              "      padding: 0 0 0 0;\n",
              "      width: 32px;\n",
              "    }\n",
              "\n",
              "    .colab-df-convert:hover {\n",
              "      background-color: #E2EBFA;\n",
              "      box-shadow: 0px 1px 2px rgba(60, 64, 67, 0.3), 0px 1px 3px 1px rgba(60, 64, 67, 0.15);\n",
              "      fill: #174EA6;\n",
              "    }\n",
              "\n",
              "    [theme=dark] .colab-df-convert {\n",
              "      background-color: #3B4455;\n",
              "      fill: #D2E3FC;\n",
              "    }\n",
              "\n",
              "    [theme=dark] .colab-df-convert:hover {\n",
              "      background-color: #434B5C;\n",
              "      box-shadow: 0px 1px 3px 1px rgba(0, 0, 0, 0.15);\n",
              "      filter: drop-shadow(0px 1px 2px rgba(0, 0, 0, 0.3));\n",
              "      fill: #FFFFFF;\n",
              "    }\n",
              "  </style>\n",
              "\n",
              "      <script>\n",
              "        const buttonEl =\n",
              "          document.querySelector('#df-8f3502ee-7993-46c8-a442-3497b1013c1a button.colab-df-convert');\n",
              "        buttonEl.style.display =\n",
              "          google.colab.kernel.accessAllowed ? 'block' : 'none';\n",
              "\n",
              "        async function convertToInteractive(key) {\n",
              "          const element = document.querySelector('#df-8f3502ee-7993-46c8-a442-3497b1013c1a');\n",
              "          const dataTable =\n",
              "            await google.colab.kernel.invokeFunction('convertToInteractive',\n",
              "                                                     [key], {});\n",
              "          if (!dataTable) return;\n",
              "\n",
              "          const docLinkHtml = 'Like what you see? Visit the ' +\n",
              "            '<a target=\"_blank\" href=https://colab.research.google.com/notebooks/data_table.ipynb>data table notebook</a>'\n",
              "            + ' to learn more about interactive tables.';\n",
              "          element.innerHTML = '';\n",
              "          dataTable['output_type'] = 'display_data';\n",
              "          await google.colab.output.renderOutput(dataTable, element);\n",
              "          const docLink = document.createElement('div');\n",
              "          docLink.innerHTML = docLinkHtml;\n",
              "          element.appendChild(docLink);\n",
              "        }\n",
              "      </script>\n",
              "    </div>\n",
              "  </div>\n",
              "  "
            ]
          },
          "metadata": {},
          "execution_count": 59
        }
      ]
    },
    {
      "cell_type": "code",
      "source": [
        "invoices['Meal Price'].fillna(invoices['Meal Price'].median())"
      ],
      "metadata": {
        "colab": {
          "base_uri": "https://localhost:8080/"
        },
        "id": "OGwJ-xuLxm3B",
        "outputId": "d49b81c9-710b-4bd8-db49-45d21e1a7159"
      },
      "execution_count": 61,
      "outputs": [
        {
          "output_type": "execute_result",
          "data": {
            "text/plain": [
              "0        469.0\n",
              "1         22.0\n",
              "2        314.0\n",
              "3        438.0\n",
              "4        690.0\n",
              "         ...  \n",
              "50012      9.0\n",
              "50013     25.0\n",
              "50014    160.0\n",
              "50015    497.0\n",
              "50016    365.0\n",
              "Name: Meal Price, Length: 50017, dtype: float64"
            ]
          },
          "metadata": {},
          "execution_count": 61
        }
      ]
    },
    {
      "cell_type": "markdown",
      "source": [
        "![image.png](data:image/png;base64,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)"
      ],
      "metadata": {
        "id": "JG_9In9c6w37"
      }
    },
    {
      "cell_type": "markdown",
      "source": [
        "Podemos especificar a traves de un diccionario dentro del metodo **fillna()** valores especificos para cada columna."
      ],
      "metadata": {
        "id": "Ljnep8EQ5-S4"
      }
    },
    {
      "cell_type": "code",
      "source": [],
      "metadata": {
        "id": "ppg830xU_Pcw"
      },
      "execution_count": null,
      "outputs": []
    },
    {
      "cell_type": "markdown",
      "source": [
        "El parametro **inplace**, nos permite especificar un valor **True** o **False**, para decir si se hara el rellenado en el mismo dataframe, eliminando el dataframe anterior."
      ],
      "metadata": {
        "id": "tb5TC0Nr6jCw"
      }
    },
    {
      "cell_type": "code",
      "source": [],
      "metadata": {
        "id": "TFaT8hFx_RIP"
      },
      "execution_count": null,
      "outputs": []
    },
    {
      "cell_type": "markdown",
      "source": [
        "![image.png](data:image/png;base64,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)"
      ],
      "metadata": {
        "id": "eTqe56008GTl"
      }
    },
    {
      "cell_type": "code",
      "source": [],
      "metadata": {
        "id": "KfK1FJNw_TOm"
      },
      "execution_count": null,
      "outputs": []
    },
    {
      "cell_type": "markdown",
      "source": [
        "## Remplazar valores"
      ],
      "metadata": {
        "id": "Sysj4ETJgO3G"
      }
    },
    {
      "cell_type": "code",
      "source": [
        "invoices['Type of Meal'].replace('Breakfast','desayuno')"
      ],
      "metadata": {
        "colab": {
          "base_uri": "https://localhost:8080/"
        },
        "id": "NlbocVbqzIKm",
        "outputId": "bdbe5347-a08a-4c71-e261-92984ccae8fd"
      },
      "execution_count": 63,
      "outputs": [
        {
          "output_type": "execute_result",
          "data": {
            "text/plain": [
              "0        desayuno\n",
              "1          Dinner\n",
              "2           Lunch\n",
              "3          Dinner\n",
              "4           Lunch\n",
              "           ...   \n",
              "50012    desayuno\n",
              "50013    desayuno\n",
              "50014      Dinner\n",
              "50015      Dinner\n",
              "50016       Lunch\n",
              "Name: Type of Meal, Length: 50017, dtype: object"
            ]
          },
          "metadata": {},
          "execution_count": 63
        }
      ]
    },
    {
      "cell_type": "markdown",
      "source": [
        "Usando `.replace()`"
      ],
      "metadata": {
        "id": "7SK7_-rUS8lY"
      }
    }
  ]
}