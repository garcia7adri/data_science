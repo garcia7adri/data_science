{
 "cells": [
  {
   "cell_type": "code",
   "execution_count": 1,
   "metadata": {
    "id": "MClpPpJYoEoA"
   },
   "outputs": [],
   "source": [
    "import numpy as np"
   ]
  },
  {
   "cell_type": "markdown",
   "metadata": {
    "id": "TMTQLxvMp8K1"
   },
   "source": [
    "## Crea un array con numeros del 1 al 10"
   ]
  },
  {
   "cell_type": "code",
   "execution_count": 2,
   "metadata": {
    "id": "DA2_2Nbap7jM"
   },
   "outputs": [],
   "source": [
    "array=np.arange(10)"
   ]
  },
  {
   "cell_type": "code",
   "execution_count": 3,
   "metadata": {
    "id": "llY_9t4OqAhz"
   },
   "outputs": [
    {
     "data": {
      "text/plain": [
       "array([0, 1, 2, 3, 4, 5, 6, 7, 8, 9])"
      ]
     },
     "execution_count": 3,
     "metadata": {},
     "output_type": "execute_result"
    }
   ],
   "source": [
    "array"
   ]
  },
  {
   "cell_type": "code",
   "execution_count": null,
   "metadata": {
    "id": "wAk_fsK5qAdd"
   },
   "outputs": [],
   "source": [
    "# Resultado esperado\n",
    "#> array([0, 1, 2, 3, 4, 5, 6, 7, 8, 9])"
   ]
  },
  {
   "cell_type": "markdown",
   "metadata": {
    "id": "W22Msb7LoGmS"
   },
   "source": [
    "## Crea un array de 3x3 donde todos su valores sean `True`"
   ]
  },
  {
   "cell_type": "code",
   "execution_count": 6,
   "metadata": {
    "colab": {
     "base_uri": "https://localhost:8080/"
    },
    "id": "LyLPQ0paAnqM",
    "outputId": "ae722876-523e-4faa-d119-43f402fd52f8"
   },
   "outputs": [
    {
     "data": {
      "text/plain": [
       "array([[ True,  True,  True],\n",
       "       [ True,  True,  True],\n",
       "       [ True,  True,  True]])"
      ]
     },
     "execution_count": 6,
     "metadata": {},
     "output_type": "execute_result"
    }
   ],
   "source": [
    "array=np.arange(9) > -1\n",
    "array.reshape(3,3)"
   ]
  },
  {
   "cell_type": "code",
   "execution_count": null,
   "metadata": {
    "id": "tj4Joha8Anmy"
   },
   "outputs": [],
   "source": []
  },
  {
   "cell_type": "code",
   "execution_count": null,
   "metadata": {
    "id": "tUDiEPj6ob7B"
   },
   "outputs": [],
   "source": [
    "# Reultado esperado\n",
    "#> array([[ True,  True,  True],\n",
    "#>        [ True,  True,  True],\n",
    "#>        [ True,  True,  True]])"
   ]
  },
  {
   "cell_type": "markdown",
   "metadata": {
    "id": "FopmvR4koGjG"
   },
   "source": [
    "## Extrae todos los numeros impares del siguiente array"
   ]
  },
  {
   "cell_type": "code",
   "execution_count": 29,
   "metadata": {
    "colab": {
     "base_uri": "https://localhost:8080/"
    },
    "id": "yPA0QUqYobwt",
    "outputId": "e6c532d5-aefd-4de2-e947-0b3dcba7cd5b"
   },
   "outputs": [
    {
     "name": "stdout",
     "output_type": "stream",
     "text": [
      "[0 1 2 3 4 5 6 7 8 9]\n"
     ]
    }
   ],
   "source": [
    "arr = np.arange(10)\n",
    "print(arr)"
   ]
  },
  {
   "cell_type": "code",
   "execution_count": 30,
   "metadata": {
    "colab": {
     "base_uri": "https://localhost:8080/"
    },
    "id": "ynrwmP5Jobm_",
    "outputId": "bb5132ab-6de5-454d-87f8-012ec48fa5f9"
   },
   "outputs": [
    {
     "data": {
      "text/plain": [
       "array([1, 3, 5, 7, 9])"
      ]
     },
     "execution_count": 30,
     "metadata": {},
     "output_type": "execute_result"
    }
   ],
   "source": [
    "arr1=arr[arr % 2 == 1]\n",
    "arr1"
   ]
  },
  {
   "cell_type": "code",
   "execution_count": null,
   "metadata": {
    "id": "RKoxsawkobNt"
   },
   "outputs": [],
   "source": [
    "# Resultado esperado:\n",
    "#> array([1, 3, 5, 7, 9])"
   ]
  },
  {
   "cell_type": "markdown",
   "metadata": {
    "id": "Nn--my5poGgL"
   },
   "source": [
    "## Remplaza todos los numeros impares por  -1"
   ]
  },
  {
   "cell_type": "code",
   "execution_count": 33,
   "metadata": {
    "colab": {
     "base_uri": "https://localhost:8080/"
    },
    "id": "iRo8RiVGoxX9",
    "outputId": "8198e2b4-a3e9-474d-85f1-799c0bad9863"
   },
   "outputs": [
    {
     "name": "stdout",
     "output_type": "stream",
     "text": [
      "[0 1 2 3 4 5 6 7 8 9]\n"
     ]
    }
   ],
   "source": [
    "arr = np.arange(10)\n",
    "print(arr)"
   ]
  },
  {
   "cell_type": "code",
   "execution_count": 37,
   "metadata": {
    "colab": {
     "base_uri": "https://localhost:8080/"
    },
    "id": "rHM5WOtaoxUa",
    "outputId": "ce80e5fe-4bd1-4238-c28b-ffa82f3e8f52"
   },
   "outputs": [],
   "source": [
    "arr[arr % 2 == 1] = -1"
   ]
  },
  {
   "cell_type": "code",
   "execution_count": null,
   "metadata": {
    "colab": {
     "base_uri": "https://localhost:8080/"
    },
    "id": "5W8uMYfAq3Y2",
    "outputId": "9e4dd2b2-9ee6-4947-f4ed-8895bd760e52"
   },
   "outputs": [
    {
     "data": {
      "text/plain": [
       "array([ 0, -1,  2, -1,  4, -1,  6, -1,  8, -1])"
      ]
     },
     "execution_count": 20,
     "metadata": {},
     "output_type": "execute_result"
    }
   ],
   "source": []
  },
  {
   "cell_type": "code",
   "execution_count": null,
   "metadata": {
    "id": "euODfutYoxRN"
   },
   "outputs": [],
   "source": [
    "# Resultado esperado:\n",
    "#>  array([ 0, -1,  2, -1,  4, -1,  6, -1,  8, -1])"
   ]
  },
  {
   "cell_type": "markdown",
   "metadata": {
    "id": "4JEdWFPhoGdW"
   },
   "source": [
    "## Convierte un array de 1D a uno de 2D de dos filas"
   ]
  },
  {
   "cell_type": "code",
   "execution_count": null,
   "metadata": {
    "colab": {
     "base_uri": "https://localhost:8080/"
    },
    "id": "Qb_m5EaBpsyM",
    "outputId": "69833a1d-78d6-440a-a096-9e3b4a3fa7fc"
   },
   "outputs": [
    {
     "name": "stdout",
     "output_type": "stream",
     "text": [
      "[0 1 2 3 4 5 6 7 8 9]\n"
     ]
    }
   ],
   "source": [
    "arr = np.arange(10)\n",
    "print(arr)"
   ]
  },
  {
   "cell_type": "code",
   "execution_count": 12,
   "metadata": {
    "id": "vL6tasXCpsuN"
   },
   "outputs": [
    {
     "data": {
      "text/plain": [
       "array([[0, 1, 2, 3, 4],\n",
       "       [5, 6, 7, 8, 9]])"
      ]
     },
     "execution_count": 12,
     "metadata": {},
     "output_type": "execute_result"
    }
   ],
   "source": [
    "arr.reshape(2,5)"
   ]
  },
  {
   "cell_type": "code",
   "execution_count": null,
   "metadata": {
    "id": "rtL4kukVpsrK"
   },
   "outputs": [],
   "source": [
    "# Resultado esperado\n",
    "#> array([[0, 1, 2, 3, 4],\n",
    "#>        [5, 6, 7, 8, 9]])"
   ]
  },
  {
   "cell_type": "markdown",
   "metadata": {
    "id": "71Gj2FrYoGaM"
   },
   "source": [
    "## Extrae todos los numeros que se encuentren entre 5 y 10 del siguiente array"
   ]
  },
  {
   "cell_type": "code",
   "execution_count": 41,
   "metadata": {
    "colab": {
     "base_uri": "https://localhost:8080/"
    },
    "id": "Ehfe4UHD_z92",
    "outputId": "e1eab2ca-053a-456c-9775-ba4e8782aa49"
   },
   "outputs": [
    {
     "name": "stdout",
     "output_type": "stream",
     "text": [
      "[ 2  6  1  9 10  3 27]\n"
     ]
    }
   ],
   "source": [
    "arr = np.array([2, 6, 1, 9, 10, 3, 27])\n",
    "print(arr)"
   ]
  },
  {
   "cell_type": "code",
   "execution_count": 42,
   "metadata": {
    "colab": {
     "base_uri": "https://localhost:8080/"
    },
    "id": "WH-kiqcV_ziN",
    "outputId": "6675a840-9b0f-451a-f05d-90ee0652fbd3"
   },
   "outputs": [
    {
     "data": {
      "text/plain": [
       "array([ 6,  9, 10])"
      ]
     },
     "execution_count": 42,
     "metadata": {},
     "output_type": "execute_result"
    }
   ],
   "source": [
    "arr[(arr > 5) & (arr <11)]"
   ]
  },
  {
   "cell_type": "code",
   "execution_count": null,
   "metadata": {
    "id": "NVDI5Fep_zfR"
   },
   "outputs": [],
   "source": [
    "# Resultado esperado\n",
    "#> (array([6, 9, 10]),)"
   ]
  },
  {
   "cell_type": "markdown",
   "metadata": {
    "id": "v6nMylq6oT53"
   },
   "source": [
    "## Intercambia de posicion la primera y la segunda columna de la siguiente matriz"
   ]
  },
  {
   "cell_type": "code",
   "execution_count": 47,
   "metadata": {
    "colab": {
     "base_uri": "https://localhost:8080/"
    },
    "id": "W4td-AoVBPnm",
    "outputId": "8a489283-91b8-4892-9811-afa54b182c8f"
   },
   "outputs": [
    {
     "name": "stdout",
     "output_type": "stream",
     "text": [
      "[[0 1 2]\n",
      " [3 4 5]\n",
      " [6 7 8]]\n"
     ]
    }
   ],
   "source": [
    "arr = np.arange(9).reshape(3,3)\n",
    "print(arr)"
   ]
  },
  {
   "cell_type": "code",
   "execution_count": 49,
   "metadata": {
    "colab": {
     "base_uri": "https://localhost:8080/"
    },
    "id": "SBNS7ftABPkh",
    "outputId": "078dd884-047e-4e48-dc3f-b9558cf77f9e"
   },
   "outputs": [
    {
     "data": {
      "text/plain": [
       "array([[1, 0, 2],\n",
       "       [4, 3, 5],\n",
       "       [7, 6, 8]])"
      ]
     },
     "execution_count": 49,
     "metadata": {},
     "output_type": "execute_result"
    }
   ],
   "source": [
    "arr[:,[1,0,2]]"
   ]
  },
  {
   "cell_type": "code",
   "execution_count": null,
   "metadata": {
    "id": "ZQWkhGO2EcTj"
   },
   "outputs": [],
   "source": [
    "# Reultado esperado\n",
    "#> array([[1, 0, 2],\n",
    "#>        [4, 3, 5],\n",
    "#>        [7, 6, 8]])"
   ]
  },
  {
   "cell_type": "markdown",
   "metadata": {
    "id": "V5Gt_q7nEWoI"
   },
   "source": [
    "## Minimos cuadrados ordinarios"
   ]
  },
  {
   "cell_type": "markdown",
   "metadata": {
    "id": "EedRaGIqoGXS"
   },
   "source": [
    "La siguiente es la formula para la regresion lineal de minimos cuadrados ordinarios\n"
   ]
  },
  {
   "cell_type": "markdown",
   "metadata": {
    "id": "XNR7J8TuDLpb"
   },
   "source": [
    "![image.png](data:image/png;base64,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)"
   ]
  },
  {
   "cell_type": "markdown",
   "metadata": {
    "id": "bGJDQFJbDvH0"
   },
   "source": [
    "En esa formula, las multiplicaciones son producto punto. (Recordando que el producto punto de dos matrices en numpy es `A.dot(B)` o `A @ B`)  \n",
    "Las `T` en el superindice indican la transpuesta de la matriz  \n",
    "Los `-1` en el superindice indican la inversa de una matriz.  \n"
   ]
  },
  {
   "cell_type": "markdown",
   "metadata": {
    "id": "2fRJzFF-Eqjf"
   },
   "source": [
    "La inversa de una matriz cuadrada `A` en numpy es `np.linalg.inv(A)`"
   ]
  },
  {
   "cell_type": "markdown",
   "metadata": {
    "id": "FOMM4DA3E5LQ"
   },
   "source": [
    "Para los siguientes datos, calcula el estimador beta como se indica en la formula de minimos cuadrados ordinarios:"
   ]
  },
  {
   "cell_type": "code",
   "execution_count": 16,
   "metadata": {
    "id": "HTAaQ9-FEkyA"
   },
   "outputs": [],
   "source": [
    "X = np.array([\n",
    "  [5, 7, 8],\n",
    "  [1, 1, 3],\n",
    "  [5, 0, 7],\n",
    "  [7, 3, 4],\n",
    "  [6, 7, 7],\n",
    "  [6, 7, 9],\n",
    "  [6, 1, 4],\n",
    "  [9, 0, 0],\n",
    "  [0, 5, 9],\n",
    "  [2, 8, 6]])\n",
    "y = np.array([3.5, 3.1, -18.8, 9.5, 18.5, 6.8, 0., 7.6, -11.2, 13.3])"
   ]
  },
  {
   "cell_type": "code",
   "execution_count": 20,
   "metadata": {
    "colab": {
     "base_uri": "https://localhost:8080/"
    },
    "id": "KVlduLf7GJqP",
    "outputId": "6a0c5dac-71ef-48b5-d87d-8848942a6671"
   },
   "outputs": [
    {
     "data": {
      "text/plain": [
       "array([ 1.22232275,  4.04574544, -3.26763476])"
      ]
     },
     "execution_count": 20,
     "metadata": {},
     "output_type": "execute_result"
    }
   ],
   "source": [
    "np.linalg.inv(X.T@X)@X.T@y"
   ]
  },
  {
   "cell_type": "code",
   "execution_count": null,
   "metadata": {
    "id": "O89T8cGGH9jx"
   },
   "outputs": [],
   "source": [
    "# Resultado esperado\n",
    "#> array([ 1.22232275,  4.04574544, -3.26763476])"
   ]
  },
  {
   "cell_type": "markdown",
   "metadata": {
    "id": "Z_BUGvaeImUh"
   },
   "source": [
    "Los valores reales eran `np.array([1, 4, -3])`, ¿es esta una buena estimacion?"
   ]
  }
 ],
 "metadata": {
  "colab": {
   "provenance": []
  },
  "kernelspec": {
   "display_name": "Python 3 (ipykernel)",
   "language": "python",
   "name": "python3"
  },
  "language_info": {
   "codemirror_mode": {
    "name": "ipython",
    "version": 3
   },
   "file_extension": ".py",
   "mimetype": "text/x-python",
   "name": "python",
   "nbconvert_exporter": "python",
   "pygments_lexer": "ipython3",
   "version": "3.10.9"
  }
 },
 "nbformat": 4,
 "nbformat_minor": 1
}
