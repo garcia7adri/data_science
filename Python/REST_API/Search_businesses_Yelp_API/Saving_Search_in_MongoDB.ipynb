{
  "nbformat": 4,
  "nbformat_minor": 0,
  "metadata": {
    "colab": {
      "provenance": []
    },
    "kernelspec": {
      "name": "python3",
      "display_name": "Python 3"
    },
    "language_info": {
      "name": "python"
    }
  },
  "cells": [
    {
      "cell_type": "markdown",
      "source": [
        "About the file we are going to save"
      ],
      "metadata": {
        "id": "saepRXHx1WFE"
      }
    },
    {
      "cell_type": "code",
      "execution_count": null,
      "metadata": {
        "id": "T7bpxVVp0-E-"
      },
      "outputs": [],
      "source": [
        "#Transform the response of the endpoint into a list\n",
        "results_list = list(response['businesses'])"
      ]
    },
    {
      "cell_type": "markdown",
      "source": [
        "About MongoDB"
      ],
      "metadata": {
        "id": "xuJKwuUo1aHJ"
      }
    },
    {
      "cell_type": "code",
      "source": [
        "!pip install pymongo\n",
        "from pymongo import MongoClient"
      ],
      "metadata": {
        "id": "wLqF4nqB1Uoi"
      },
      "execution_count": null,
      "outputs": []
    },
    {
      "cell_type": "code",
      "source": [
        "# We create a connection to MongoDB\n",
        "client = MongoClient('') #here comes the credentials to access Mongo, please insert yours\n",
        "client"
      ],
      "metadata": {
        "id": "hhwtwIuS1oYq"
      },
      "execution_count": null,
      "outputs": []
    },
    {
      "cell_type": "markdown",
      "source": [
        "Create a new database"
      ],
      "metadata": {
        "id": "tvmycWmK2Eii"
      }
    },
    {
      "cell_type": "code",
      "source": [
        "#we check the current databases\n",
        "print(client.list_database_names())"
      ],
      "metadata": {
        "id": "N49-OmcK2C36"
      },
      "execution_count": null,
      "outputs": []
    },
    {
      "cell_type": "code",
      "source": [
        "#create a new database\n",
        "new_bd = 'Yelp-Search'\n",
        "#Database pointer\n",
        "db = client[new_bd]\n",
        "\n",
        "# Collection pointer\n",
        "coll = db[\"New-Search\"]\n",
        "\n",
        "#We instert the file\n",
        "coll.insert_many(results_list)\n",
        "#print(results_list)"
      ],
      "metadata": {
        "id": "-AXW3e0g2V9J"
      },
      "execution_count": null,
      "outputs": []
    }
  ]
}